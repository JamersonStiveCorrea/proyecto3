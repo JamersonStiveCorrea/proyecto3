{
  "nbformat": 4,
  "nbformat_minor": 0,
  "metadata": {
    "colab": {
      "name": "spark.ipynb",
      "provenance": [],
      "collapsed_sections": []
    },
    "kernelspec": {
      "name": "python3",
      "display_name": "Python 3"
    }
  },
  "cells": [
    {
      "cell_type": "markdown",
      "metadata": {
        "id": "25eqxyXvfidd",
        "colab_type": "text"
      },
      "source": [
        "**PROYECTO 3**\n",
        "Realizado por: \n",
        "          * Jamerson Correa\n",
        "          * Daniel Mesa\n",
        "          "
      ]
    },
    {
      "cell_type": "markdown",
      "metadata": {
        "id": "CE_KjdjYf_Y2",
        "colab_type": "text"
      },
      "source": [
        "Utilizamos como muestra poblacional Las mujeres y hombres jovenes de Colombia, dado que según reportes son los principales promotores de que el virus sea propagado."
      ]
    },
    {
      "cell_type": "code",
      "metadata": {
        "id": "Ahdi4jTriLG5",
        "colab_type": "code",
        "colab": {}
      },
      "source": [
        "#Traemos las librerías necesarías google colab\n",
        "import pandas as pd\n",
        "import numpy as np\n",
        "import matplotlib.pyplot as plt"
      ],
      "execution_count": 0,
      "outputs": []
    },
    {
      "cell_type": "markdown",
      "metadata": {
        "id": "0-OSykQUM8So",
        "colab_type": "text"
      },
      "source": [
        "Proveemos un entorno de desarrollo Spark para Google Colab"
      ]
    },
    {
      "cell_type": "code",
      "metadata": {
        "id": "i1-70tq5Dr3Q",
        "colab_type": "code",
        "colab": {}
      },
      "source": [
        "!apt-get install openjdk-8-jdk-headless -qq > /dev/null\n",
        "!wget -q https://downloads.apache.org/spark/spark-2.4.5/spark-2.4.5-bin-hadoop2.6.tgz\n",
        "!tar xf spark-2.4.5-bin-hadoop2.6.tgz\n",
        "!pip install -q findspark"
      ],
      "execution_count": 0,
      "outputs": []
    },
    {
      "cell_type": "code",
      "metadata": {
        "id": "mmpqC4YTEFQK",
        "colab_type": "code",
        "colab": {}
      },
      "source": [
        "import os\n",
        "os.environ[\"JAVA_HOME\"] = \"/usr/lib/jvm/java-8-openjdk-amd64\"\n",
        "os.environ[\"SPARK_HOME\"] = \"/content/spark-2.4.5-bin-hadoop2.6\""
      ],
      "execution_count": 0,
      "outputs": []
    },
    {
      "cell_type": "code",
      "metadata": {
        "id": "-zmgsFgoP11W",
        "colab_type": "code",
        "colab": {}
      },
      "source": [
        "import findspark\n",
        "findspark.init()\n",
        "from pyspark.sql import SparkSession\n",
        "spark = SparkSession.builder.master(\"local[*]\").getOrCreate()\n",
        "sc = spark.sparkContext"
      ],
      "execution_count": 0,
      "outputs": []
    },
    {
      "cell_type": "code",
      "metadata": {
        "id": "hnrCHHdGEI4x",
        "colab_type": "code",
        "colab": {}
      },
      "source": [
        "from google.colab import files"
      ],
      "execution_count": 0,
      "outputs": []
    },
    {
      "cell_type": "markdown",
      "metadata": {
        "id": "2HZ3XzCcWPyM",
        "colab_type": "text"
      },
      "source": [
        "**Para usar desde el clúster EMR**"
      ]
    },
    {
      "cell_type": "code",
      "metadata": {
        "id": "8jyl5BO0WMyu",
        "colab_type": "code",
        "colab": {}
      },
      "source": [
        "sc"
      ],
      "execution_count": 0,
      "outputs": []
    },
    {
      "cell_type": "code",
      "metadata": {
        "id": "DyEiUju2Xm6C",
        "colab_type": "code",
        "colab": {}
      },
      "source": [
        "from pyspark.sql import SparkSession"
      ],
      "execution_count": 0,
      "outputs": []
    },
    {
      "cell_type": "code",
      "metadata": {
        "id": "DMN8PXx_Ydwv",
        "colab_type": "code",
        "colab": {}
      },
      "source": [
        "sc.install_pypi_package(\"matplotlib\")\n",
        "sc.install_pypi_package(\"Pandas\")\n",
        "import pandas as pd\n",
        "import matplotlib.pyplot as plt"
      ],
      "execution_count": 0,
      "outputs": []
    },
    {
      "cell_type": "code",
      "metadata": {
        "id": "0k1RX0B2ZO8V",
        "colab_type": "code",
        "colab": {}
      },
      "source": [
        "spark=SparkSession.builder.appName('data_covid').getOrCreate()"
      ],
      "execution_count": 0,
      "outputs": []
    },
    {
      "cell_type": "markdown",
      "metadata": {
        "id": "FKWC9gmjZcEd",
        "colab_type": "text"
      },
      "source": [
        "**Traer datos desde s3**"
      ]
    },
    {
      "cell_type": "code",
      "metadata": {
        "id": "eMuvk6v2ZXys",
        "colab_type": "code",
        "colab": {}
      },
      "source": [
        "dfc=spark.read.csv('s3://jscorreacdatasets/covid-19/data.csv',inferSchema=True,header=True)"
      ],
      "execution_count": 0,
      "outputs": []
    },
    {
      "cell_type": "code",
      "metadata": {
        "id": "NE9isI9iZvHz",
        "colab_type": "code",
        "colab": {}
      },
      "source": [
        "dfm=spark.read.csv('s3://jscorreacdatasets/covid-19/time_series_covid19_confirmed_global_iso3_regions.csv',inferSchema=True,header=True)"
      ],
      "execution_count": 0,
      "outputs": []
    },
    {
      "cell_type": "code",
      "metadata": {
        "id": "1J_Apw3HaFA3",
        "colab_type": "code",
        "colab": {}
      },
      "source": [
        "dfm_recovered=spark.read.csv('s3://jscorreacdatasets/covid-19/time_series_covid19_recovered_global.csv',inferSchema=True,header=True)"
      ],
      "execution_count": 0,
      "outputs": []
    },
    {
      "cell_type": "code",
      "metadata": {
        "id": "2m7ySlNAabSq",
        "colab_type": "code",
        "colab": {}
      },
      "source": [
        "dfm_death=spark.read.csv('s3://jscorreacdatasets/covid-19/time_series_covid19_deaths_global.csv',inferSchema=True,header=True)"
      ],
      "execution_count": 0,
      "outputs": []
    },
    {
      "cell_type": "code",
      "metadata": {
        "id": "Py5Rw6UmcC1Z",
        "colab_type": "code",
        "colab": {}
      },
      "source": [
        "dfm_narrow=spark.read.csv('s3://jscorreacdatasets/covid-19/time_series_covid19_confirmed_global_narrow.csv',inferSchema=True,header=True)"
      ],
      "execution_count": 0,
      "outputs": []
    },
    {
      "cell_type": "code",
      "metadata": {
        "id": "iuevxzlccQ6I",
        "colab_type": "code",
        "colab": {}
      },
      "source": [
        "dfm_recovered_narrow = spark.read.csv('s3://jscorreacdatasets/covid-19/time_series_covid19_recovered_global_narrow.csv',inferSchema=True,header=True)"
      ],
      "execution_count": 0,
      "outputs": []
    },
    {
      "cell_type": "code",
      "metadata": {
        "id": "vBEV70FjcdTM",
        "colab_type": "code",
        "colab": {}
      },
      "source": [
        "dfm_death_narrow = spark.read.csv('s3://jscorreacdatasets/covid-19/time_series_covid19_deaths_global_narrow.csv',inferSchema=True,header=True)"
      ],
      "execution_count": 0,
      "outputs": []
    },
    {
      "cell_type": "code",
      "metadata": {
        "id": "9vGCSIFGc6lt",
        "colab_type": "code",
        "colab": {}
      },
      "source": [
        "dfm_death_iso = spark.read.csv('s3://jscorreacdatasets/covid-19/time_series_covid19_deaths_global_iso3_regions.csv',inferSchema=True,header=True)"
      ],
      "execution_count": 0,
      "outputs": []
    },
    {
      "cell_type": "code",
      "metadata": {
        "id": "uUKpDjXRdOdC",
        "colab_type": "code",
        "colab": {}
      },
      "source": [
        "dfm_recovered_iso = spark.read.csv('s3://jscorreacdatasets/covid-19/time_series_covid19_recovered_global_iso3_regions.csv',inferSchema=True,header=True)"
      ],
      "execution_count": 0,
      "outputs": []
    },
    {
      "cell_type": "markdown",
      "metadata": {
        "id": "05KLeWZ9evRy",
        "colab_type": "text"
      },
      "source": [
        "**Cargamos los datasets para google colab desde local**"
      ]
    },
    {
      "cell_type": "code",
      "metadata": {
        "id": "G87o9R4ZiSUQ",
        "colab_type": "code",
        "outputId": "f36bd822-8a7c-4827-a981-522b40e7f8a6",
        "colab": {
          "resources": {
            "http://localhost:8080/nbextensions/google.colab/files.js": {
              "data": "Ly8gQ29weXJpZ2h0IDIwMTcgR29vZ2xlIExMQwovLwovLyBMaWNlbnNlZCB1bmRlciB0aGUgQXBhY2hlIExpY2Vuc2UsIFZlcnNpb24gMi4wICh0aGUgIkxpY2Vuc2UiKTsKLy8geW91IG1heSBub3QgdXNlIHRoaXMgZmlsZSBleGNlcHQgaW4gY29tcGxpYW5jZSB3aXRoIHRoZSBMaWNlbnNlLgovLyBZb3UgbWF5IG9idGFpbiBhIGNvcHkgb2YgdGhlIExpY2Vuc2UgYXQKLy8KLy8gICAgICBodHRwOi8vd3d3LmFwYWNoZS5vcmcvbGljZW5zZXMvTElDRU5TRS0yLjAKLy8KLy8gVW5sZXNzIHJlcXVpcmVkIGJ5IGFwcGxpY2FibGUgbGF3IG9yIGFncmVlZCB0byBpbiB3cml0aW5nLCBzb2Z0d2FyZQovLyBkaXN0cmlidXRlZCB1bmRlciB0aGUgTGljZW5zZSBpcyBkaXN0cmlidXRlZCBvbiBhbiAiQVMgSVMiIEJBU0lTLAovLyBXSVRIT1VUIFdBUlJBTlRJRVMgT1IgQ09ORElUSU9OUyBPRiBBTlkgS0lORCwgZWl0aGVyIGV4cHJlc3Mgb3IgaW1wbGllZC4KLy8gU2VlIHRoZSBMaWNlbnNlIGZvciB0aGUgc3BlY2lmaWMgbGFuZ3VhZ2UgZ292ZXJuaW5nIHBlcm1pc3Npb25zIGFuZAovLyBsaW1pdGF0aW9ucyB1bmRlciB0aGUgTGljZW5zZS4KCi8qKgogKiBAZmlsZW92ZXJ2aWV3IEhlbHBlcnMgZm9yIGdvb2dsZS5jb2xhYiBQeXRob24gbW9kdWxlLgogKi8KKGZ1bmN0aW9uKHNjb3BlKSB7CmZ1bmN0aW9uIHNwYW4odGV4dCwgc3R5bGVBdHRyaWJ1dGVzID0ge30pIHsKICBjb25zdCBlbGVtZW50ID0gZG9jdW1lbnQuY3JlYXRlRWxlbWVudCgnc3BhbicpOwogIGVsZW1lbnQudGV4dENvbnRlbnQgPSB0ZXh0OwogIGZvciAoY29uc3Qga2V5IG9mIE9iamVjdC5rZXlzKHN0eWxlQXR0cmlidXRlcykpIHsKICAgIGVsZW1lbnQuc3R5bGVba2V5XSA9IHN0eWxlQXR0cmlidXRlc1trZXldOwogIH0KICByZXR1cm4gZWxlbWVudDsKfQoKLy8gTWF4IG51bWJlciBvZiBieXRlcyB3aGljaCB3aWxsIGJlIHVwbG9hZGVkIGF0IGEgdGltZS4KY29uc3QgTUFYX1BBWUxPQURfU0laRSA9IDEwMCAqIDEwMjQ7Ci8vIE1heCBhbW91bnQgb2YgdGltZSB0byBibG9jayB3YWl0aW5nIGZvciB0aGUgdXNlci4KY29uc3QgRklMRV9DSEFOR0VfVElNRU9VVF9NUyA9IDMwICogMTAwMDsKCmZ1bmN0aW9uIF91cGxvYWRGaWxlcyhpbnB1dElkLCBvdXRwdXRJZCkgewogIGNvbnN0IHN0ZXBzID0gdXBsb2FkRmlsZXNTdGVwKGlucHV0SWQsIG91dHB1dElkKTsKICBjb25zdCBvdXRwdXRFbGVtZW50ID0gZG9jdW1lbnQuZ2V0RWxlbWVudEJ5SWQob3V0cHV0SWQpOwogIC8vIENhY2hlIHN0ZXBzIG9uIHRoZSBvdXRwdXRFbGVtZW50IHRvIG1ha2UgaXQgYXZhaWxhYmxlIGZvciB0aGUgbmV4dCBjYWxsCiAgLy8gdG8gdXBsb2FkRmlsZXNDb250aW51ZSBmcm9tIFB5dGhvbi4KICBvdXRwdXRFbGVtZW50LnN0ZXBzID0gc3RlcHM7CgogIHJldHVybiBfdXBsb2FkRmlsZXNDb250aW51ZShvdXRwdXRJZCk7Cn0KCi8vIFRoaXMgaXMgcm91Z2hseSBhbiBhc3luYyBnZW5lcmF0b3IgKG5vdCBzdXBwb3J0ZWQgaW4gdGhlIGJyb3dzZXIgeWV0KSwKLy8gd2hlcmUgdGhlcmUgYXJlIG11bHRpcGxlIGFzeW5jaHJvbm91cyBzdGVwcyBhbmQgdGhlIFB5dGhvbiBzaWRlIGlzIGdvaW5nCi8vIHRvIHBvbGwgZm9yIGNvbXBsZXRpb24gb2YgZWFjaCBzdGVwLgovLyBUaGlzIHVzZXMgYSBQcm9taXNlIHRvIGJsb2NrIHRoZSBweXRob24gc2lkZSBvbiBjb21wbGV0aW9uIG9mIGVhY2ggc3RlcCwKLy8gdGhlbiBwYXNzZXMgdGhlIHJlc3VsdCBvZiB0aGUgcHJldmlvdXMgc3RlcCBhcyB0aGUgaW5wdXQgdG8gdGhlIG5leHQgc3RlcC4KZnVuY3Rpb24gX3VwbG9hZEZpbGVzQ29udGludWUob3V0cHV0SWQpIHsKICBjb25zdCBvdXRwdXRFbGVtZW50ID0gZG9jdW1lbnQuZ2V0RWxlbWVudEJ5SWQob3V0cHV0SWQpOwogIGNvbnN0IHN0ZXBzID0gb3V0cHV0RWxlbWVudC5zdGVwczsKCiAgY29uc3QgbmV4dCA9IHN0ZXBzLm5leHQob3V0cHV0RWxlbWVudC5sYXN0UHJvbWlzZVZhbHVlKTsKICByZXR1cm4gUHJvbWlzZS5yZXNvbHZlKG5leHQudmFsdWUucHJvbWlzZSkudGhlbigodmFsdWUpID0+IHsKICAgIC8vIENhY2hlIHRoZSBsYXN0IHByb21pc2UgdmFsdWUgdG8gbWFrZSBpdCBhdmFpbGFibGUgdG8gdGhlIG5leHQKICAgIC8vIHN0ZXAgb2YgdGhlIGdlbmVyYXRvci4KICAgIG91dHB1dEVsZW1lbnQubGFzdFByb21pc2VWYWx1ZSA9IHZhbHVlOwogICAgcmV0dXJuIG5leHQudmFsdWUucmVzcG9uc2U7CiAgfSk7Cn0KCi8qKgogKiBHZW5lcmF0b3IgZnVuY3Rpb24gd2hpY2ggaXMgY2FsbGVkIGJldHdlZW4gZWFjaCBhc3luYyBzdGVwIG9mIHRoZSB1cGxvYWQKICogcHJvY2Vzcy4KICogQHBhcmFtIHtzdHJpbmd9IGlucHV0SWQgRWxlbWVudCBJRCBvZiB0aGUgaW5wdXQgZmlsZSBwaWNrZXIgZWxlbWVudC4KICogQHBhcmFtIHtzdHJpbmd9IG91dHB1dElkIEVsZW1lbnQgSUQgb2YgdGhlIG91dHB1dCBkaXNwbGF5LgogKiBAcmV0dXJuIHshSXRlcmFibGU8IU9iamVjdD59IEl0ZXJhYmxlIG9mIG5leHQgc3RlcHMuCiAqLwpmdW5jdGlvbiogdXBsb2FkRmlsZXNTdGVwKGlucHV0SWQsIG91dHB1dElkKSB7CiAgY29uc3QgaW5wdXRFbGVtZW50ID0gZG9jdW1lbnQuZ2V0RWxlbWVudEJ5SWQoaW5wdXRJZCk7CiAgaW5wdXRFbGVtZW50LmRpc2FibGVkID0gZmFsc2U7CgogIGNvbnN0IG91dHB1dEVsZW1lbnQgPSBkb2N1bWVudC5nZXRFbGVtZW50QnlJZChvdXRwdXRJZCk7CiAgb3V0cHV0RWxlbWVudC5pbm5lckhUTUwgPSAnJzsKCiAgY29uc3QgcGlja2VkUHJvbWlzZSA9IG5ldyBQcm9taXNlKChyZXNvbHZlKSA9PiB7CiAgICBpbnB1dEVsZW1lbnQuYWRkRXZlbnRMaXN0ZW5lcignY2hhbmdlJywgKGUpID0+IHsKICAgICAgcmVzb2x2ZShlLnRhcmdldC5maWxlcyk7CiAgICB9KTsKICB9KTsKCiAgY29uc3QgY2FuY2VsID0gZG9jdW1lbnQuY3JlYXRlRWxlbWVudCgnYnV0dG9uJyk7CiAgaW5wdXRFbGVtZW50LnBhcmVudEVsZW1lbnQuYXBwZW5kQ2hpbGQoY2FuY2VsKTsKICBjYW5jZWwudGV4dENvbnRlbnQgPSAnQ2FuY2VsIHVwbG9hZCc7CiAgY29uc3QgY2FuY2VsUHJvbWlzZSA9IG5ldyBQcm9taXNlKChyZXNvbHZlKSA9PiB7CiAgICBjYW5jZWwub25jbGljayA9ICgpID0+IHsKICAgICAgcmVzb2x2ZShudWxsKTsKICAgIH07CiAgfSk7CgogIC8vIENhbmNlbCB1cGxvYWQgaWYgdXNlciBoYXNuJ3QgcGlja2VkIGFueXRoaW5nIGluIHRpbWVvdXQuCiAgY29uc3QgdGltZW91dFByb21pc2UgPSBuZXcgUHJvbWlzZSgocmVzb2x2ZSkgPT4gewogICAgc2V0VGltZW91dCgoKSA9PiB7CiAgICAgIHJlc29sdmUobnVsbCk7CiAgICB9LCBGSUxFX0NIQU5HRV9USU1FT1VUX01TKTsKICB9KTsKCiAgLy8gV2FpdCBmb3IgdGhlIHVzZXIgdG8gcGljayB0aGUgZmlsZXMuCiAgY29uc3QgZmlsZXMgPSB5aWVsZCB7CiAgICBwcm9taXNlOiBQcm9taXNlLnJhY2UoW3BpY2tlZFByb21pc2UsIHRpbWVvdXRQcm9taXNlLCBjYW5jZWxQcm9taXNlXSksCiAgICByZXNwb25zZTogewogICAgICBhY3Rpb246ICdzdGFydGluZycsCiAgICB9CiAgfTsKCiAgaWYgKCFmaWxlcykgewogICAgcmV0dXJuIHsKICAgICAgcmVzcG9uc2U6IHsKICAgICAgICBhY3Rpb246ICdjb21wbGV0ZScsCiAgICAgIH0KICAgIH07CiAgfQoKICBjYW5jZWwucmVtb3ZlKCk7CgogIC8vIERpc2FibGUgdGhlIGlucHV0IGVsZW1lbnQgc2luY2UgZnVydGhlciBwaWNrcyBhcmUgbm90IGFsbG93ZWQuCiAgaW5wdXRFbGVtZW50LmRpc2FibGVkID0gdHJ1ZTsKCiAgZm9yIChjb25zdCBmaWxlIG9mIGZpbGVzKSB7CiAgICBjb25zdCBsaSA9IGRvY3VtZW50LmNyZWF0ZUVsZW1lbnQoJ2xpJyk7CiAgICBsaS5hcHBlbmQoc3BhbihmaWxlLm5hbWUsIHtmb250V2VpZ2h0OiAnYm9sZCd9KSk7CiAgICBsaS5hcHBlbmQoc3BhbigKICAgICAgICBgKCR7ZmlsZS50eXBlIHx8ICduL2EnfSkgLSAke2ZpbGUuc2l6ZX0gYnl0ZXMsIGAgKwogICAgICAgIGBsYXN0IG1vZGlmaWVkOiAkewogICAgICAgICAgICBmaWxlLmxhc3RNb2RpZmllZERhdGUgPyBmaWxlLmxhc3RNb2RpZmllZERhdGUudG9Mb2NhbGVEYXRlU3RyaW5nKCkgOgogICAgICAgICAgICAgICAgICAgICAgICAgICAgICAgICAgICAnbi9hJ30gLSBgKSk7CiAgICBjb25zdCBwZXJjZW50ID0gc3BhbignMCUgZG9uZScpOwogICAgbGkuYXBwZW5kQ2hpbGQocGVyY2VudCk7CgogICAgb3V0cHV0RWxlbWVudC5hcHBlbmRDaGlsZChsaSk7CgogICAgY29uc3QgZmlsZURhdGFQcm9taXNlID0gbmV3IFByb21pc2UoKHJlc29sdmUpID0+IHsKICAgICAgY29uc3QgcmVhZGVyID0gbmV3IEZpbGVSZWFkZXIoKTsKICAgICAgcmVhZGVyLm9ubG9hZCA9IChlKSA9PiB7CiAgICAgICAgcmVzb2x2ZShlLnRhcmdldC5yZXN1bHQpOwogICAgICB9OwogICAgICByZWFkZXIucmVhZEFzQXJyYXlCdWZmZXIoZmlsZSk7CiAgICB9KTsKICAgIC8vIFdhaXQgZm9yIHRoZSBkYXRhIHRvIGJlIHJlYWR5LgogICAgbGV0IGZpbGVEYXRhID0geWllbGQgewogICAgICBwcm9taXNlOiBmaWxlRGF0YVByb21pc2UsCiAgICAgIHJlc3BvbnNlOiB7CiAgICAgICAgYWN0aW9uOiAnY29udGludWUnLAogICAgICB9CiAgICB9OwoKICAgIC8vIFVzZSBhIGNodW5rZWQgc2VuZGluZyB0byBhdm9pZCBtZXNzYWdlIHNpemUgbGltaXRzLiBTZWUgYi82MjExNTY2MC4KICAgIGxldCBwb3NpdGlvbiA9IDA7CiAgICB3aGlsZSAocG9zaXRpb24gPCBmaWxlRGF0YS5ieXRlTGVuZ3RoKSB7CiAgICAgIGNvbnN0IGxlbmd0aCA9IE1hdGgubWluKGZpbGVEYXRhLmJ5dGVMZW5ndGggLSBwb3NpdGlvbiwgTUFYX1BBWUxPQURfU0laRSk7CiAgICAgIGNvbnN0IGNodW5rID0gbmV3IFVpbnQ4QXJyYXkoZmlsZURhdGEsIHBvc2l0aW9uLCBsZW5ndGgpOwogICAgICBwb3NpdGlvbiArPSBsZW5ndGg7CgogICAgICBjb25zdCBiYXNlNjQgPSBidG9hKFN0cmluZy5mcm9tQ2hhckNvZGUuYXBwbHkobnVsbCwgY2h1bmspKTsKICAgICAgeWllbGQgewogICAgICAgIHJlc3BvbnNlOiB7CiAgICAgICAgICBhY3Rpb246ICdhcHBlbmQnLAogICAgICAgICAgZmlsZTogZmlsZS5uYW1lLAogICAgICAgICAgZGF0YTogYmFzZTY0LAogICAgICAgIH0sCiAgICAgIH07CiAgICAgIHBlcmNlbnQudGV4dENvbnRlbnQgPQogICAgICAgICAgYCR7TWF0aC5yb3VuZCgocG9zaXRpb24gLyBmaWxlRGF0YS5ieXRlTGVuZ3RoKSAqIDEwMCl9JSBkb25lYDsKICAgIH0KICB9CgogIC8vIEFsbCBkb25lLgogIHlpZWxkIHsKICAgIHJlc3BvbnNlOiB7CiAgICAgIGFjdGlvbjogJ2NvbXBsZXRlJywKICAgIH0KICB9Owp9CgpzY29wZS5nb29nbGUgPSBzY29wZS5nb29nbGUgfHwge307CnNjb3BlLmdvb2dsZS5jb2xhYiA9IHNjb3BlLmdvb2dsZS5jb2xhYiB8fCB7fTsKc2NvcGUuZ29vZ2xlLmNvbGFiLl9maWxlcyA9IHsKICBfdXBsb2FkRmlsZXMsCiAgX3VwbG9hZEZpbGVzQ29udGludWUsCn07Cn0pKHNlbGYpOwo=",
              "ok": true,
              "headers": [
                [
                  "content-type",
                  "application/javascript"
                ]
              ],
              "status": 200,
              "status_text": ""
            }
          },
          "base_uri": "https://localhost:8080/",
          "height": 57
        }
      },
      "source": [
        "\n",
        "files.upload()"
      ],
      "execution_count": 128,
      "outputs": [
        {
          "output_type": "display_data",
          "data": {
            "text/html": [
              "\n",
              "     <input type=\"file\" id=\"files-9d327847-61c6-4042-9874-e29cf66bce23\" name=\"files[]\" multiple disabled />\n",
              "     <output id=\"result-9d327847-61c6-4042-9874-e29cf66bce23\">\n",
              "      Upload widget is only available when the cell has been executed in the\n",
              "      current browser session. Please rerun this cell to enable.\n",
              "      </output>\n",
              "      <script src=\"/nbextensions/google.colab/files.js\"></script> "
            ],
            "text/plain": [
              "<IPython.core.display.HTML object>"
            ]
          },
          "metadata": {
            "tags": []
          }
        },
        {
          "output_type": "execute_result",
          "data": {
            "text/plain": [
              "{}"
            ]
          },
          "metadata": {
            "tags": []
          },
          "execution_count": 128
        }
      ]
    },
    {
      "cell_type": "markdown",
      "metadata": {
        "id": "aiCt0kILOqh0",
        "colab_type": "text"
      },
      "source": [
        "**Creamos los Data Frame de trabajo**"
      ]
    },
    {
      "cell_type": "code",
      "metadata": {
        "id": "J_xnBcAIxsSe",
        "colab_type": "code",
        "colab": {}
      },
      "source": [
        "spark=SparkSession.builder.appName('data_covid').getOrCreate()"
      ],
      "execution_count": 0,
      "outputs": []
    },
    {
      "cell_type": "code",
      "metadata": {
        "id": "Ujm6EqoMw5Rc",
        "colab_type": "code",
        "colab": {}
      },
      "source": [
        "dfm=spark.read.csv('time_series_covid19_confirmed_global_iso3_regions.csv',inferSchema=True,header=True)"
      ],
      "execution_count": 0,
      "outputs": []
    },
    {
      "cell_type": "code",
      "metadata": {
        "id": "gzVDfKVQ5BhA",
        "colab_type": "code",
        "colab": {}
      },
      "source": [
        "dfm_narrow=spark.read.csv('time_series_covid19_confirmed_global_narrow.csv',inferSchema=True,header=True)"
      ],
      "execution_count": 0,
      "outputs": []
    },
    {
      "cell_type": "code",
      "metadata": {
        "id": "9HN_tTMTw5Rf",
        "colab_type": "code",
        "colab": {}
      },
      "source": [
        "dfm_recovered=spark.read.csv('time_series_covid19_recovered_global.csv',inferSchema=True,header=True)"
      ],
      "execution_count": 0,
      "outputs": []
    },
    {
      "cell_type": "code",
      "metadata": {
        "scrolled": true,
        "id": "xvdW1Jbuw5Rj",
        "colab_type": "code",
        "colab": {}
      },
      "source": [
        "dfm_death=spark.read.csv('time_series_covid19_deaths_global.csv',inferSchema=True,header=True)"
      ],
      "execution_count": 0,
      "outputs": []
    },
    {
      "cell_type": "code",
      "metadata": {
        "id": "iSvbPsqRqiA3",
        "colab_type": "code",
        "colab": {}
      },
      "source": [
        "dfm_recovered_iso = spark.read.csv('time_series_covid19_recovered_global_iso3_regions.csv',inferSchema=True,header=True)"
      ],
      "execution_count": 0,
      "outputs": []
    },
    {
      "cell_type": "code",
      "metadata": {
        "id": "qeelqhAnqiOv",
        "colab_type": "code",
        "colab": {}
      },
      "source": [
        "dfm_recovered_narrow = spark.read.csv('time_series_covid19_recovered_global_narrow.csv',inferSchema=True,header=True)"
      ],
      "execution_count": 0,
      "outputs": []
    },
    {
      "cell_type": "code",
      "metadata": {
        "id": "zCQGlopbqiZg",
        "colab_type": "code",
        "colab": {}
      },
      "source": [
        "dfm_death_narrow = spark.read.csv('time_series_covid19_deaths_global_narrow.csv',inferSchema=True,header=True)"
      ],
      "execution_count": 0,
      "outputs": []
    },
    {
      "cell_type": "code",
      "metadata": {
        "id": "tVdvBhCcqqHL",
        "colab_type": "code",
        "colab": {}
      },
      "source": [
        "dfm_death_iso = spark.read.csv('time_series_covid19_deaths_global_iso3_regions.csv',inferSchema=True,header=True)"
      ],
      "execution_count": 0,
      "outputs": []
    },
    {
      "cell_type": "code",
      "metadata": {
        "id": "O0IWSwi9geBS",
        "colab_type": "code",
        "colab": {}
      },
      "source": [
        "#Data Frame de Colombia#\n",
        "dfc=spark.read.csv('data.csv',inferSchema=True,header=True)"
      ],
      "execution_count": 0,
      "outputs": []
    },
    {
      "cell_type": "markdown",
      "metadata": {
        "id": "StC0JJnHPpCo",
        "colab_type": "text"
      },
      "source": [
        "**Observamos de qué se conforma cada datasets**"
      ]
    },
    {
      "cell_type": "code",
      "metadata": {
        "id": "PxiXCsD41H_A",
        "colab_type": "code",
        "outputId": "117c49d5-c814-4993-f325-bdcfd023c486",
        "colab": {
          "base_uri": "https://localhost:8080/",
          "height": 1000
        }
      },
      "source": [
        "dfm.printSchema()"
      ],
      "execution_count": 0,
      "outputs": [
        {
          "output_type": "stream",
          "text": [
            "root\n",
            " |-- Province/State: string (nullable = true)\n",
            " |-- Country/Region: string (nullable = true)\n",
            " |-- Lat: string (nullable = true)\n",
            " |-- Long: string (nullable = true)\n",
            " |-- 1/22/20: integer (nullable = true)\n",
            " |-- 1/23/20: integer (nullable = true)\n",
            " |-- 1/24/20: integer (nullable = true)\n",
            " |-- 1/25/20: integer (nullable = true)\n",
            " |-- 1/26/20: integer (nullable = true)\n",
            " |-- 1/27/20: integer (nullable = true)\n",
            " |-- 1/28/20: integer (nullable = true)\n",
            " |-- 1/29/20: integer (nullable = true)\n",
            " |-- 1/30/20: integer (nullable = true)\n",
            " |-- 1/31/20: integer (nullable = true)\n",
            " |-- 2/1/20: integer (nullable = true)\n",
            " |-- 2/2/20: integer (nullable = true)\n",
            " |-- 2/3/20: integer (nullable = true)\n",
            " |-- 2/4/20: integer (nullable = true)\n",
            " |-- 2/5/20: integer (nullable = true)\n",
            " |-- 2/6/20: integer (nullable = true)\n",
            " |-- 2/7/20: integer (nullable = true)\n",
            " |-- 2/8/20: integer (nullable = true)\n",
            " |-- 2/9/20: integer (nullable = true)\n",
            " |-- 2/10/20: integer (nullable = true)\n",
            " |-- 2/11/20: integer (nullable = true)\n",
            " |-- 2/12/20: integer (nullable = true)\n",
            " |-- 2/13/20: integer (nullable = true)\n",
            " |-- 2/14/20: integer (nullable = true)\n",
            " |-- 2/15/20: integer (nullable = true)\n",
            " |-- 2/16/20: integer (nullable = true)\n",
            " |-- 2/17/20: integer (nullable = true)\n",
            " |-- 2/18/20: integer (nullable = true)\n",
            " |-- 2/19/20: integer (nullable = true)\n",
            " |-- 2/20/20: integer (nullable = true)\n",
            " |-- 2/21/20: integer (nullable = true)\n",
            " |-- 2/22/20: integer (nullable = true)\n",
            " |-- 2/23/20: integer (nullable = true)\n",
            " |-- 2/24/20: integer (nullable = true)\n",
            " |-- 2/25/20: integer (nullable = true)\n",
            " |-- 2/26/20: integer (nullable = true)\n",
            " |-- 2/27/20: integer (nullable = true)\n",
            " |-- 2/28/20: integer (nullable = true)\n",
            " |-- 2/29/20: integer (nullable = true)\n",
            " |-- 3/1/20: integer (nullable = true)\n",
            " |-- 3/2/20: integer (nullable = true)\n",
            " |-- 3/3/20: integer (nullable = true)\n",
            " |-- 3/4/20: integer (nullable = true)\n",
            " |-- 3/5/20: integer (nullable = true)\n",
            " |-- 3/6/20: integer (nullable = true)\n",
            " |-- 3/7/20: integer (nullable = true)\n",
            " |-- 3/8/20: integer (nullable = true)\n",
            " |-- 3/9/20: integer (nullable = true)\n",
            " |-- 3/10/20: integer (nullable = true)\n",
            " |-- 3/11/20: integer (nullable = true)\n",
            " |-- 3/12/20: integer (nullable = true)\n",
            " |-- 3/13/20: integer (nullable = true)\n",
            " |-- 3/14/20: integer (nullable = true)\n",
            " |-- 3/15/20: integer (nullable = true)\n",
            " |-- 3/16/20: integer (nullable = true)\n",
            " |-- 3/17/20: integer (nullable = true)\n",
            " |-- 3/18/20: integer (nullable = true)\n",
            " |-- 3/19/20: integer (nullable = true)\n",
            " |-- 3/20/20: integer (nullable = true)\n",
            " |-- 3/21/20: integer (nullable = true)\n",
            " |-- 3/22/20: integer (nullable = true)\n",
            " |-- 3/23/20: integer (nullable = true)\n",
            " |-- 3/24/20: integer (nullable = true)\n",
            " |-- 3/25/20: integer (nullable = true)\n",
            " |-- 3/26/20: integer (nullable = true)\n",
            " |-- 3/27/20: integer (nullable = true)\n",
            " |-- 3/28/20: integer (nullable = true)\n",
            " |-- 3/29/20: integer (nullable = true)\n",
            " |-- 3/30/20: integer (nullable = true)\n",
            " |-- 3/31/20: integer (nullable = true)\n",
            " |-- 4/1/20: integer (nullable = true)\n",
            " |-- 4/2/20: integer (nullable = true)\n",
            " |-- 4/3/20: integer (nullable = true)\n",
            " |-- 4/4/20: integer (nullable = true)\n",
            " |-- 4/5/20: integer (nullable = true)\n",
            " |-- 4/6/20: integer (nullable = true)\n",
            " |-- 4/7/20: integer (nullable = true)\n",
            " |-- 4/8/20: integer (nullable = true)\n",
            " |-- 4/9/20: integer (nullable = true)\n",
            " |-- 4/10/20: integer (nullable = true)\n",
            " |-- 4/11/20: integer (nullable = true)\n",
            " |-- 4/12/20: integer (nullable = true)\n",
            " |-- 4/13/20: integer (nullable = true)\n",
            " |-- 4/14/20: integer (nullable = true)\n",
            " |-- 4/15/20: integer (nullable = true)\n",
            " |-- 4/16/20: integer (nullable = true)\n",
            " |-- 4/17/20: integer (nullable = true)\n",
            " |-- 4/18/20: integer (nullable = true)\n",
            " |-- 4/19/20: integer (nullable = true)\n",
            " |-- 4/20/20: integer (nullable = true)\n",
            " |-- 4/21/20: integer (nullable = true)\n",
            " |-- 4/22/20: integer (nullable = true)\n",
            " |-- 4/23/20: integer (nullable = true)\n",
            " |-- 4/24/20: integer (nullable = true)\n",
            " |-- 4/25/20: integer (nullable = true)\n",
            " |-- 4/26/20: integer (nullable = true)\n",
            " |-- 4/27/20: integer (nullable = true)\n",
            " |-- 4/28/20: integer (nullable = true)\n",
            " |-- 4/29/20: integer (nullable = true)\n",
            " |-- 4/30/20: integer (nullable = true)\n",
            " |-- 5/1/20: integer (nullable = true)\n",
            " |-- 5/2/20: integer (nullable = true)\n",
            " |-- 5/3/20: integer (nullable = true)\n",
            " |-- 5/4/20: integer (nullable = true)\n",
            " |-- 5/5/20: integer (nullable = true)\n",
            " |-- 5/6/20: integer (nullable = true)\n",
            " |-- 5/7/20: integer (nullable = true)\n",
            " |-- 5/8/20: integer (nullable = true)\n",
            " |-- 5/9/20: integer (nullable = true)\n",
            " |-- 5/10/20: integer (nullable = true)\n",
            " |-- 5/11/20: integer (nullable = true)\n",
            " |-- 5/12/20: integer (nullable = true)\n",
            " |-- 5/13/20: integer (nullable = true)\n",
            " |-- 5/14/20: integer (nullable = true)\n",
            " |-- ISO 3166-1 Alpha 3-Codes: string (nullable = true)\n",
            " |-- Region Code: string (nullable = true)\n",
            " |-- Region Name: string (nullable = true)\n",
            " |-- Sub-region Code: string (nullable = true)\n",
            " |-- Sub-region Name: string (nullable = true)\n",
            " |-- Intermediate Region Code: string (nullable = true)\n",
            " |-- Intermediate Region Name: string (nullable = true)\n",
            "\n"
          ],
          "name": "stdout"
        }
      ]
    },
    {
      "cell_type": "code",
      "metadata": {
        "id": "-SUsgdo75N7G",
        "colab_type": "code",
        "outputId": "e56bc93b-4a3e-4fcb-b999-31ffcf842567",
        "colab": {
          "base_uri": "https://localhost:8080/",
          "height": 218
        }
      },
      "source": [
        "dfm_narrow.printSchema()"
      ],
      "execution_count": 0,
      "outputs": [
        {
          "output_type": "stream",
          "text": [
            "root\n",
            " |-- Province/State: string (nullable = true)\n",
            " |-- Country/Region: string (nullable = true)\n",
            " |-- Lat: string (nullable = true)\n",
            " |-- Long: string (nullable = true)\n",
            " |-- Date: string (nullable = true)\n",
            " |-- Value: string (nullable = true)\n",
            " |-- ISO 3166-1 Alpha 3-Codes: string (nullable = true)\n",
            " |-- Region Code: string (nullable = true)\n",
            " |-- Sub-region Code: string (nullable = true)\n",
            " |-- Intermediate Region Code: string (nullable = true)\n",
            "\n"
          ],
          "name": "stdout"
        }
      ]
    },
    {
      "cell_type": "code",
      "metadata": {
        "id": "UPl9QMUs1Vbh",
        "colab_type": "code",
        "outputId": "64a08de1-01a6-478a-d675-ebd68dcbe6b7",
        "colab": {
          "base_uri": "https://localhost:8080/",
          "height": 1000
        }
      },
      "source": [
        "dfm_death.printSchema()"
      ],
      "execution_count": 0,
      "outputs": [
        {
          "output_type": "stream",
          "text": [
            "root\n",
            " |-- Province/State: string (nullable = true)\n",
            " |-- Country/Region: string (nullable = true)\n",
            " |-- Lat: double (nullable = true)\n",
            " |-- Long: double (nullable = true)\n",
            " |-- 1/22/20: integer (nullable = true)\n",
            " |-- 1/23/20: integer (nullable = true)\n",
            " |-- 1/24/20: integer (nullable = true)\n",
            " |-- 1/25/20: integer (nullable = true)\n",
            " |-- 1/26/20: integer (nullable = true)\n",
            " |-- 1/27/20: integer (nullable = true)\n",
            " |-- 1/28/20: integer (nullable = true)\n",
            " |-- 1/29/20: integer (nullable = true)\n",
            " |-- 1/30/20: integer (nullable = true)\n",
            " |-- 1/31/20: integer (nullable = true)\n",
            " |-- 2/1/20: integer (nullable = true)\n",
            " |-- 2/2/20: integer (nullable = true)\n",
            " |-- 2/3/20: integer (nullable = true)\n",
            " |-- 2/4/20: integer (nullable = true)\n",
            " |-- 2/5/20: integer (nullable = true)\n",
            " |-- 2/6/20: integer (nullable = true)\n",
            " |-- 2/7/20: integer (nullable = true)\n",
            " |-- 2/8/20: integer (nullable = true)\n",
            " |-- 2/9/20: integer (nullable = true)\n",
            " |-- 2/10/20: integer (nullable = true)\n",
            " |-- 2/11/20: integer (nullable = true)\n",
            " |-- 2/12/20: integer (nullable = true)\n",
            " |-- 2/13/20: integer (nullable = true)\n",
            " |-- 2/14/20: integer (nullable = true)\n",
            " |-- 2/15/20: integer (nullable = true)\n",
            " |-- 2/16/20: integer (nullable = true)\n",
            " |-- 2/17/20: integer (nullable = true)\n",
            " |-- 2/18/20: integer (nullable = true)\n",
            " |-- 2/19/20: integer (nullable = true)\n",
            " |-- 2/20/20: integer (nullable = true)\n",
            " |-- 2/21/20: integer (nullable = true)\n",
            " |-- 2/22/20: integer (nullable = true)\n",
            " |-- 2/23/20: integer (nullable = true)\n",
            " |-- 2/24/20: integer (nullable = true)\n",
            " |-- 2/25/20: integer (nullable = true)\n",
            " |-- 2/26/20: integer (nullable = true)\n",
            " |-- 2/27/20: integer (nullable = true)\n",
            " |-- 2/28/20: integer (nullable = true)\n",
            " |-- 2/29/20: integer (nullable = true)\n",
            " |-- 3/1/20: integer (nullable = true)\n",
            " |-- 3/2/20: integer (nullable = true)\n",
            " |-- 3/3/20: integer (nullable = true)\n",
            " |-- 3/4/20: integer (nullable = true)\n",
            " |-- 3/5/20: integer (nullable = true)\n",
            " |-- 3/6/20: integer (nullable = true)\n",
            " |-- 3/7/20: integer (nullable = true)\n",
            " |-- 3/8/20: integer (nullable = true)\n",
            " |-- 3/9/20: integer (nullable = true)\n",
            " |-- 3/10/20: integer (nullable = true)\n",
            " |-- 3/11/20: integer (nullable = true)\n",
            " |-- 3/12/20: integer (nullable = true)\n",
            " |-- 3/13/20: integer (nullable = true)\n",
            " |-- 3/14/20: integer (nullable = true)\n",
            " |-- 3/15/20: integer (nullable = true)\n",
            " |-- 3/16/20: integer (nullable = true)\n",
            " |-- 3/17/20: integer (nullable = true)\n",
            " |-- 3/18/20: integer (nullable = true)\n",
            " |-- 3/19/20: integer (nullable = true)\n",
            " |-- 3/20/20: integer (nullable = true)\n",
            " |-- 3/21/20: integer (nullable = true)\n",
            " |-- 3/22/20: integer (nullable = true)\n",
            " |-- 3/23/20: integer (nullable = true)\n",
            " |-- 3/24/20: integer (nullable = true)\n",
            " |-- 3/25/20: integer (nullable = true)\n",
            " |-- 3/26/20: integer (nullable = true)\n",
            " |-- 3/27/20: integer (nullable = true)\n",
            " |-- 3/28/20: integer (nullable = true)\n",
            " |-- 3/29/20: integer (nullable = true)\n",
            " |-- 3/30/20: integer (nullable = true)\n",
            " |-- 3/31/20: integer (nullable = true)\n",
            " |-- 4/1/20: integer (nullable = true)\n",
            " |-- 4/2/20: integer (nullable = true)\n",
            " |-- 4/3/20: integer (nullable = true)\n",
            " |-- 4/4/20: integer (nullable = true)\n",
            " |-- 4/5/20: integer (nullable = true)\n",
            " |-- 4/6/20: integer (nullable = true)\n",
            " |-- 4/7/20: integer (nullable = true)\n",
            " |-- 4/8/20: integer (nullable = true)\n",
            " |-- 4/9/20: integer (nullable = true)\n",
            " |-- 4/10/20: integer (nullable = true)\n",
            " |-- 4/11/20: integer (nullable = true)\n",
            " |-- 4/12/20: integer (nullable = true)\n",
            " |-- 4/13/20: integer (nullable = true)\n",
            " |-- 4/14/20: integer (nullable = true)\n",
            " |-- 4/15/20: integer (nullable = true)\n",
            " |-- 4/16/20: integer (nullable = true)\n",
            " |-- 4/17/20: integer (nullable = true)\n",
            " |-- 4/18/20: integer (nullable = true)\n",
            " |-- 4/19/20: integer (nullable = true)\n",
            " |-- 4/20/20: integer (nullable = true)\n",
            " |-- 4/21/20: integer (nullable = true)\n",
            " |-- 4/22/20: integer (nullable = true)\n",
            " |-- 4/23/20: integer (nullable = true)\n",
            " |-- 4/24/20: integer (nullable = true)\n",
            " |-- 4/25/20: integer (nullable = true)\n",
            " |-- 4/26/20: integer (nullable = true)\n",
            " |-- 4/27/20: integer (nullable = true)\n",
            " |-- 4/28/20: integer (nullable = true)\n",
            " |-- 4/29/20: integer (nullable = true)\n",
            " |-- 4/30/20: integer (nullable = true)\n",
            " |-- 5/1/20: integer (nullable = true)\n",
            " |-- 5/2/20: integer (nullable = true)\n",
            " |-- 5/3/20: integer (nullable = true)\n",
            " |-- 5/4/20: integer (nullable = true)\n",
            " |-- 5/5/20: integer (nullable = true)\n",
            " |-- 5/6/20: integer (nullable = true)\n",
            " |-- 5/7/20: integer (nullable = true)\n",
            " |-- 5/8/20: integer (nullable = true)\n",
            " |-- 5/9/20: integer (nullable = true)\n",
            " |-- 5/10/20: integer (nullable = true)\n",
            " |-- 5/11/20: integer (nullable = true)\n",
            " |-- 5/12/20: integer (nullable = true)\n",
            " |-- 5/13/20: integer (nullable = true)\n",
            " |-- 5/14/20: integer (nullable = true)\n",
            " |-- 5/15/20: integer (nullable = true)\n",
            "\n"
          ],
          "name": "stdout"
        }
      ]
    },
    {
      "cell_type": "code",
      "metadata": {
        "id": "Tr3hjujUrExV",
        "colab_type": "code",
        "outputId": "323e2249-f2b8-40d6-b78c-26291e2f2671",
        "colab": {
          "base_uri": "https://localhost:8080/",
          "height": 1000
        }
      },
      "source": [
        "dfm_death_iso.printSchema()"
      ],
      "execution_count": 0,
      "outputs": [
        {
          "output_type": "stream",
          "text": [
            "root\n",
            " |-- Province/State: string (nullable = true)\n",
            " |-- Country/Region: string (nullable = true)\n",
            " |-- Lat: string (nullable = true)\n",
            " |-- Long: string (nullable = true)\n",
            " |-- 1/22/20: integer (nullable = true)\n",
            " |-- 1/23/20: integer (nullable = true)\n",
            " |-- 1/24/20: integer (nullable = true)\n",
            " |-- 1/25/20: integer (nullable = true)\n",
            " |-- 1/26/20: integer (nullable = true)\n",
            " |-- 1/27/20: integer (nullable = true)\n",
            " |-- 1/28/20: integer (nullable = true)\n",
            " |-- 1/29/20: integer (nullable = true)\n",
            " |-- 1/30/20: integer (nullable = true)\n",
            " |-- 1/31/20: integer (nullable = true)\n",
            " |-- 2/1/20: integer (nullable = true)\n",
            " |-- 2/2/20: integer (nullable = true)\n",
            " |-- 2/3/20: integer (nullable = true)\n",
            " |-- 2/4/20: integer (nullable = true)\n",
            " |-- 2/5/20: integer (nullable = true)\n",
            " |-- 2/6/20: integer (nullable = true)\n",
            " |-- 2/7/20: integer (nullable = true)\n",
            " |-- 2/8/20: integer (nullable = true)\n",
            " |-- 2/9/20: integer (nullable = true)\n",
            " |-- 2/10/20: integer (nullable = true)\n",
            " |-- 2/11/20: integer (nullable = true)\n",
            " |-- 2/12/20: integer (nullable = true)\n",
            " |-- 2/13/20: integer (nullable = true)\n",
            " |-- 2/14/20: integer (nullable = true)\n",
            " |-- 2/15/20: integer (nullable = true)\n",
            " |-- 2/16/20: integer (nullable = true)\n",
            " |-- 2/17/20: integer (nullable = true)\n",
            " |-- 2/18/20: integer (nullable = true)\n",
            " |-- 2/19/20: integer (nullable = true)\n",
            " |-- 2/20/20: integer (nullable = true)\n",
            " |-- 2/21/20: integer (nullable = true)\n",
            " |-- 2/22/20: integer (nullable = true)\n",
            " |-- 2/23/20: integer (nullable = true)\n",
            " |-- 2/24/20: integer (nullable = true)\n",
            " |-- 2/25/20: integer (nullable = true)\n",
            " |-- 2/26/20: integer (nullable = true)\n",
            " |-- 2/27/20: integer (nullable = true)\n",
            " |-- 2/28/20: integer (nullable = true)\n",
            " |-- 2/29/20: integer (nullable = true)\n",
            " |-- 3/1/20: integer (nullable = true)\n",
            " |-- 3/2/20: integer (nullable = true)\n",
            " |-- 3/3/20: integer (nullable = true)\n",
            " |-- 3/4/20: integer (nullable = true)\n",
            " |-- 3/5/20: integer (nullable = true)\n",
            " |-- 3/6/20: integer (nullable = true)\n",
            " |-- 3/7/20: integer (nullable = true)\n",
            " |-- 3/8/20: integer (nullable = true)\n",
            " |-- 3/9/20: integer (nullable = true)\n",
            " |-- 3/10/20: integer (nullable = true)\n",
            " |-- 3/11/20: integer (nullable = true)\n",
            " |-- 3/12/20: integer (nullable = true)\n",
            " |-- 3/13/20: integer (nullable = true)\n",
            " |-- 3/14/20: integer (nullable = true)\n",
            " |-- 3/15/20: integer (nullable = true)\n",
            " |-- 3/16/20: integer (nullable = true)\n",
            " |-- 3/17/20: integer (nullable = true)\n",
            " |-- 3/18/20: integer (nullable = true)\n",
            " |-- 3/19/20: integer (nullable = true)\n",
            " |-- 3/20/20: integer (nullable = true)\n",
            " |-- 3/21/20: integer (nullable = true)\n",
            " |-- 3/22/20: integer (nullable = true)\n",
            " |-- 3/23/20: integer (nullable = true)\n",
            " |-- 3/24/20: integer (nullable = true)\n",
            " |-- 3/25/20: integer (nullable = true)\n",
            " |-- 3/26/20: integer (nullable = true)\n",
            " |-- 3/27/20: integer (nullable = true)\n",
            " |-- 3/28/20: integer (nullable = true)\n",
            " |-- 3/29/20: integer (nullable = true)\n",
            " |-- 3/30/20: integer (nullable = true)\n",
            " |-- 3/31/20: integer (nullable = true)\n",
            " |-- 4/1/20: integer (nullable = true)\n",
            " |-- 4/2/20: integer (nullable = true)\n",
            " |-- 4/3/20: integer (nullable = true)\n",
            " |-- 4/4/20: integer (nullable = true)\n",
            " |-- 4/5/20: integer (nullable = true)\n",
            " |-- 4/6/20: integer (nullable = true)\n",
            " |-- 4/7/20: integer (nullable = true)\n",
            " |-- 4/8/20: integer (nullable = true)\n",
            " |-- 4/9/20: integer (nullable = true)\n",
            " |-- 4/10/20: integer (nullable = true)\n",
            " |-- 4/11/20: integer (nullable = true)\n",
            " |-- 4/12/20: integer (nullable = true)\n",
            " |-- 4/13/20: integer (nullable = true)\n",
            " |-- 4/14/20: integer (nullable = true)\n",
            " |-- 4/15/20: integer (nullable = true)\n",
            " |-- 4/16/20: integer (nullable = true)\n",
            " |-- 4/17/20: integer (nullable = true)\n",
            " |-- 4/18/20: integer (nullable = true)\n",
            " |-- 4/19/20: integer (nullable = true)\n",
            " |-- 4/20/20: integer (nullable = true)\n",
            " |-- 4/21/20: integer (nullable = true)\n",
            " |-- 4/22/20: integer (nullable = true)\n",
            " |-- 4/23/20: integer (nullable = true)\n",
            " |-- 4/24/20: integer (nullable = true)\n",
            " |-- 4/25/20: integer (nullable = true)\n",
            " |-- 4/26/20: integer (nullable = true)\n",
            " |-- 4/27/20: integer (nullable = true)\n",
            " |-- 4/28/20: integer (nullable = true)\n",
            " |-- 4/29/20: integer (nullable = true)\n",
            " |-- 4/30/20: integer (nullable = true)\n",
            " |-- 5/1/20: integer (nullable = true)\n",
            " |-- 5/2/20: integer (nullable = true)\n",
            " |-- 5/3/20: integer (nullable = true)\n",
            " |-- 5/4/20: integer (nullable = true)\n",
            " |-- 5/5/20: integer (nullable = true)\n",
            " |-- 5/6/20: integer (nullable = true)\n",
            " |-- 5/7/20: integer (nullable = true)\n",
            " |-- 5/8/20: integer (nullable = true)\n",
            " |-- 5/9/20: integer (nullable = true)\n",
            " |-- 5/10/20: integer (nullable = true)\n",
            " |-- 5/11/20: integer (nullable = true)\n",
            " |-- 5/12/20: integer (nullable = true)\n",
            " |-- 5/13/20: integer (nullable = true)\n",
            " |-- 5/14/20: integer (nullable = true)\n",
            " |-- 5/15/20: integer (nullable = true)\n",
            " |-- 5/16/20: integer (nullable = true)\n",
            " |-- ISO 3166-1 Alpha 3-Codes: string (nullable = true)\n",
            " |-- Region Code: string (nullable = true)\n",
            " |-- Region Name: string (nullable = true)\n",
            " |-- Sub-region Code: string (nullable = true)\n",
            " |-- Sub-region Name: string (nullable = true)\n",
            " |-- Intermediate Region Code: string (nullable = true)\n",
            " |-- Intermediate Region Name: string (nullable = true)\n",
            "\n"
          ],
          "name": "stdout"
        }
      ]
    },
    {
      "cell_type": "code",
      "metadata": {
        "id": "CHZMqW1frE4s",
        "colab_type": "code",
        "outputId": "975d8aa8-d46e-443a-817e-29225b2768aa",
        "colab": {
          "base_uri": "https://localhost:8080/",
          "height": 218
        }
      },
      "source": [
        "dfm_death_narrow.printSchema()"
      ],
      "execution_count": 0,
      "outputs": [
        {
          "output_type": "stream",
          "text": [
            "root\n",
            " |-- Province/State: string (nullable = true)\n",
            " |-- Country/Region: string (nullable = true)\n",
            " |-- Lat: string (nullable = true)\n",
            " |-- Long: string (nullable = true)\n",
            " |-- Date: string (nullable = true)\n",
            " |-- Value: string (nullable = true)\n",
            " |-- ISO 3166-1 Alpha 3-Codes: string (nullable = true)\n",
            " |-- Region Code: string (nullable = true)\n",
            " |-- Sub-region Code: string (nullable = true)\n",
            " |-- Intermediate Region Code: string (nullable = true)\n",
            "\n"
          ],
          "name": "stdout"
        }
      ]
    },
    {
      "cell_type": "code",
      "metadata": {
        "id": "_wofGXcJ1mDi",
        "colab_type": "code",
        "outputId": "08ad5268-8922-4b65-cbdd-412cc7477038",
        "colab": {
          "base_uri": "https://localhost:8080/",
          "height": 1000
        }
      },
      "source": [
        "dfm_recovered.printSchema()"
      ],
      "execution_count": 0,
      "outputs": [
        {
          "output_type": "stream",
          "text": [
            "root\n",
            " |-- Province/State: string (nullable = true)\n",
            " |-- Country/Region: string (nullable = true)\n",
            " |-- Lat: double (nullable = true)\n",
            " |-- Long: double (nullable = true)\n",
            " |-- 1/22/20: integer (nullable = true)\n",
            " |-- 1/23/20: integer (nullable = true)\n",
            " |-- 1/24/20: integer (nullable = true)\n",
            " |-- 1/25/20: integer (nullable = true)\n",
            " |-- 1/26/20: integer (nullable = true)\n",
            " |-- 1/27/20: integer (nullable = true)\n",
            " |-- 1/28/20: integer (nullable = true)\n",
            " |-- 1/29/20: integer (nullable = true)\n",
            " |-- 1/30/20: integer (nullable = true)\n",
            " |-- 1/31/20: integer (nullable = true)\n",
            " |-- 2/1/20: integer (nullable = true)\n",
            " |-- 2/2/20: integer (nullable = true)\n",
            " |-- 2/3/20: integer (nullable = true)\n",
            " |-- 2/4/20: integer (nullable = true)\n",
            " |-- 2/5/20: integer (nullable = true)\n",
            " |-- 2/6/20: integer (nullable = true)\n",
            " |-- 2/7/20: integer (nullable = true)\n",
            " |-- 2/8/20: integer (nullable = true)\n",
            " |-- 2/9/20: integer (nullable = true)\n",
            " |-- 2/10/20: integer (nullable = true)\n",
            " |-- 2/11/20: integer (nullable = true)\n",
            " |-- 2/12/20: integer (nullable = true)\n",
            " |-- 2/13/20: integer (nullable = true)\n",
            " |-- 2/14/20: integer (nullable = true)\n",
            " |-- 2/15/20: integer (nullable = true)\n",
            " |-- 2/16/20: integer (nullable = true)\n",
            " |-- 2/17/20: integer (nullable = true)\n",
            " |-- 2/18/20: integer (nullable = true)\n",
            " |-- 2/19/20: integer (nullable = true)\n",
            " |-- 2/20/20: integer (nullable = true)\n",
            " |-- 2/21/20: integer (nullable = true)\n",
            " |-- 2/22/20: integer (nullable = true)\n",
            " |-- 2/23/20: integer (nullable = true)\n",
            " |-- 2/24/20: integer (nullable = true)\n",
            " |-- 2/25/20: integer (nullable = true)\n",
            " |-- 2/26/20: integer (nullable = true)\n",
            " |-- 2/27/20: integer (nullable = true)\n",
            " |-- 2/28/20: integer (nullable = true)\n",
            " |-- 2/29/20: integer (nullable = true)\n",
            " |-- 3/1/20: integer (nullable = true)\n",
            " |-- 3/2/20: integer (nullable = true)\n",
            " |-- 3/3/20: integer (nullable = true)\n",
            " |-- 3/4/20: integer (nullable = true)\n",
            " |-- 3/5/20: integer (nullable = true)\n",
            " |-- 3/6/20: integer (nullable = true)\n",
            " |-- 3/7/20: integer (nullable = true)\n",
            " |-- 3/8/20: integer (nullable = true)\n",
            " |-- 3/9/20: integer (nullable = true)\n",
            " |-- 3/10/20: integer (nullable = true)\n",
            " |-- 3/11/20: integer (nullable = true)\n",
            " |-- 3/12/20: integer (nullable = true)\n",
            " |-- 3/13/20: integer (nullable = true)\n",
            " |-- 3/14/20: integer (nullable = true)\n",
            " |-- 3/15/20: integer (nullable = true)\n",
            " |-- 3/16/20: integer (nullable = true)\n",
            " |-- 3/17/20: integer (nullable = true)\n",
            " |-- 3/18/20: integer (nullable = true)\n",
            " |-- 3/19/20: integer (nullable = true)\n",
            " |-- 3/20/20: integer (nullable = true)\n",
            " |-- 3/21/20: integer (nullable = true)\n",
            " |-- 3/22/20: integer (nullable = true)\n",
            " |-- 3/23/20: integer (nullable = true)\n",
            " |-- 3/24/20: integer (nullable = true)\n",
            " |-- 3/25/20: integer (nullable = true)\n",
            " |-- 3/26/20: integer (nullable = true)\n",
            " |-- 3/27/20: integer (nullable = true)\n",
            " |-- 3/28/20: integer (nullable = true)\n",
            " |-- 3/29/20: integer (nullable = true)\n",
            " |-- 3/30/20: integer (nullable = true)\n",
            " |-- 3/31/20: integer (nullable = true)\n",
            " |-- 4/1/20: integer (nullable = true)\n",
            " |-- 4/2/20: integer (nullable = true)\n",
            " |-- 4/3/20: integer (nullable = true)\n",
            " |-- 4/4/20: integer (nullable = true)\n",
            " |-- 4/5/20: integer (nullable = true)\n",
            " |-- 4/6/20: integer (nullable = true)\n",
            " |-- 4/7/20: integer (nullable = true)\n",
            " |-- 4/8/20: integer (nullable = true)\n",
            " |-- 4/9/20: integer (nullable = true)\n",
            " |-- 4/10/20: integer (nullable = true)\n",
            " |-- 4/11/20: integer (nullable = true)\n",
            " |-- 4/12/20: integer (nullable = true)\n",
            " |-- 4/13/20: integer (nullable = true)\n",
            " |-- 4/14/20: integer (nullable = true)\n",
            " |-- 4/15/20: integer (nullable = true)\n",
            " |-- 4/16/20: integer (nullable = true)\n",
            " |-- 4/17/20: integer (nullable = true)\n",
            " |-- 4/18/20: integer (nullable = true)\n",
            " |-- 4/19/20: integer (nullable = true)\n",
            " |-- 4/20/20: integer (nullable = true)\n",
            " |-- 4/21/20: integer (nullable = true)\n",
            " |-- 4/22/20: integer (nullable = true)\n",
            " |-- 4/23/20: integer (nullable = true)\n",
            " |-- 4/24/20: integer (nullable = true)\n",
            " |-- 4/25/20: integer (nullable = true)\n",
            " |-- 4/26/20: integer (nullable = true)\n",
            " |-- 4/27/20: integer (nullable = true)\n",
            " |-- 4/28/20: integer (nullable = true)\n",
            " |-- 4/29/20: integer (nullable = true)\n",
            " |-- 4/30/20: integer (nullable = true)\n",
            " |-- 5/1/20: integer (nullable = true)\n",
            " |-- 5/2/20: integer (nullable = true)\n",
            " |-- 5/3/20: integer (nullable = true)\n",
            " |-- 5/4/20: integer (nullable = true)\n",
            " |-- 5/5/20: integer (nullable = true)\n",
            " |-- 5/6/20: integer (nullable = true)\n",
            " |-- 5/7/20: integer (nullable = true)\n",
            " |-- 5/8/20: integer (nullable = true)\n",
            " |-- 5/9/20: integer (nullable = true)\n",
            " |-- 5/10/20: integer (nullable = true)\n",
            " |-- 5/11/20: integer (nullable = true)\n",
            " |-- 5/12/20: integer (nullable = true)\n",
            " |-- 5/13/20: integer (nullable = true)\n",
            " |-- 5/14/20: integer (nullable = true)\n",
            " |-- 5/15/20: integer (nullable = true)\n",
            "\n"
          ],
          "name": "stdout"
        }
      ]
    },
    {
      "cell_type": "code",
      "metadata": {
        "id": "6JO-vVzQrMz_",
        "colab_type": "code",
        "outputId": "8ab88aed-4c9a-43cc-ed21-d0f967037b69",
        "colab": {
          "base_uri": "https://localhost:8080/",
          "height": 1000
        }
      },
      "source": [
        "dfm_recovered_iso.printSchema()"
      ],
      "execution_count": 0,
      "outputs": [
        {
          "output_type": "stream",
          "text": [
            "root\n",
            " |-- Province/State: string (nullable = true)\n",
            " |-- Country/Region: string (nullable = true)\n",
            " |-- Lat: string (nullable = true)\n",
            " |-- Long: string (nullable = true)\n",
            " |-- 1/22/20: integer (nullable = true)\n",
            " |-- 1/23/20: integer (nullable = true)\n",
            " |-- 1/24/20: integer (nullable = true)\n",
            " |-- 1/25/20: integer (nullable = true)\n",
            " |-- 1/26/20: integer (nullable = true)\n",
            " |-- 1/27/20: integer (nullable = true)\n",
            " |-- 1/28/20: integer (nullable = true)\n",
            " |-- 1/29/20: integer (nullable = true)\n",
            " |-- 1/30/20: integer (nullable = true)\n",
            " |-- 1/31/20: integer (nullable = true)\n",
            " |-- 2/1/20: integer (nullable = true)\n",
            " |-- 2/2/20: integer (nullable = true)\n",
            " |-- 2/3/20: integer (nullable = true)\n",
            " |-- 2/4/20: integer (nullable = true)\n",
            " |-- 2/5/20: integer (nullable = true)\n",
            " |-- 2/6/20: integer (nullable = true)\n",
            " |-- 2/7/20: integer (nullable = true)\n",
            " |-- 2/8/20: integer (nullable = true)\n",
            " |-- 2/9/20: integer (nullable = true)\n",
            " |-- 2/10/20: integer (nullable = true)\n",
            " |-- 2/11/20: integer (nullable = true)\n",
            " |-- 2/12/20: integer (nullable = true)\n",
            " |-- 2/13/20: integer (nullable = true)\n",
            " |-- 2/14/20: integer (nullable = true)\n",
            " |-- 2/15/20: integer (nullable = true)\n",
            " |-- 2/16/20: integer (nullable = true)\n",
            " |-- 2/17/20: integer (nullable = true)\n",
            " |-- 2/18/20: integer (nullable = true)\n",
            " |-- 2/19/20: integer (nullable = true)\n",
            " |-- 2/20/20: integer (nullable = true)\n",
            " |-- 2/21/20: integer (nullable = true)\n",
            " |-- 2/22/20: integer (nullable = true)\n",
            " |-- 2/23/20: integer (nullable = true)\n",
            " |-- 2/24/20: integer (nullable = true)\n",
            " |-- 2/25/20: integer (nullable = true)\n",
            " |-- 2/26/20: integer (nullable = true)\n",
            " |-- 2/27/20: integer (nullable = true)\n",
            " |-- 2/28/20: integer (nullable = true)\n",
            " |-- 2/29/20: integer (nullable = true)\n",
            " |-- 3/1/20: integer (nullable = true)\n",
            " |-- 3/2/20: integer (nullable = true)\n",
            " |-- 3/3/20: integer (nullable = true)\n",
            " |-- 3/4/20: integer (nullable = true)\n",
            " |-- 3/5/20: integer (nullable = true)\n",
            " |-- 3/6/20: integer (nullable = true)\n",
            " |-- 3/7/20: integer (nullable = true)\n",
            " |-- 3/8/20: integer (nullable = true)\n",
            " |-- 3/9/20: integer (nullable = true)\n",
            " |-- 3/10/20: integer (nullable = true)\n",
            " |-- 3/11/20: integer (nullable = true)\n",
            " |-- 3/12/20: integer (nullable = true)\n",
            " |-- 3/13/20: integer (nullable = true)\n",
            " |-- 3/14/20: integer (nullable = true)\n",
            " |-- 3/15/20: integer (nullable = true)\n",
            " |-- 3/16/20: integer (nullable = true)\n",
            " |-- 3/17/20: integer (nullable = true)\n",
            " |-- 3/18/20: integer (nullable = true)\n",
            " |-- 3/19/20: integer (nullable = true)\n",
            " |-- 3/20/20: integer (nullable = true)\n",
            " |-- 3/21/20: integer (nullable = true)\n",
            " |-- 3/22/20: integer (nullable = true)\n",
            " |-- 3/23/20: integer (nullable = true)\n",
            " |-- 3/24/20: integer (nullable = true)\n",
            " |-- 3/25/20: integer (nullable = true)\n",
            " |-- 3/26/20: integer (nullable = true)\n",
            " |-- 3/27/20: integer (nullable = true)\n",
            " |-- 3/28/20: integer (nullable = true)\n",
            " |-- 3/29/20: integer (nullable = true)\n",
            " |-- 3/30/20: integer (nullable = true)\n",
            " |-- 3/31/20: integer (nullable = true)\n",
            " |-- 4/1/20: integer (nullable = true)\n",
            " |-- 4/2/20: integer (nullable = true)\n",
            " |-- 4/3/20: integer (nullable = true)\n",
            " |-- 4/4/20: integer (nullable = true)\n",
            " |-- 4/5/20: integer (nullable = true)\n",
            " |-- 4/6/20: integer (nullable = true)\n",
            " |-- 4/7/20: integer (nullable = true)\n",
            " |-- 4/8/20: integer (nullable = true)\n",
            " |-- 4/9/20: integer (nullable = true)\n",
            " |-- 4/10/20: integer (nullable = true)\n",
            " |-- 4/11/20: integer (nullable = true)\n",
            " |-- 4/12/20: integer (nullable = true)\n",
            " |-- 4/13/20: integer (nullable = true)\n",
            " |-- 4/14/20: integer (nullable = true)\n",
            " |-- 4/15/20: integer (nullable = true)\n",
            " |-- 4/16/20: integer (nullable = true)\n",
            " |-- 4/17/20: integer (nullable = true)\n",
            " |-- 4/18/20: integer (nullable = true)\n",
            " |-- 4/19/20: integer (nullable = true)\n",
            " |-- 4/20/20: integer (nullable = true)\n",
            " |-- 4/21/20: integer (nullable = true)\n",
            " |-- 4/22/20: integer (nullable = true)\n",
            " |-- 4/23/20: integer (nullable = true)\n",
            " |-- 4/24/20: integer (nullable = true)\n",
            " |-- 4/25/20: integer (nullable = true)\n",
            " |-- 4/26/20: integer (nullable = true)\n",
            " |-- 4/27/20: integer (nullable = true)\n",
            " |-- 4/28/20: integer (nullable = true)\n",
            " |-- 4/29/20: integer (nullable = true)\n",
            " |-- 4/30/20: integer (nullable = true)\n",
            " |-- 5/1/20: integer (nullable = true)\n",
            " |-- 5/2/20: integer (nullable = true)\n",
            " |-- 5/3/20: integer (nullable = true)\n",
            " |-- 5/4/20: integer (nullable = true)\n",
            " |-- 5/5/20: integer (nullable = true)\n",
            " |-- 5/6/20: integer (nullable = true)\n",
            " |-- 5/7/20: integer (nullable = true)\n",
            " |-- 5/8/20: integer (nullable = true)\n",
            " |-- 5/9/20: integer (nullable = true)\n",
            " |-- 5/10/20: integer (nullable = true)\n",
            " |-- 5/11/20: integer (nullable = true)\n",
            " |-- 5/12/20: integer (nullable = true)\n",
            " |-- 5/13/20: integer (nullable = true)\n",
            " |-- 5/14/20: integer (nullable = true)\n",
            " |-- 5/15/20: integer (nullable = true)\n",
            " |-- 5/16/20: integer (nullable = true)\n",
            " |-- ISO 3166-1 Alpha 3-Codes: string (nullable = true)\n",
            " |-- Region Code: string (nullable = true)\n",
            " |-- Region Name: string (nullable = true)\n",
            " |-- Sub-region Code: string (nullable = true)\n",
            " |-- Sub-region Name: string (nullable = true)\n",
            " |-- Intermediate Region Code: string (nullable = true)\n",
            " |-- Intermediate Region Name: string (nullable = true)\n",
            "\n"
          ],
          "name": "stdout"
        }
      ]
    },
    {
      "cell_type": "code",
      "metadata": {
        "id": "vhAAzIZJrM6q",
        "colab_type": "code",
        "outputId": "dae8eb35-637f-455e-e317-a650503ea71d",
        "colab": {
          "base_uri": "https://localhost:8080/",
          "height": 218
        }
      },
      "source": [
        "dfm_recovered_narrow.printSchema()"
      ],
      "execution_count": 0,
      "outputs": [
        {
          "output_type": "stream",
          "text": [
            "root\n",
            " |-- Province/State: string (nullable = true)\n",
            " |-- Country/Region: string (nullable = true)\n",
            " |-- Lat: string (nullable = true)\n",
            " |-- Long: string (nullable = true)\n",
            " |-- Date: string (nullable = true)\n",
            " |-- Value: string (nullable = true)\n",
            " |-- ISO 3166-1 Alpha 3-Codes: string (nullable = true)\n",
            " |-- Region Code: string (nullable = true)\n",
            " |-- Sub-region Code: string (nullable = true)\n",
            " |-- Intermediate Region Code: string (nullable = true)\n",
            "\n"
          ],
          "name": "stdout"
        }
      ]
    },
    {
      "cell_type": "markdown",
      "metadata": {
        "id": "VkMo_2E3R1-5",
        "colab_type": "text"
      },
      "source": [
        "**Vemos con cuántas Filas y columnas cuenta cada Data Frame**"
      ]
    },
    {
      "cell_type": "code",
      "metadata": {
        "id": "w6uFWPoy1QM6",
        "colab_type": "code",
        "outputId": "fe6644d0-b084-447b-f6b9-7c531610016e",
        "colab": {
          "base_uri": "https://localhost:8080/",
          "height": 34
        }
      },
      "source": [
        "print((dfm.count(),len(dfm.columns)))"
      ],
      "execution_count": 0,
      "outputs": [
        {
          "output_type": "stream",
          "text": [
            "(267, 125)\n"
          ],
          "name": "stdout"
        }
      ]
    },
    {
      "cell_type": "code",
      "metadata": {
        "id": "2w7QR6ZM1Qe3",
        "colab_type": "code",
        "outputId": "11858310-363b-450f-8da7-aeffe4599dfc",
        "colab": {
          "base_uri": "https://localhost:8080/",
          "height": 34
        }
      },
      "source": [
        "print((dfm_narrow.count(),len(dfm_narrow.columns)))"
      ],
      "execution_count": 0,
      "outputs": [
        {
          "output_type": "stream",
          "text": [
            "(30857, 10)\n"
          ],
          "name": "stdout"
        }
      ]
    },
    {
      "cell_type": "code",
      "metadata": {
        "id": "dw6pmrcL1Qsj",
        "colab_type": "code",
        "outputId": "fd0cd149-3491-44e5-b048-61f244dab004",
        "colab": {
          "base_uri": "https://localhost:8080/",
          "height": 34
        }
      },
      "source": [
        "print((dfm_recovered.count(),len(dfm_recovered.columns)))"
      ],
      "execution_count": 0,
      "outputs": [
        {
          "output_type": "stream",
          "text": [
            "(253, 119)\n"
          ],
          "name": "stdout"
        }
      ]
    },
    {
      "cell_type": "code",
      "metadata": {
        "id": "KPDScJla1Q4M",
        "colab_type": "code",
        "outputId": "43b8145d-818e-4b92-96ab-2318e746cc9a",
        "colab": {
          "base_uri": "https://localhost:8080/",
          "height": 34
        }
      },
      "source": [
        "print((dfm_recovered_iso.count(),len(dfm_recovered_iso.columns)))"
      ],
      "execution_count": 0,
      "outputs": [
        {
          "output_type": "stream",
          "text": [
            "(254, 127)\n"
          ],
          "name": "stdout"
        }
      ]
    },
    {
      "cell_type": "code",
      "metadata": {
        "id": "kNoK43GS1RGc",
        "colab_type": "code",
        "outputId": "bbb776ad-990f-4154-8125-7df8ba168fd1",
        "colab": {
          "base_uri": "https://localhost:8080/",
          "height": 34
        }
      },
      "source": [
        "print((dfm_recovered_narrow.count(),len(dfm_recovered_narrow.columns)))"
      ],
      "execution_count": 0,
      "outputs": [
        {
          "output_type": "stream",
          "text": [
            "(29349, 10)\n"
          ],
          "name": "stdout"
        }
      ]
    },
    {
      "cell_type": "code",
      "metadata": {
        "id": "Qh5VN5S41RTW",
        "colab_type": "code",
        "outputId": "51c3e7dd-b7d2-4230-b10a-fac8fe5d8b4b",
        "colab": {
          "base_uri": "https://localhost:8080/",
          "height": 34
        }
      },
      "source": [
        "print((dfm_death.count(),len(dfm_death.columns)))"
      ],
      "execution_count": 0,
      "outputs": [
        {
          "output_type": "stream",
          "text": [
            "(266, 119)\n"
          ],
          "name": "stdout"
        }
      ]
    },
    {
      "cell_type": "code",
      "metadata": {
        "id": "nLv5VkCA1RfZ",
        "colab_type": "code",
        "outputId": "d3e1d5b1-8d48-4752-9e1b-56aabfdd3a42",
        "colab": {
          "base_uri": "https://localhost:8080/",
          "height": 34
        }
      },
      "source": [
        "print((dfm_death_iso.count(),len(dfm_death_iso.columns)))"
      ],
      "execution_count": 0,
      "outputs": [
        {
          "output_type": "stream",
          "text": [
            "(267, 127)\n"
          ],
          "name": "stdout"
        }
      ]
    },
    {
      "cell_type": "code",
      "metadata": {
        "id": "CUt-OxqE1RpX",
        "colab_type": "code",
        "outputId": "08056202-3cd5-41c3-bc11-572827f97e99",
        "colab": {
          "base_uri": "https://localhost:8080/",
          "height": 34
        }
      },
      "source": [
        "print((dfm_death_narrow.count(),len(dfm_death_narrow.columns)))"
      ],
      "execution_count": 0,
      "outputs": [
        {
          "output_type": "stream",
          "text": [
            "(30857, 10)\n"
          ],
          "name": "stdout"
        }
      ]
    },
    {
      "cell_type": "markdown",
      "metadata": {
        "id": "-MizvOM1Sfys",
        "colab_type": "text"
      },
      "source": [
        "**Vemos cómo está la situación hasta la fecha a nivel mundial**"
      ]
    },
    {
      "cell_type": "code",
      "metadata": {
        "id": "EIQKxLYww5Rx",
        "colab_type": "code",
        "outputId": "6992ef2c-3428-4c2e-b404-cfe76f92fd0d",
        "colab": {
          "base_uri": "https://localhost:8080/",
          "height": 459
        }
      },
      "source": [
        "#Casos confirmados por día en el mes de mayo\n",
        "dfm.select('Region Name','5/1/20', '5/2/20', '5/3/20', '5/4/20', '5/5/20', '5/6/20', '5/7/20', '5/8/20', '5/9/20', '5/10/20', '5/11/20', '5/12/20', '5/13/20', '5/14/20').show()"
      ],
      "execution_count": 0,
      "outputs": [
        {
          "output_type": "stream",
          "text": [
            "+-----------------+------+------+------+------+------+------+------+------+------+-------+-------+-------+-------+-------+\n",
            "|      Region Name|5/1/20|5/2/20|5/3/20|5/4/20|5/5/20|5/6/20|5/7/20|5/8/20|5/9/20|5/10/20|5/11/20|5/12/20|5/13/20|5/14/20|\n",
            "+-----------------+------+------+------+------+------+------+------+------+------+-------+-------+-------+-------+-------+\n",
            "|#region+main+name|  null|  null|  null|  null|  null|  null|  null|  null|  null|   null|   null|   null|   null|   null|\n",
            "|             Asia|  2335|  2469|  2704|  2894|  3224|  3392|  3563|  3778|  4033|   4402|   4687|   4963|   5226|   5639|\n",
            "|           Europe|   782|   789|   795|   803|   820|   832|   842|   850|   856|    868|    872|    876|    880|    898|\n",
            "|           Africa|  4154|  4295|  4474|  4648|  4838|  4997|  5182|  5369|  5558|   5723|   5891|   6067|   6253|   6442|\n",
            "|           Europe|   745|   747|   748|   750|   751|   751|   752|   752|   754|    755|    755|    758|    760|    761|\n",
            "|           Africa|    30|    35|    35|    35|    36|    36|    36|    43|    43|     45|     45|     45|     45|     48|\n",
            "|         Americas|    25|    25|    25|    25|    25|    25|    25|    25|    25|     25|     25|     25|     25|     25|\n",
            "|         Americas|  4532|  4681|  4783|  4887|  5020|  5208|  5371|  5611|  5776|   6034|   6278|   6563|   6879|   7134|\n",
            "|             Asia|  2148|  2273|  2386|  2507|  2619|  2782|  2884|  3029|  3175|   3313|   3392|   3538|   3718|   3860|\n",
            "|          Oceania|   106|   106|   106|   107|   107|   107|   107|   107|   107|    107|    107|    107|    107|    107|\n",
            "|          Oceania|  3030|  3035|  3033|  3035|  3042|  3044|  3047|  3051|  3053|   3053|   3053|   3059|   3063|   3071|\n",
            "|          Oceania|    27|    29|    29|    29|    29|    29|    29|    29|    29|     29|     29|     29|     29|     29|\n",
            "|          Oceania|  1034|  1035|  1038|  1043|  1043|  1045|  1045|  1045|  1045|   1045|   1051|   1052|   1051|   1054|\n",
            "|          Oceania|   438|   438|   438|   438|   438|   438|   439|   439|   439|    439|    439|    439|    439|    439|\n",
            "|          Oceania|   221|   221|   221|   221|   225|   226|   227|   227|   227|    227|    227|    227|    227|    227|\n",
            "|          Oceania|  1371|  1384|  1406|  1423|  1440|  1454|  1467|  1468|  1487|   1496|   1511|   1514|   1521|   1540|\n",
            "|          Oceania|   551|   551|   551|   551|   551|   551|   552|   552|   552|    552|    553|    553|    552|    552|\n",
            "|           Europe| 15531| 15558| 15597| 15621| 15650| 15684| 15752| 15774| 15833|  15871|  15882|  15961|  15997|  16058|\n",
            "|             Asia|  1854|  1894|  1932|  1984|  2060|  2127|  2204|  2279|  2422|   2519|   2589|   2693|   2758|   2879|\n",
            "|         Americas|    81|    83|    83|    83|    89|    92|    92|    92|    92|     92|     93|     93|     94|     96|\n",
            "+-----------------+------+------+------+------+------+------+------+------+------+-------+-------+-------+-------+-------+\n",
            "only showing top 20 rows\n",
            "\n"
          ],
          "name": "stdout"
        }
      ]
    },
    {
      "cell_type": "code",
      "metadata": {
        "id": "TtYLsJP4w5R0",
        "colab_type": "code",
        "outputId": "7f62bcfa-d297-4f81-ceec-8dbd6a658386",
        "colab": {
          "base_uri": "https://localhost:8080/",
          "height": 474
        }
      },
      "source": [
        "#Casos de Abril\n",
        "dfm.select('Region Name', '4/1/20', '4/2/20', '4/3/20', '4/4/20', '4/5/20', '4/6/20', '4/7/20', '4/8/20', '4/9/20', '4/10/20', '4/11/20', '4/12/20', '4/13/20', '4/14/20', '4/15/20', '4/16/20', '4/17/20', '4/18/20', '4/19/20', '4/20/20', '4/21/20', '4/22/20', '4/23/20', '4/24/20', '4/25/20', '4/26/20', '4/27/20', '4/28/20', '4/29/20', '4/30/20').show()"
      ],
      "execution_count": 0,
      "outputs": [
        {
          "output_type": "stream",
          "text": [
            "+-----------------+------+------+------+------+------+------+------+------+------+-------+-------+-------+-------+-------+-------+-------+-------+-------+-------+-------+-------+-------+-------+-------+-------+-------+-------+-------+-------+-------+\n",
            "|      Region Name|4/1/20|4/2/20|4/3/20|4/4/20|4/5/20|4/6/20|4/7/20|4/8/20|4/9/20|4/10/20|4/11/20|4/12/20|4/13/20|4/14/20|4/15/20|4/16/20|4/17/20|4/18/20|4/19/20|4/20/20|4/21/20|4/22/20|4/23/20|4/24/20|4/25/20|4/26/20|4/27/20|4/28/20|4/29/20|4/30/20|\n",
            "+-----------------+------+------+------+------+------+------+------+------+------+-------+-------+-------+-------+-------+-------+-------+-------+-------+-------+-------+-------+-------+-------+-------+-------+-------+-------+-------+-------+-------+\n",
            "|#region+main+name|  null|  null|  null|  null|  null|  null|  null|  null|  null|   null|   null|   null|   null|   null|   null|   null|   null|   null|   null|   null|   null|   null|   null|   null|   null|   null|   null|   null|   null|   null|\n",
            "|             Asia|   237|   273|   281|   299|   349|   367|   423|   444|   484|    521|    555|    607|    665|    714|    784|    840|    906|    933|    996|   1026|   1092|   1176|   1279|   1351|   1463|   1531|   1703|   1828|   1939|   2171|\n",
            "|           Europe|   259|   277|   304|   333|   361|   377|   383|   400|   409|    416|    433|    446|    467|    475|    494|    518|    539|    548|    562|    584|    609|    634|    663|    678|    712|    726|    736|    750|    766|    773|\n",
            "|           Africa|   847|   986|  1171|  1251|  1320|  1423|  1468|  1572|  1666|   1761|   1825|   1914|   1983|   2070|   2160|   2268|   2418|   2534|   2629|   2718|   2811|   2910|   3007|   3127|   3256|   3382|   3517|   3649|   3848|   4006|\n",
            "|           Europe|   390|   428|   439|   466|   501|   525|   545|   564|   583|    601|    601|    638|    646|    659|    673|    673|    696|    704|    713|    717|    717|    723|    723|    731|    738|    738|    743|    743|    743|    745|\n",
            "|           Africa|     8|     8|     8|    10|    14|    16|    17|    19|    19|     19|     19|     19|     19|     19|     19|     19|     19|     24|     24|     24|     24|     25|     25|     25|     25|     26|     27|     27|     27|     27|\n",
            "|         Americas|     7|     9|    15|    15|    15|    15|    19|    19|    19|     19|     21|     21|     23|     23|     23|     23|     23|     23|     23|     23|     23|     24|     24|     24|     24|     24|     24|     24|     24|     24|\n",
            "|         Americas|  1054|  1133|  1265|  1451|  1451|  1554|  1628|  1715|  1795|   1975|   1975|   2142|   2208|   2277|   2443|   2571|   2669|   2758|   2839|   2941|   3031|   3144|   3435|   3607|   3780|   3892|   4003|   4127|   4285|   4428|\n",
            "|             Asia|   571|   663|   736|   770|   822|   833|   853|   881|   921|    937|    967|   1013|   1039|   1067|   1111|   1159|   1201|   1248|   1291|   1339|   1401|   1473|   1523|   1596|   1677|   1746|   1808|   1867|   1932|   2066|\n",
            "|          Oceania|    84|    87|    91|    93|    96|    96|    96|    99|   100|    103|    103|    103|    102|    103|    103|    103|    103|    103|    103|    104|    104|    104|    104|    105|    106|    106|    106|    106|    106|    106|\n",
            "|          Oceania|  2182|  2298|  2389|  2493|  2580|  2637|  2686|  2734|  2773|   2822|   2857|   2857|   2863|   2870|   2886|   2897|   2926|   2936|   2957|   2963|   2969|   2971|   2976|   2982|   2994|   3002|   3004|   3016|   3016|   3025|\n",
            "|          Oceania|    19|    21|    22|    26|    27|    28|    28|    28|    28|     28|     28|     28|     28|     28|     28|     28|     28|     28|     28|     28|     28|     28|     28|     28|     28|     28|     28|     28|     28|     28|\n",
            "|          Oceania|   781|   835|   873|   900|   907|   921|   934|   943|   953|    965|    974|    983|    987|    998|    999|   1001|   1007|   1015|   1019|   1019|   1024|   1024|   1026|   1026|   1026|   1030|   1033|   1034|   1033|   1033|\n",
            "|          Oceania|   367|   367|   396|   407|   407|   411|   411|   415|   420|    428|    429|    429|    429|    433|    433|    433|    435|    435|    435|    435|    437|    438|    438|    438|    438|    438|    438|    438|    438|    438|\n",
            "|          Oceania|    69|    72|    74|    80|    82|    86|    89|    98|   111|    122|    133|    133|    144|    165|    165|    169|    180|    188|    195|    200|    201|    205|    207|    207|    207|    212|    214|    218|    219|    221|\n",
            "|          Oceania|   968|  1036|  1085|  1115|  1135|  1158|  1191|  1212|  1228|   1241|   1265|   1268|   1281|   1291|   1299|   1299|   1302|   1319|   1328|   1329|   1336|   1336|   1337|   1343|   1346|   1349|   1349|   1354|   1361|   1364|\n",
            "|          Oceania|   392|   400|   400|   436|   453|   460|   460|   481|   495|    506|    514|    514|    517|    527|    527|    532|    541|    544|    545|    545|    546|    546|    546|    548|    549|    549|    549|    550|    551|    551|\n",
            "|           Europe| 10711| 11129| 11524| 11781| 12051| 12297| 12639| 12942| 13244|  13555|  13806|  13945|  14041|  14226|  14336|  14476|  14595|  14671|  14749|  14795|  14873|  14925|  15002|  15071|  15148|  15225|  15274|  15357|  15402|  15452|\n",
            "|             Asia|   359|   400|   443|   521|   584|   641|   717|   822|   926|    991|   1058|   1098|   1148|   1197|   1253|   1283|   1340|   1373|   1398|   1436|   1480|   1518|   1548|   1592|   1617|   1645|   1678|   1717|   1766|   1804|\n",
            "|         Americas|    21|    24|    24|    28|    28|    29|    33|    40|    41|     42|     46|     46|     47|     49|     49|     53|     54|     55|     55|     60|     65|     65|     72|     73|     78|     80|     80|     80|     80|     81|\n",
            "+-----------------+------+------+------+------+------+------+------+------+------+-------+-------+-------+-------+-------+-------+-------+-------+-------+-------+-------+-------+-------+-------+-------+-------+-------+-------+-------+-------+-------+\n",
            "only showing top 20 rows\n",
            "\n"
          ],
          "name": "stdout"
        }
      ]
    },
    {
      "cell_type": "code",
      "metadata": {
        "id": "XTMBcXbVw5R4",
        "colab_type": "code",
        "outputId": "4891a48e-2cf5-4d99-f3e4-c31dd3e72fa3",
        "colab": {
          "base_uri": "https://localhost:8080/",
          "height": 474
        }
      },
      "source": [
        "#Casos corfimados por día en el mes de Marzo#\n",
        "dfm.select('Region Name','3/1/20', '3/2/20', '3/3/20', '3/4/20', '3/5/20', '3/6/20', '3/7/20', '3/8/20', '3/9/20', '3/10/20', '3/11/20', '3/12/20', '3/13/20', '3/14/20', '3/15/20', '3/16/20', '3/17/20', '3/18/20', '3/19/20', '3/20/20', '3/21/20', '3/22/20', '3/23/20', '3/24/20', '3/25/20', '3/26/20', '3/27/20', '3/28/20', '3/29/20', '3/30/20', '3/31/20').show()"
      ],
      "execution_count": 0,
      "outputs": [
        {
          "output_type": "stream",
          "text": [
            "+-----------------+------+------+------+------+------+------+------+------+------+-------+-------+-------+-------+-------+-------+-------+-------+-------+-------+-------+-------+-------+-------+-------+-------+-------+-------+-------+-------+-------+-------+\n",
            "|      Region Name|3/1/20|3/2/20|3/3/20|3/4/20|3/5/20|3/6/20|3/7/20|3/8/20|3/9/20|3/10/20|3/11/20|3/12/20|3/13/20|3/14/20|3/15/20|3/16/20|3/17/20|3/18/20|3/19/20|3/20/20|3/21/20|3/22/20|3/23/20|3/24/20|3/25/20|3/26/20|3/27/20|3/28/20|3/29/20|3/30/20|3/31/20|\n",
            "+-----------------+------+------+------+------+------+------+------+------+------+-------+-------+-------+-------+-------+-------+-------+-------+-------+-------+-------+-------+-------+-------+-------+-------+-------+-------+-------+-------+-------+-------+\n",
            "|#region+main+name|  null|  null|  null|  null|  null|  null|  null|  null|  null|   null|   null|   null|   null|   null|   null|   null|   null|   null|   null|   null|   null|   null|   null|   null|   null|   null|   null|   null|   null|   null|   null|\n",
            "|             Asia|     1|     1|     1|     1|     1|     1|     1|     4|     4|      5|      7|      7|      7|     11|     16|     21|     22|     22|     22|     24|     24|     40|     40|     74|     84|     94|    110|    110|    120|    170|    174|\n",
            "|           Europe|     0|     0|     0|     0|     0|     0|     0|     0|     2|     10|     12|     23|     33|     38|     42|     51|     55|     59|     64|     70|     76|     89|    104|    123|    146|    174|    186|    197|    212|    223|    243|\n",
            "|           Africa|     1|     3|     5|    12|    12|    17|    17|    19|    20|     20|     20|     24|     26|     37|     48|     54|     60|     74|     87|     90|    139|    201|    230|    264|    302|    367|    409|    454|    511|    584|    716|\n",
            "|           Europe|     0|     1|     1|     1|     1|     1|     1|     1|     1|      1|      1|      1|      1|      1|      1|      2|     39|     39|     53|     75|     88|    113|    133|    164|    188|    224|    267|    308|    334|    370|    376|\n",
            "|           Africa|     0|     0|     0|     0|     0|     0|     0|     0|     0|      0|      0|      0|      0|      0|      0|      0|      0|      0|      0|      1|      2|      2|      3|      3|      3|      4|      4|      5|      7|      7|      7|\n",
            "|         Americas|     0|     0|     0|     0|     0|     0|     0|     0|     0|      0|      0|      0|      1|      1|      1|      1|      1|      1|      1|      1|      1|      1|      3|      3|      3|      7|      7|      7|      7|      7|      7|\n",
            "|         Americas|     0|     0|     1|     1|     1|     2|     8|    12|    12|     17|     19|     19|     31|     34|     45|     56|     68|     79|     97|    128|    158|    266|    301|    387|    387|    502|    589|    690|    745|    820|   1054|\n",
            "|             Asia|     1|     1|     1|     1|     1|     1|     1|     1|     1|      1|      1|      4|      8|     18|     26|     52|     78|     84|    115|    136|    160|    194|    235|    249|    265|    290|    329|    407|    424|    482|    532|\n",
            "|          Oceania|     0|     0|     0|     0|     0|     0|     0|     0|     0|      0|      0|      0|      1|      1|      1|      2|      2|      3|      4|      6|      9|     19|     32|     39|     39|     53|     62|     71|     77|     78|     80|\n",
            "|          Oceania|     6|     6|    13|    22|    22|    26|    28|    38|    48|     55|     65|     65|     92|    112|    134|    171|    210|    267|    307|    353|    436|    669|    669|    818|   1029|   1219|   1405|   1617|   1791|   2032|   2032|\n",
            "|          Oceania|     0|     0|     0|     1|     1|     0|     0|     0|     0|      1|      1|      1|      1|      1|      1|      1|      1|      1|      1|      3|      3|      5|      5|      6|      6|     12|     12|     15|     15|     15|     17|\n",
            "|          Oceania|     9|     9|    11|    11|    13|    13|    13|    15|    15|     18|     20|     20|     35|     46|     61|     68|     78|     94|    144|    184|    221|    259|    319|    397|    443|    493|    555|    625|    656|    689|    743|\n",
            "|          Oceania|     3|     3|     3|     5|     5|     7|     7|     7|     7|      7|      9|      9|     16|     19|     20|     29|     29|     37|     42|     50|     67|    100|    134|    170|    170|    235|    257|    287|    299|    305|    337|\n",
            "|          Oceania|     0|     1|     1|     1|     1|     1|     1|     2|     2|      2|      3|      3|      5|      5|      6|      7|      7|     10|     10|     10|     16|     22|     28|     28|     36|     47|     47|     62|     66|     66|     69|\n",
            "|          Oceania|     7|     9|     9|    10|    10|    10|    11|    11|    15|     18|     21|     21|     36|     49|     57|     71|     94|    121|    121|    121|    229|    355|    355|    411|    466|    520|    574|    685|    769|    821|    917|\n",
            "|          Oceania|     2|     2|     2|     2|     3|     3|     3|     3|     4|      6|      9|      9|     14|     17|     17|     28|     31|     35|     52|     64|     90|    120|    140|    175|    175|    231|    231|    278|    311|    355|    364|\n",
            "|           Europe|    14|    18|    21|    29|    41|    55|    79|   104|   131|    182|    246|    302|    504|    655|    860|   1018|   1332|   1646|   2013|   2388|   2814|   3582|   4474|   5283|   5588|   6909|   7657|   8271|   8788|   9618|  10180|\n",
            "|             Asia|     3|     3|     3|     3|     6|     6|     9|     9|     9|     11|     11|     11|     15|     15|     23|     28|     28|     28|     44|     44|     53|     65|     72|     87|     93|    122|    165|    182|    209|    273|    298|\n",
            "|         Americas|     0|     0|     0|     0|     0|     0|     0|     0|     0|      0|      0|      0|      0|      0|      0|      1|      1|      1|      3|      3|      4|      4|      4|      5|      5|      9|     10|     10|     11|     14|     14|\n",
            "+-----------------+------+------+------+------+------+------+------+------+------+-------+-------+-------+-------+-------+-------+-------+-------+-------+-------+-------+-------+-------+-------+-------+-------+-------+-------+-------+-------+-------+-------+\n",
            "only showing top 20 rows\n",
            "\n"
          ],
          "name": "stdout"
        }
      ]
    },
    {
      "cell_type": "markdown",
      "metadata": {
        "id": "xcPZALh0TJ69",
        "colab_type": "text"
      },
      "source": [
        "Hacemos un análisis previo de datos importantes como promedio."
      ]
    },
    {
      "cell_type": "code",
      "metadata": {
        "id": "ODBPlN1u6-27",
        "colab_type": "code",
        "outputId": "d606db66-eb79-43a3-9e17-86935c1840d5",
        "colab": {
          "base_uri": "https://localhost:8080/",
          "height": 205
        }
      },
      "source": [
        "dfm.describe().show()"
      ],
      "execution_count": 0,
      "outputs": [
        {
          "output_type": "stream",
          "text": [
            "+-------+--------------+--------------+------------------+------------------+------------------+------------------+------------------+-----------------+-----------------+------------------+------------------+-----------------+------------------+------------------+------------------+------------------+-----------------+------------------+------------------+------------------+------------------+------------------+------------------+-----------------+------------------+------------------+------------------+------------------+------------------+-----------------+------------------+-----------------+------------------+------------------+------------------+------------------+------------------+------------------+-----------------+------------------+------------------+------------------+-----------------+-----------------+------------------+------------------+------------------+-----------------+-----------------+------------------+-----------------+------------------+-----------------+------------------+-----------------+------------------+-----------------+-----------------+-----------------+-----------------+-----------------+-----------------+------------------+------------------+-----------------+------------------+-----------------+------------------+-----------------+------------------+------------------+------------------+------------------+-----------------+------------------+-----------------+-----------------+------------------+------------------+------------------+------------------+------------------+-----------------+-----------------+-----------------+-----------------+-----------------+-----------------+------------------+-----------------+-----------------+-----------------+-----------------+-----------------+------------------+-----------------+------------------+------------------+------------------+------------------+------------------+------------------+------------------+------------------+------------------+------------------+-----------------+------------------+------------------+------------------+------------------+------------------+------------------+------------------+------------------+------------------+------------------+------------------+------------------------+-----------------+-----------------+------------------+----------------+------------------------+------------------------+\n",
            "|summary|Province/State|Country/Region|               Lat|              Long|           1/22/20|           1/23/20|           1/24/20|          1/25/20|          1/26/20|           1/27/20|           1/28/20|          1/29/20|           1/30/20|           1/31/20|            2/1/20|            2/2/20|           2/3/20|            2/4/20|            2/5/20|            2/6/20|            2/7/20|            2/8/20|            2/9/20|          2/10/20|           2/11/20|           2/12/20|           2/13/20|           2/14/20|           2/15/20|          2/16/20|           2/17/20|          2/18/20|           2/19/20|           2/20/20|           2/21/20|           2/22/20|           2/23/20|           2/24/20|          2/25/20|           2/26/20|           2/27/20|           2/28/20|          2/29/20|           3/1/20|            3/2/20|            3/3/20|            3/4/20|           3/5/20|           3/6/20|            3/7/20|           3/8/20|            3/9/20|          3/10/20|           3/11/20|          3/12/20|           3/13/20|          3/14/20|          3/15/20|          3/16/20|          3/17/20|          3/18/20|          3/19/20|           3/20/20|           3/21/20|          3/22/20|           3/23/20|          3/24/20|           3/25/20|          3/26/20|           3/27/20|           3/28/20|           3/29/20|           3/30/20|          3/31/20|            4/1/20|           4/2/20|           4/3/20|            4/4/20|            4/5/20|            4/6/20|            4/7/20|            4/8/20|           4/9/20|          4/10/20|          4/11/20|          4/12/20|          4/13/20|          4/14/20|           4/15/20|          4/16/20|          4/17/20|          4/18/20|          4/19/20|          4/20/20|           4/21/20|          4/22/20|           4/23/20|           4/24/20|           4/25/20|           4/26/20|           4/27/20|           4/28/20|           4/29/20|           4/30/20|            5/1/20|            5/2/20|           5/3/20|            5/4/20|            5/5/20|            5/6/20|            5/7/20|            5/8/20|            5/9/20|           5/10/20|           5/11/20|           5/12/20|           5/13/20|           5/14/20|ISO 3166-1 Alpha 3-Codes|      Region Code|      Region Name|   Sub-region Code| Sub-region Name|Intermediate Region Code|Intermediate Region Name|\n",
            "+-------+--------------+--------------+------------------+------------------+------------------+------------------+------------------+-----------------+-----------------+------------------+------------------+-----------------+------------------+------------------+------------------+------------------+-----------------+------------------+------------------+------------------+------------------+------------------+------------------+-----------------+------------------+------------------+------------------+------------------+------------------+-----------------+------------------+-----------------+------------------+------------------+------------------+------------------+------------------+------------------+-----------------+------------------+------------------+------------------+-----------------+-----------------+------------------+------------------+------------------+-----------------+-----------------+------------------+-----------------+------------------+-----------------+------------------+-----------------+------------------+-----------------+-----------------+-----------------+-----------------+-----------------+-----------------+------------------+------------------+-----------------+------------------+-----------------+------------------+-----------------+------------------+------------------+------------------+------------------+-----------------+------------------+-----------------+-----------------+------------------+------------------+------------------+------------------+------------------+-----------------+-----------------+-----------------+-----------------+-----------------+-----------------+------------------+-----------------+-----------------+-----------------+-----------------+-----------------+------------------+-----------------+------------------+------------------+------------------+------------------+------------------+------------------+------------------+------------------+------------------+------------------+-----------------+------------------+------------------+------------------+------------------+------------------+------------------+------------------+------------------+------------------+------------------+------------------+------------------------+-----------------+-----------------+------------------+----------------+------------------------+------------------------+\n",
            "|  count|            82|           267|               267|               267|               266|               266|               266|              266|              266|               266|               266|              266|               266|               266|               266|               266|              266|               266|               266|               266|               266|               266|               266|              266|               266|               266|               266|               266|               266|              266|               266|              266|               266|               266|               266|               266|               266|               266|              266|               266|               266|               266|              266|              266|               266|               266|               266|              266|              266|               266|              266|               266|              266|               266|              266|               266|              266|              266|              266|              266|              266|              266|               266|               266|              266|               266|              266|               266|              266|               266|               266|               266|               266|              266|               266|              266|              266|               266|               266|               266|               266|               266|              266|              266|              266|              266|              266|              266|               266|              266|              266|              266|              266|              266|               266|              266|               266|               266|               266|               266|               266|               266|               266|               266|               266|               266|              266|               266|               266|               266|               266|               266|               266|               266|               266|               266|               266|               266|                     262|              263|              263|               263|             263|                      99|                      99|\n",
            "|   mean|          null|          null|21.148043469924808|22.538640082706763|2.0864661654135337|2.4586466165413534| 3.537593984962406|5.390977443609023|7.962406015037594|11.003759398496241|20.969924812030076|23.18045112781955|30.954887218045112| 37.31954887218045|45.255639097744364|63.109022556390975| 74.7406015037594| 89.81954887218045|103.89097744360902|115.76691729323308|129.28947368421052|139.54887218045113|150.93984962406014|160.7593984962406|168.42857142857142|170.00375939849624|226.94736842105263|251.44736842105263| 259.5112781954887|267.7593984962406|  275.406015037594|282.4661654135338|284.35714285714283| 286.4548872180451|288.79323308270676|295.38345864661653|296.83458646616543| 299.1015037593985|302.2781954887218|305.96992481203006| 311.0751879699248| 316.2105263157895|323.3496240601504|332.2142857142857|339.49624060150376|349.02255639097746|  357.593984962406|367.9924812030075|382.7105263157895|397.92105263157896|412.8609022556391|427.03007518796994|445.9398496240602| 473.2142857142857|482.5263157894737| 545.9511278195489|586.9097744360902|629.5864661654135| 682.796992481203|741.1052631578947|807.8007518796992|912.1466165413534|1023.5451127819549|1145.0375939849623|1266.984962406015|1422.1127819548872|1571.827067669173|1758.4624060150377|1991.436090225564|2231.0488721804513|  2484.40977443609|2707.8571428571427|2941.7293233082705| 3224.09022556391|3506.2030075187968|3810.063909774436|4119.898496240601| 4421.274436090225|4698.2819548872185| 4967.804511278196| 5249.766917293233|5564.7819548872185|5885.545112781955|6232.894736842105|6526.436090225564|6899.041353383459|7162.255639097744| 7426.93984962406|7727.1578947368425|8089.443609022556|8419.676691729323|8711.439849624061|9025.515037593985|9292.206766917294|  9582.87969924812|9866.947368421053|10181.966165413534|10510.266917293233|10831.353383458647|11109.146616541353|11367.375939849624|11643.718045112782|11925.890977443609|12244.022556390977|12577.285714285714|12885.654135338345|13183.19172932331|13470.131578947368|13769.515037593985|14120.560150375939|14457.586466165414|14804.751879699248|15127.853383458647|15419.921052631578|15704.894736842105|16021.605263157895|16342.172932330826|16699.860902255637|                    null|76.39312977099236|             null|159.94656488549617|            null|      16.602040816326532|                    null|\n",
            "| stddev|          null|          null|24.909989877460006| 70.46625583209203|27.279200126476585|27.377862225678502|34.083035345171226|47.43493411917064|66.28917849191255| 89.31375681061068| 219.1877437645593|220.5249768795368|303.89789409048035|360.29728730458294|443.36681272785637| 689.0355902803593|832.9553139874997|1026.5841129198425| 1209.757050049596|1359.9302972549626| 1534.124061685851|  1665.83468099177|1820.9085406327827|1949.404600540752|2049.8116978799526| 2050.151419162801|2958.0379711438613| 3337.714498661914|3450.6663291264013|3569.106026540109|3679.8121435595344|3783.535150451222|3804.9443538793835|3830.1089811376264|3843.6597907820606|3930.7413016766277|  3930.77898982819|3943.2786828716758|3973.894621868005| 3998.651035630947|4024.2759229157473|4044.7493950452586|4072.596681495963|4109.805099719684|4124.6676035298215| 4137.027653190499|4148.4470175200795|4162.525002014535|4179.734158157656| 4197.057567383664|4213.463912607176| 4232.886837635061|4248.924055164664|4282.1312374844865|4292.382224762356|4385.5713934057785|4467.196252868229|  4562.3339312289|4675.849522667772|4810.974046063513|4992.147776311087|5283.414374615547|5637.7846324693965| 6065.440506836876|6501.044485584342| 7106.926042665101|7720.035440832991|  8539.76242480821|9648.905345561136|10806.500628921722|12080.390223038543|13275.336543446983|14579.220180314185|16185.95254706931|17788.790272595994|19632.78935957419|21577.82902156743|23588.790869135213| 25308.18352306587|27083.143557113617|28948.625921152565|30928.694936344866|33023.29168443564|  35132.721161551|37000.88455257871|39037.86346470372|40614.14715842376|42284.32383279138| 44090.23750152649|46181.17476568041|48201.13538873333|50133.97401324294|51886.96956554698|53463.79265089098|55192.061837070214|56941.07264967295|58758.129833279345| 60812.01535738311| 62832.45251369684| 64533.42141280418| 65963.45114340747| 67507.19543697164| 69188.50433706015| 71029.76098551837| 73132.89948740607| 74957.81992128388| 76573.2718936753| 78015.67588212568| 79571.89025852577| 81256.45761488135| 83068.94254957032| 84847.76712459067| 86525.42482027675| 87856.56594020202| 89155.18418580029| 90614.37846335537| 92061.91466255748| 93888.72420316278|                    null|67.54684787316097|             null| 139.8769745704228|            null|       8.269606250886955|                    null|\n",
            "|    min|    #adm1+name| #country+name|          #geo+lat|          #geo+lon|                 0|                 0|                 0|                0|                0|                 0|                 0|                0|                 0|                 0|                 0|                 0|                0|                 0|                 0|                 0|                 0|                 0|                 0|                0|                 0|                 0|                 0|                 0|                 0|                0|                 0|                0|                 0|                 0|                 0|                 0|                 0|                 0|                0|                 0|                 0|                 0|                0|                0|                 0|                 0|                 0|                0|                0|                 0|                0|                 0|                0|                 0|                0|                 0|                0|                0|                0|                0|                0|                0|                 0|                 0|                0|                 0|                0|                 0|                0|                 0|                 0|                 0|                 0|                0|                 0|                0|                0|                 0|                 0|                 0|                 0|                 0|                0|                0|                0|                0|                0|                0|                 0|                0|                0|                0|                0|                0|                 0|                0|                 0|                 0|                 0|                 0|                 0|                 0|                 0|                 0|                 0|                 0|                0|                 0|                 0|                 0|                 0|                 0|                 0|                 0|                 0|                 0|                 1|                 1|           #country+code|#region+main+code|#region+main+name|  #region+sub+code|#region+sub+name|    #region+intermedi...|    #region+intermedi...|\n",
            "|    max|      Zhejiang|      Zimbabwe|            9.9456|           95.9956|               444|               444|               549|              761|             1058|              1423|              3554|             3554|              4903|              5806|              7153|             11177|            13522|             16678|             19665|             22112|             24953|             27100|             29631|            31728|             33366|             33366|             48206|             54406|             56249|            58182|             59989|            61682|             62031|             62442|             62662|             64084|             64084|             64287|            64786|             65187|             65596|             65914|            66337|            66907|             67103|             67217|             67332|            67466|            67592|             67666|            67707|             67743|            67760|             67773|            67781|             67786|            67790|            67794|            67798|            67799|            67800|            67800|             67800|             67800|            67800|             67800|            69176|             74386|            83836|            101657|            121465|            140909|            161831|           188172|            213242|           243622|           275367|            308650|            336802|            366317|            397121|            428654|           462780|           496535|           526396|           555313|           580619|           607670|            636350|           667592|           699706|           732197|           758809|           784326|            811865|           840351|            869170|            905358|            938154|            965785|            988197|           1012582|           1039909|           1069424|           1103461|           1132539|          1158040|           1180375|           1204351|           1229331|           1257023|           1283929|           1309550|           1329260|           1347881|           1369376|           1390406|           1417774|                     ZWE|                9|          Oceania|                61|  Western Europe|                       5|          Western Africa|\n",
            "+-------+--------------+--------------+------------------+------------------+------------------+------------------+------------------+-----------------+-----------------+------------------+------------------+-----------------+------------------+------------------+------------------+------------------+-----------------+------------------+------------------+------------------+------------------+------------------+------------------+-----------------+------------------+------------------+------------------+------------------+------------------+-----------------+------------------+-----------------+------------------+------------------+------------------+------------------+------------------+------------------+-----------------+------------------+------------------+------------------+-----------------+-----------------+------------------+------------------+------------------+-----------------+-----------------+------------------+-----------------+------------------+-----------------+------------------+-----------------+------------------+-----------------+-----------------+-----------------+-----------------+-----------------+-----------------+------------------+------------------+-----------------+------------------+-----------------+------------------+-----------------+------------------+------------------+------------------+------------------+-----------------+------------------+-----------------+-----------------+------------------+------------------+------------------+------------------+------------------+-----------------+-----------------+-----------------+-----------------+-----------------+-----------------+------------------+-----------------+-----------------+-----------------+-----------------+-----------------+------------------+-----------------+------------------+------------------+------------------+------------------+------------------+------------------+------------------+------------------+------------------+------------------+-----------------+------------------+------------------+------------------+------------------+------------------+------------------+------------------+------------------+------------------+------------------+------------------+------------------------+-----------------+-----------------+------------------+----------------+------------------------+------------------------+\n",
            "\n"
          ],
          "name": "stdout"
        }
      ]
    },
    {
      "cell_type": "code",
      "metadata": {
        "id": "2o7YG4JJox1e",
        "colab_type": "code",
        "outputId": "9d584266-97a6-4268-be58-e9c03a8f3b1d",
        "colab": {
          "base_uri": "https://localhost:8080/",
          "height": 205
        }
      },
      "source": [
        "dfm_narrow.describe().show()"
      ],
      "execution_count": 0,
      "outputs": [
        {
          "output_type": "stream",
          "text": [
            "+-------+--------------+--------------+------------------+-----------------+----------+--------------------+------------------------+-----------------+------------------+------------------------+\n",
            "|summary|Province/State|Country/Region|               Lat|             Long|      Date|               Value|ISO 3166-1 Alpha 3-Codes|      Region Code|   Sub-region Code|Intermediate Region Code|\n",
            "+-------+--------------+--------------+------------------+-----------------+----------+--------------------+------------------------+-----------------+------------------+------------------------+\n",
            "|  count|          9397|         30857|             30857|            30857|     30857|               30857|                   30277|            30393|             30393|                   11369|\n",
            "|   mean|          null|          null| 21.14804346992603|22.53864008270743|      null|   4447.897459165154|                    null|76.39312977099236|159.94656488549617|      16.602040816326532|\n",
            "| stddev|          null|          null|24.863525397836277| 70.3348154772639|      null|  40495.056840935074|                    null|67.41892760248176|139.61207545207392|       8.227668083663147|\n",
            "|    min|    #adm1+name| #country+name|          #geo+lat|         #geo+lon|     #date|#affected+infecte...|           #country+code|#region+main+code|  #region+sub+code|    #region+intermedi...|\n",
            "|    max|      Zhejiang|      Zimbabwe|            9.9456|          95.9956|2020-05-16|               99970|                     ZWE|                9|                61|                       5|\n",
            "+-------+--------------+--------------+------------------+-----------------+----------+--------------------+------------------------+-----------------+------------------+------------------------+\n",
            "\n"
          ],
          "name": "stdout"
        }
      ]
    },
    {
      "cell_type": "code",
      "metadata": {
        "id": "jziOAU-K7Gq5",
        "colab_type": "code",
        "outputId": "48d556d7-e264-44ea-9443-97641828ce3a",
        "colab": {
          "base_uri": "https://localhost:8080/",
          "height": 205
        }
      },
      "source": [
        "dfm_death.describe().show()"
      ],
      "execution_count": 0,
      "outputs": [
        {
          "output_type": "stream",
          "text": [
            "+-------+--------------+--------------+------------------+------------------+-------------------+-------------------+-------------------+-------------------+-------------------+------------------+------------------+------------------+------------------+------------------+------------------+------------------+------------------+------------------+------------------+------------------+------------------+------------------+-----------------+------------------+-----------------+-----------------+-----------------+-----------------+------------------+-----------------+------------------+------------------+------------------+-----------------+------------------+-----------------+-----------------+------------------+------------------+------------------+------------------+------------------+------------------+------------------+------------------+-----------------+------------------+------------------+------------------+------------------+------------------+------------------+------------------+------------------+------------------+------------------+------------------+------------------+-----------------+------------------+------------------+------------------+-----------------+------------------+------------------+------------------+------------------+-----------------+-----------------+------------------+------------------+------------------+-----------------+------------------+------------------+------------------+------------------+------------------+------------------+------------------+------------------+------------------+------------------+------------------+-----------------+------------------+-----------------+------------------+------------------+-----------------+------------------+------------------+------------------+------------------+------------------+-----------------+-----------------+-----------------+-----------------+-----------------+-----------------+-----------------+-----------------+-----------------+-----------------+-----------------+-----------------+------------------+-----------------+-----------------+------------------+-----------------+------------------+------------------+------------------+------------------+-----------------+------------------+------------------+\n",
            "|summary|Province/State|Country/Region|               Lat|              Long|            1/22/20|            1/23/20|            1/24/20|            1/25/20|            1/26/20|           1/27/20|           1/28/20|           1/29/20|           1/30/20|           1/31/20|            2/1/20|            2/2/20|            2/3/20|            2/4/20|            2/5/20|            2/6/20|            2/7/20|            2/8/20|           2/9/20|           2/10/20|          2/11/20|          2/12/20|          2/13/20|          2/14/20|           2/15/20|          2/16/20|           2/17/20|           2/18/20|           2/19/20|          2/20/20|           2/21/20|          2/22/20|          2/23/20|           2/24/20|           2/25/20|           2/26/20|           2/27/20|           2/28/20|           2/29/20|            3/1/20|            3/2/20|           3/3/20|            3/4/20|            3/5/20|            3/6/20|            3/7/20|            3/8/20|            3/9/20|           3/10/20|           3/11/20|           3/12/20|           3/13/20|           3/14/20|           3/15/20|          3/16/20|           3/17/20|           3/18/20|           3/19/20|          3/20/20|           3/21/20|           3/22/20|           3/23/20|           3/24/20|          3/25/20|          3/26/20|           3/27/20|           3/28/20|           3/29/20|          3/30/20|           3/31/20|            4/1/20|            4/2/20|            4/3/20|            4/4/20|            4/5/20|            4/6/20|            4/7/20|            4/8/20|            4/9/20|           4/10/20|          4/11/20|           4/12/20|          4/13/20|           4/14/20|           4/15/20|          4/16/20|           4/17/20|           4/18/20|           4/19/20|           4/20/20|           4/21/20|          4/22/20|          4/23/20|          4/24/20|          4/25/20|          4/26/20|          4/27/20|          4/28/20|          4/29/20|          4/30/20|           5/1/20|           5/2/20|           5/3/20|            5/4/20|           5/5/20|           5/6/20|            5/7/20|           5/8/20|            5/9/20|           5/10/20|           5/11/20|           5/12/20|          5/13/20|           5/14/20|           5/15/20|\n",
            "+-------+--------------+--------------+------------------+------------------+-------------------+-------------------+-------------------+-------------------+-------------------+------------------+------------------+------------------+------------------+------------------+------------------+------------------+------------------+------------------+------------------+------------------+------------------+------------------+-----------------+------------------+-----------------+-----------------+-----------------+-----------------+------------------+-----------------+------------------+------------------+------------------+-----------------+------------------+-----------------+-----------------+------------------+------------------+------------------+------------------+------------------+------------------+------------------+------------------+-----------------+------------------+------------------+------------------+------------------+------------------+------------------+------------------+------------------+------------------+------------------+------------------+------------------+-----------------+------------------+------------------+------------------+-----------------+------------------+------------------+------------------+------------------+-----------------+-----------------+------------------+------------------+------------------+-----------------+------------------+------------------+------------------+------------------+------------------+------------------+------------------+------------------+------------------+------------------+------------------+-----------------+------------------+-----------------+------------------+------------------+-----------------+------------------+------------------+------------------+------------------+------------------+-----------------+-----------------+-----------------+-----------------+-----------------+-----------------+-----------------+-----------------+-----------------+-----------------+-----------------+-----------------+------------------+-----------------+-----------------+------------------+-----------------+------------------+------------------+------------------+------------------+-----------------+------------------+------------------+\n",
            "|  count|            81|           266|               266|               266|                266|                266|                266|                266|                266|               266|               266|               266|               266|               266|               266|               266|               266|               266|               266|               266|               266|               266|              266|               266|              266|              266|              266|              266|               266|              266|               266|               266|               266|              266|               266|              266|              266|               266|               266|               266|               266|               266|               266|               266|               266|              266|               266|               266|               266|               266|               266|               266|               266|               266|               266|               266|               266|               266|              266|               266|               266|               266|              266|               266|               266|               266|               266|              266|              266|               266|               266|               266|              266|               266|               266|               266|               266|               266|               266|               266|               266|               266|               266|               266|              266|               266|              266|               266|               266|              266|               266|               266|               266|               266|               266|              266|              266|              266|              266|              266|              266|              266|              266|              266|              266|              266|              266|               266|              266|              266|               266|              266|               266|               266|               266|               266|              266|               266|               266|\n",
            "|   mean|          null|          null|21.148043469924808|22.538640082706763|0.06390977443609022|0.06766917293233082|0.09774436090225563|0.15789473684210525|0.21052631578947367|0.3082706766917293|0.4924812030075188|               0.5|0.6428571428571429|0.8007518796992481|0.9736842105263158|1.3609022556390977|1.6015037593984962| 1.849624060150376|2.1203007518796992|2.3834586466165413|2.7030075187969924| 3.030075187969925|3.406015037593985| 3.808270676691729|4.184210526315789|4.203007518796992|5.154135338345864|5.725563909774436|6.2631578947368425|6.654135338345864| 7.022556390977444| 7.545112781954887| 7.977443609022556|8.447368421052632| 8.462406015037594|9.240601503759398|9.281954887218046|  9.88345864661654|10.180451127819548|10.413533834586467|10.578947368421053|10.796992481203008|11.056390977443609|11.263157894736842|11.597744360902256| 11.8796992481203|12.233082706766917|12.582706766917294|13.003759398496241| 13.37593984962406|14.289473684210526|14.988721804511279|16.026315789473685|17.345864661654137| 17.75187969924812|20.330827067669173|21.917293233082706|24.330827067669173| 26.8796992481203|29.909774436090224|33.169172932330824|37.390977443609025|42.93984962406015|  49.3421052631579|55.733082706766915| 63.00375939849624|  71.4812030075188| 81.8984962406015|93.18796992481202|106.34586466165413|119.54135338345864|132.79323308270676|148.2669172932331|166.30827067669173|186.74812030075188|209.83834586466165|232.37593984962405|255.56766917293234|274.72556390977445|296.11654135338347|  325.796992481203| 350.9548872180451|379.25563909774434| 406.4398496240602|429.1203007518797| 450.5751879699248|472.0338345864662|  497.890977443609| 528.7932330827068| 556.187969924812| 589.4887218045113| 613.5864661654135| 630.7218045112782| 650.7406015037594|  677.578947368421|702.6766917293234|728.0639097744361|751.8684210526316|775.1390977443609|789.0977443609023|806.1804511278195| 830.078947368421|855.8834586466165|877.2932330827068|897.0639097744361|916.5902255639098|930.3383458646616| 945.6278195488721|967.0639097744361|991.9360902255639|1013.4097744360902|1033.451127819549|1050.0413533834587|1062.8157894736842|1076.4285714285713|1097.5263157894738|1117.281954887218|1136.9097744360902| 1156.639097744361|\n",
            "| stddev|          null|          null|24.909989877460006| 70.46625583209203| 1.0423368771244415|  1.043907671199662|  1.473615303498145| 2.4536214444472573|  3.189730293392828|  4.66084525677368| 7.664297272961469|7.6647933177466445|  9.93318650132377|12.507875232379392|15.266539535672132|21.458635362848515| 25.38248983419485|29.367546261869425|33.659008739758946| 37.88955584765076|42.855330906984186|47.821277312174686|53.40002651317055|59.714706061547545|65.47780766734289|65.47743490307742|80.31374046427386|89.32672625404851| 97.84881636459549|103.9790287355903|109.68131993242723|117.77448803806676|124.39480460942715|131.4434775312245|131.44273628079145|143.8264494202801|  143.82510150905|152.95947653283918|157.12849372703792|160.31650901085376|   161.91272797295| 164.4298673414886|167.19659825617035| 169.2918834656539|171.89298951367826|173.8986491899747|176.17754283539557|178.20239373750803|180.17964825748493|182.09446445447588|184.67953590779388|186.97729623214832|189.99937254900843|194.44116518547074|195.57606852925304|205.26638823841927|211.33541417547906|223.72289874633822|237.5832259371474|253.46009945809504| 275.2473699579113| 297.9751372327099|331.4894064023139|375.80042810995656| 416.8123329978857|459.84124002045456|511.79858363557213|570.9443559425348|633.3344420425695|  710.156873927591| 788.3687195126946| 863.1745568404328|948.5526333828979|1040.7348287896707|1142.7739870043472| 1258.824414223366|1375.8915111987337|1496.7770195814073|1599.1117522233208|1712.7426129062628|1870.9980255100797|2007.3916347627958| 2160.221554514888|2310.9120486007855| 2445.71414129796|2564.9848085145345|2690.198330835156|2843.7481099066304|3022.2712199432785|3173.149566016005|3350.9250316586986|3498.6534361208596|3588.0520785715526|3704.5923785146824|3866.1680881974876|4016.884402447311|4166.247509343111|4291.923577365097|4436.496546487318|4513.613077045696|4605.196763189589|4744.309950159006|4906.661987730414|5033.523652370464|5151.692272214853|5255.654601648461|5334.737320388222|5413.8284546548675|5546.438359447026|5695.861833810787| 5829.167335060001|5933.342912110914| 6031.114726134207| 6082.385233459207|  6156.68083854514| 6269.026377512412| 6380.01036370288|6495.9912601700735|6600.7639979058895|\n",
            "|    min|       Alberta|   Afghanistan|          -51.7963|            -135.0|                  0|                  0|                  0|                  0|                  0|                 0|                 0|                 0|                 0|                 0|                 0|                 0|                 0|                 0|                 0|                 0|                 0|                 0|                0|                 0|                0|                0|                0|                0|                 0|                0|                 0|                 0|                 0|                0|                 0|                0|                0|                 0|                 0|                 0|                 0|                 0|                 0|                 0|                 0|                0|                 0|                 0|                 0|                 0|                 0|                 0|                 0|                 0|                 0|                 0|                 0|                 0|                0|                 0|                 0|                 0|                0|                 0|                 0|                 0|                 0|                0|                0|                 0|                 0|                 0|                0|                 0|                 0|                 0|                 0|                 0|                 0|                 0|                 0|                 0|                 0|                 0|                0|                 0|                0|                 0|                 0|                0|                 0|                 0|                 0|                 0|                 0|                0|                0|                0|                0|                0|                0|                0|                0|                0|                0|                0|                0|                 0|                0|                0|                 0|                0|                 0|                 0|                 0|                 0|                0|                 0|                 0|\n",
            "|    max|      Zhejiang|      Zimbabwe|           71.7069|           178.065|                 17|                 17|                 24|                 40|                 52|                76|               125|               125|               162|               204|               249|               350|               414|               479|               549|               618|               699|               780|              871|               974|             1068|             1068|             1310|             1457|              1596|             1696|              1789|              1921|              2029|             2144|              2144|             2346|             2346|              2495|              2563|              2615|              2641|              2682|              2727|              2761|              2803|             2835|              2871|              2902|              2931|              2959|              2986|              3008|              3024|              3046|              3056|              3062|              3075|              3085|             3099|              3111|              3122|              3405|             4032|              4825|              5476|              6077|              6820|             7503|             8215|              9134|             10023|             10779|            11591|             12428|             13155|             13915|             14681|             15362|             15887|             16523|             17127|             18270|             20255|             22333|            24342|             26086|            27870|             30262|             32734|            34827|             37411|             39753|             40945|             42659|             45086|            47412|            49724|            51493|            53755|            54881|            56219|            58355|            60967|            62996|            64943|            66369|            67682|             68922|            71064|            73455|             75662|            77180|             78795|             79526|             80682|             82356|            84119|             85898|             87530|\n",
            "+-------+--------------+--------------+------------------+------------------+-------------------+-------------------+-------------------+-------------------+-------------------+------------------+------------------+------------------+------------------+------------------+------------------+------------------+------------------+------------------+------------------+------------------+------------------+------------------+-----------------+------------------+-----------------+-----------------+-----------------+-----------------+------------------+-----------------+------------------+------------------+------------------+-----------------+------------------+-----------------+-----------------+------------------+------------------+------------------+------------------+------------------+------------------+------------------+------------------+-----------------+------------------+------------------+------------------+------------------+------------------+------------------+------------------+------------------+------------------+------------------+------------------+------------------+-----------------+------------------+------------------+------------------+-----------------+------------------+------------------+------------------+------------------+-----------------+-----------------+------------------+------------------+------------------+-----------------+------------------+------------------+------------------+------------------+------------------+------------------+------------------+------------------+------------------+------------------+------------------+-----------------+------------------+-----------------+------------------+------------------+-----------------+------------------+------------------+------------------+------------------+------------------+-----------------+-----------------+-----------------+-----------------+-----------------+-----------------+-----------------+-----------------+-----------------+-----------------+-----------------+-----------------+------------------+-----------------+-----------------+------------------+-----------------+------------------+------------------+------------------+------------------+-----------------+------------------+------------------+\n",
            "\n"
          ],
          "name": "stdout"
        }
      ]
    },
    {
      "cell_type": "code",
      "metadata": {
        "id": "bNnkoHG4rV12",
        "colab_type": "code",
        "outputId": "84e9edc9-ea82-4a06-fb1b-4d8ae4bbe993",
        "colab": {
          "base_uri": "https://localhost:8080/",
          "height": 205
        }
      },
      "source": [
        "dfm_recovered_iso.describe().show() "
      ],
      "execution_count": 0,
      "outputs": [
        {
          "output_type": "stream",
          "text": [
            "+-------+--------------+--------------+-----------------+-----------------+-------------------+-------------------+------------------+------------------+-------------------+-------------------+-------------------+------------------+------------------+------------------+------------------+------------------+------------------+------------------+-----------------+------------------+-----------------+------------------+------------------+------------------+------------------+------------------+------------------+------------------+------------------+------------------+-----------------+-----------------+------------------+-----------------+-----------------+-----------------+-----------------+------------------+------------------+------------------+------------------+------------------+-----------------+------------------+------------------+------------------+------------------+-----------------+-----------------+------------------+------------------+------------------+------------------+-----------------+------------------+------------------+-----------------+------------------+-----------------+------------------+------------------+-----------------+------------------+------------------+------------------+-----------------+------------------+------------------+------------------+-----------------+-----------------+-----------------+------------------+-----------------+------------------+-----------------+-----------------+------------------+------------------+------------------+------------------+------------------+------------------+------------------+-----------------+------------------+-----------------+------------------+------------------+-----------------+------------------+-----------------+------------------+------------------+------------------+------------------+------------------+-----------------+------------------+-----------------+------------------+-----------------+------------------+------------------+-----------------+------------------+-----------------+------------------+-----------------+-----------------+------------------+------------------+-----------------+------------------+-----------------+------------------+------------------+------------------+-----------------+------------------+------------------------+-----------------+-----------------+-----------------+----------------+------------------------+------------------------+\n",
            "|summary|Province/State|Country/Region|              Lat|             Long|            1/22/20|            1/23/20|           1/24/20|           1/25/20|            1/26/20|            1/27/20|            1/28/20|           1/29/20|           1/30/20|           1/31/20|            2/1/20|            2/2/20|            2/3/20|            2/4/20|           2/5/20|            2/6/20|           2/7/20|            2/8/20|            2/9/20|           2/10/20|           2/11/20|           2/12/20|           2/13/20|           2/14/20|           2/15/20|           2/16/20|          2/17/20|          2/18/20|           2/19/20|          2/20/20|          2/21/20|          2/22/20|          2/23/20|           2/24/20|           2/25/20|           2/26/20|           2/27/20|           2/28/20|          2/29/20|            3/1/20|            3/2/20|            3/3/20|            3/4/20|           3/5/20|           3/6/20|            3/7/20|            3/8/20|            3/9/20|           3/10/20|          3/11/20|           3/12/20|           3/13/20|          3/14/20|           3/15/20|          3/16/20|           3/17/20|           3/18/20|          3/19/20|           3/20/20|           3/21/20|           3/22/20|          3/23/20|           3/24/20|           3/25/20|           3/26/20|          3/27/20|          3/28/20|          3/29/20|           3/30/20|          3/31/20|            4/1/20|           4/2/20|           4/3/20|            4/4/20|            4/5/20|            4/6/20|            4/7/20|            4/8/20|            4/9/20|           4/10/20|          4/11/20|           4/12/20|          4/13/20|           4/14/20|           4/15/20|          4/16/20|           4/17/20|          4/18/20|           4/19/20|           4/20/20|           4/21/20|           4/22/20|           4/23/20|          4/24/20|           4/25/20|          4/26/20|           4/27/20|          4/28/20|           4/29/20|           4/30/20|           5/1/20|            5/2/20|           5/3/20|            5/4/20|           5/5/20|           5/6/20|            5/7/20|            5/8/20|           5/9/20|           5/10/20|          5/11/20|           5/12/20|           5/13/20|           5/14/20|          5/15/20|           5/16/20|ISO 3166-1 Alpha 3-Codes|      Region Code|      Region Name|  Sub-region Code| Sub-region Name|Intermediate Region Code|Intermediate Region Name|\n",
            "+-------+--------------+--------------+-----------------+-----------------+-------------------+-------------------+------------------+------------------+-------------------+-------------------+-------------------+------------------+------------------+------------------+------------------+------------------+------------------+------------------+-----------------+------------------+-----------------+------------------+------------------+------------------+------------------+------------------+------------------+------------------+------------------+------------------+-----------------+-----------------+------------------+-----------------+-----------------+-----------------+-----------------+------------------+------------------+------------------+------------------+------------------+-----------------+------------------+------------------+------------------+------------------+-----------------+-----------------+------------------+------------------+------------------+------------------+-----------------+------------------+------------------+-----------------+------------------+-----------------+------------------+------------------+-----------------+------------------+------------------+------------------+-----------------+------------------+------------------+------------------+-----------------+-----------------+-----------------+------------------+-----------------+------------------+-----------------+-----------------+------------------+------------------+------------------+------------------+------------------+------------------+------------------+-----------------+------------------+-----------------+------------------+------------------+-----------------+------------------+-----------------+------------------+------------------+------------------+------------------+------------------+-----------------+------------------+-----------------+------------------+-----------------+------------------+------------------+-----------------+------------------+-----------------+------------------+-----------------+-----------------+------------------+------------------+-----------------+------------------+-----------------+------------------+------------------+------------------+-----------------+------------------+------------------------+-----------------+-----------------+-----------------+----------------+------------------------+------------------------+\n",
            "|  count|            68|           254|              254|              254|                253|                253|               253|               253|                253|                253|                253|               253|               253|               253|               253|               253|               253|               253|              253|               253|              253|               253|               253|               253|               253|               253|               253|               253|               253|               253|              253|              253|               253|              253|              253|              253|              253|               253|               253|               253|               253|               253|              253|               253|               253|               253|               253|              253|              253|               253|               253|               253|               253|              253|               253|               253|              253|               253|              253|               253|               253|              253|               253|               253|               253|              253|               253|               253|               253|              253|              253|              253|               253|              253|               253|              253|              253|               253|               253|               253|               253|               253|               253|               253|              253|               253|              253|               253|               253|              253|               253|              253|               253|               253|               253|               253|               253|              253|               253|              253|               253|              253|               253|               253|              253|               253|              253|               253|              253|              253|               253|               253|              253|               253|              253|               253|               253|               253|              253|               253|                     251|              252|              252|              252|             252|                      99|                      99|\n",
            "|   mean|          null|          null|19.80138063241106|28.16822271146244|0.11067193675889328|0.11857707509881422|0.1422924901185771|0.1541501976284585|0.20553359683794467|0.24110671936758893|0.42292490118577075|0.4980237154150198|0.5652173913043478|0.8774703557312253|1.1225296442687747| 1.865612648221344|2.4624505928853755| 3.367588932806324|4.442687747035573| 5.877470355731226|7.948616600790514|10.339920948616601| 12.82213438735178|15.596837944664031|18.509881422924902| 20.35573122529644|24.881422924901187|31.849802371541504|37.134387351778656|42.944664031620555|49.73517786561265|56.72727272727273|63.719367588932805|71.84584980237155|74.66403162055336|90.45849802371542|92.46640316205534| 99.71146245059289|110.29644268774703|120.09486166007905|131.52964426877472|145.10276679841897|157.2411067193676|168.83794466403162|180.24505928853756|190.62450592885375|202.25296442687747|212.6324110671937|220.8102766798419|230.66403162055337|239.89723320158103|247.01185770750988|254.56126482213438|264.8339920948617|270.05533596837944|277.67193675889325|287.0513833992095| 300.5296442687747|308.6482213438735|319.52569169960475|329.29644268774706|335.8695652173913| 345.5335968379447| 362.4189723320158| 386.9525691699605|388.7391304347826|426.87747035573125| 449.7509881422925|482.80632411067194|517.4505928853755|551.0474308300395|589.2569169960474| 650.4584980237154|703.6916996047431| 763.6284584980237| 831.102766798419|892.5454545454545| 972.9328063241106|1027.7588932806325|1093.0197628458498|1185.9841897233202|1299.2213438735178|1399.1660079051383|1486.5770750988142|1589.407114624506|1666.8853754940712|1773.407114624506|1873.4387351778655|2017.8498023715415|2140.679841897233|2244.1304347826085|2338.810276679842|2463.6640316205535| 2550.624505928854|2687.3715415019765| 2806.505928853755|2920.8695652173915|3120.889328063241|3230.8498023715415|3343.814229249012|3453.2687747035575|3584.802371541502| 3748.715415019763|4007.4545454545455|4159.743083003953| 4320.699604743083|4447.573122529644| 4595.747035573123|4738.466403162055|4922.581027667984|  5078.02766798419| 5225.494071146245|5437.249011857708| 5569.090909090909|5755.766798418972| 5902.822134387352| 6120.739130434783| 6276.256916996047|6470.620553359684| 6692.478260869565|                    null|78.90836653386454|             null|166.0358565737052|            null|      16.602040816326532|                    null|\n",
            "| stddev|          null|          null|24.55860202369547| 67.0917614327112|  1.760344917693409| 1.7643321140080126|1.9547230859335236| 2.020714299186912| 2.6497321315382916| 2.8523816907970687| 5.0598587703693685| 5.566071044502686| 5.723861886264348| 8.965365806909222|10.730686153342592|18.737687050226356|24.543684190709886|33.234186729576884|40.51241329324368|52.353923822453396|71.39689902607061|  92.3149536201936|115.03910646411173|142.18650949378144| 168.7535916760212|173.03910449170897|221.63465972545464|303.95889376227007| 357.5661634347588|421.56453320451186|498.6383095169532|578.1560527715867| 654.4359047856514| 745.897395461413|752.7831388505256| 966.865535402172|970.2518715793763|1058.5649801544357| 1198.039408232372| 1323.412018956279| 1474.934196847585|1664.4134093828927|1827.047666527573|1986.6242268914239|2137.1734344488727| 2279.986046086567|2427.5176603498926|2555.475219693818|2646.172516611824| 2739.413215208955|  2849.33831314051|  2928.71242157224|3008.4150274492563|3096.512129664184|3170.6934980900533|3248.5547395596823|3337.619015375141|3428.1504691303567|3482.929872790521| 3541.971174070791| 3603.534972314495|3654.166277730149|3704.7710000156894|3755.4378000171114|3799.1428928066925|3826.658413579229| 3883.386041539692|3938.4994782439658|4003.1289158735203|4076.089011478246|4161.284457834049|4250.246627904956|4391.1585161938965|4518.622202720966|4672.4813269073675|4878.984820460702| 5069.27490538618|5308.1622435827285| 5514.191720868438| 5709.110731527808|  6070.47371322236| 6596.268676967986| 7016.557828877549| 7325.829784992188|7751.550554327719|8042.3410192643805|8491.968003220865| 8857.538768356482| 9299.879514984275| 9720.08946964408|10078.224590650178|10401.93361124513| 10812.42884194269|11158.663108204895|11527.545418918058|11952.464209838261| 12371.85959041658|13298.55405985708|13557.376211467174|13992.88469134201|14382.400532811052| 14801.8823722652|15370.983122649804|16828.206066941817|17435.98289392894|18176.774764898448|18576.86894461245|19098.356003981142|19492.12871548333|19976.54290717436|20481.184520440773|20880.171968484756|21694.50042183102|22076.431823174913|22936.28675829837|23140.765013986114|23982.913523807052|24376.616616175135|24890.18550885012|25878.595275958596|                    null|67.91202816674758|             null|139.7846726546345|            null|       8.269606250886955|                    null|\n",
            "|    min|    #adm1+name| #country+name|         #geo+lat|         #geo+lon|                  0|                  0|                 0|                 0|                  0|                  0|                  0|                 0|                 0|                 0|                 0|                 0|                 0|                 0|                0|                 0|                0|                 0|                 0|                 0|                 0|                 0|                 0|                 0|                 0|                 0|                0|                0|                 0|                0|                0|                0|                0|                 0|                 0|                 0|                 0|                 0|                0|                 0|                 0|                 0|                 0|                0|                0|                 0|                 0|                 0|                 0|                0|                 0|                 0|                0|                 0|                0|                 0|                 0|                0|                 0|                 0|                 0|                0|                 0|                 0|                 0|                0|                0|                0|                 0|                0|                 0|                0|                0|                 0|                 0|                 0|                 0|                 0|                 0|                 0|                0|                 0|                0|                 0|                 0|                0|                 0|                0|                 0|                 0|                 0|                 0|                 0|                0|                 0|                0|                 0|                0|                 0|                 0|                0|                 0|                0|                 0|                0|                0|                 0|                 0|                0|                 0|                0|                 0|                 0|                 0|                0|                 0|           #country+code|#region+main+code|#region+main+name| #region+sub+code|#region+sub+name|    #region+intermedi...|    #region+intermedi...|\n",
            "|    max|      Zhejiang|      Zimbabwe|           9.9456|          95.9956|                 28|                 28|                31|                32|                 42|                 45|                 80|                88|                90|               141|               168|               295|               386|               522|              633|               817|             1115|              1439|              1795|              2222|              2639|              2686|              3459|              4774|              5623|              6639|             7862|             9128|             10337|            11788|            11881|            15299|            15343|             16748|             18971|             20969|             23383|             26403|            28993|             31536|             33934|             36208|             38557|            40592|            42033|             43500|             45235|             46488|             47743|            49134|             50318|             51553|            52960|             54288|            55142|             56003|             56927|            57682|             58382|             58946|             59433|            59879|             60324|             60811|             61201|            61732|            62098|            62570|             62889|            63153|             63326|            63471|            63612|             63762|             63945|             64014|             64073|             64142|             64187|             64236|            64264|             64281|            64727|             68200|             72600|            77000|             83114|            85400|             88000|             91500|             95200|             99400|            103300|           109800|            109800|           112000|            114500|           117400|            120720|            153947|           164015|            175382|           180152|            187180|           189791|           189910|            195036|            198993|           212534|            216169|           232733|            230287|            243430|            246414|           250747|            268376|                     ZWE|                9|          Oceania|               61|  Western Europe|                       5|          Western Africa|\n",
            "+-------+--------------+--------------+-----------------+-----------------+-------------------+-------------------+------------------+------------------+-------------------+-------------------+-------------------+------------------+------------------+------------------+------------------+------------------+------------------+------------------+-----------------+------------------+-----------------+------------------+------------------+------------------+------------------+------------------+------------------+------------------+------------------+------------------+-----------------+-----------------+------------------+-----------------+-----------------+-----------------+-----------------+------------------+------------------+------------------+------------------+------------------+-----------------+------------------+------------------+------------------+------------------+-----------------+-----------------+------------------+------------------+------------------+------------------+-----------------+------------------+------------------+-----------------+------------------+-----------------+------------------+------------------+-----------------+------------------+------------------+------------------+-----------------+------------------+------------------+------------------+-----------------+-----------------+-----------------+------------------+-----------------+------------------+-----------------+-----------------+------------------+------------------+------------------+------------------+------------------+------------------+------------------+-----------------+------------------+-----------------+------------------+------------------+-----------------+------------------+-----------------+------------------+------------------+------------------+------------------+------------------+-----------------+------------------+-----------------+------------------+-----------------+------------------+------------------+-----------------+------------------+-----------------+------------------+-----------------+-----------------+------------------+------------------+-----------------+------------------+-----------------+------------------+------------------+------------------+-----------------+------------------+------------------------+-----------------+-----------------+-----------------+----------------+------------------------+------------------------+\n",
            "\n"
          ],
          "name": "stdout"
        }
      ]
    },
    {
      "cell_type": "code",
      "metadata": {
        "id": "0tCCeGqYrV82",
        "colab_type": "code",
        "outputId": "8a43427c-50bf-4e74-db3b-e0dbef9085d7",
        "colab": {
          "base_uri": "https://localhost:8080/",
          "height": 205
        }
      },
      "source": [
        "dfm_recovered_narrow.describe().show()"
      ],
      "execution_count": 0,
      "outputs": [
        {
          "output_type": "stream",
          "text": [
            "+-------+--------------+--------------+------------------+------------------+----------+--------------------+------------------------+-----------------+-----------------+------------------------+\n",
            "|summary|Province/State|Country/Region|               Lat|              Long|      Date|               Value|ISO 3166-1 Alpha 3-Codes|      Region Code|  Sub-region Code|Intermediate Region Code|\n",
            "+-------+--------------+--------------+------------------+------------------+----------+--------------------+------------------------+-----------------+-----------------+------------------------+\n",
            "|  count|          7773|         29349|             29349|             29349|     29349|               29349|                   29001|            29117|            29117|                   11369|\n",
            "|   mean|          null|          null|19.801380632411238|28.168222711461365|      null|   1400.286084230612|                    null|78.90836653386454|166.0358565737052|      16.602040816326532|\n",
            "| stddev|          null|          null|24.510436769097765| 66.96017854506596|      null|   9910.092301669458|                    null|67.77777416567996|139.5083349851764|       8.227668083663147|\n",
            "|    min|    #adm1+name| #country+name|          #geo+lat|          #geo+lon|     #date|#affected+infecte...|           #country+code|#region+main+code| #region+sub+code|    #region+intermedi...|\n",
            "|    max|      Zhejiang|      Zimbabwe|            9.9456|           95.9956|2020-05-16|                 999|                     ZWE|                9|               61|                       5|\n",
            "+-------+--------------+--------------+------------------+------------------+----------+--------------------+------------------------+-----------------+-----------------+------------------------+\n",
            "\n"
          ],
          "name": "stdout"
        }
      ]
    },
    {
      "cell_type": "code",
      "metadata": {
        "id": "5S6Iw3LK7NNB",
        "colab_type": "code",
        "outputId": "e24b3d13-42c1-4d9d-8dd4-f4263660578c",
        "colab": {
          "base_uri": "https://localhost:8080/",
          "height": 205
        }
      },
      "source": [
        "dfm_recovered.describe().show()"
      ],
      "execution_count": 0,
      "outputs": [
        {
          "output_type": "stream",
          "text": [
            "+-------+--------------+--------------+-----------------+-----------------+-------------------+-------------------+------------------+------------------+-------------------+-------------------+-------------------+------------------+------------------+------------------+------------------+------------------+------------------+------------------+-----------------+------------------+-----------------+------------------+------------------+------------------+------------------+------------------+------------------+------------------+------------------+------------------+-----------------+-----------------+------------------+-----------------+-----------------+-----------------+-----------------+------------------+------------------+------------------+------------------+------------------+-----------------+------------------+------------------+------------------+------------------+-----------------+-----------------+------------------+------------------+------------------+------------------+-----------------+------------------+------------------+-----------------+------------------+-----------------+------------------+------------------+-----------------+------------------+------------------+------------------+-----------------+------------------+------------------+------------------+-----------------+-----------------+-----------------+------------------+-----------------+------------------+-----------------+-----------------+------------------+------------------+------------------+------------------+------------------+------------------+------------------+-----------------+------------------+-----------------+------------------+------------------+-----------------+------------------+-----------------+------------------+------------------+------------------+------------------+------------------+-----------------+------------------+-----------------+------------------+-----------------+------------------+------------------+-----------------+------------------+-----------------+------------------+-----------------+-----------------+------------------+------------------+-----------------+------------------+-----------------+------------------+------------------+------------------+-----------------+\n",
            "|summary|Province/State|Country/Region|              Lat|             Long|            1/22/20|            1/23/20|           1/24/20|           1/25/20|            1/26/20|            1/27/20|            1/28/20|           1/29/20|           1/30/20|           1/31/20|            2/1/20|            2/2/20|            2/3/20|            2/4/20|           2/5/20|            2/6/20|           2/7/20|            2/8/20|            2/9/20|           2/10/20|           2/11/20|           2/12/20|           2/13/20|           2/14/20|           2/15/20|           2/16/20|          2/17/20|          2/18/20|           2/19/20|          2/20/20|          2/21/20|          2/22/20|          2/23/20|           2/24/20|           2/25/20|           2/26/20|           2/27/20|           2/28/20|          2/29/20|            3/1/20|            3/2/20|            3/3/20|            3/4/20|           3/5/20|           3/6/20|            3/7/20|            3/8/20|            3/9/20|           3/10/20|          3/11/20|           3/12/20|           3/13/20|          3/14/20|           3/15/20|          3/16/20|           3/17/20|           3/18/20|          3/19/20|           3/20/20|           3/21/20|           3/22/20|          3/23/20|           3/24/20|           3/25/20|           3/26/20|          3/27/20|          3/28/20|          3/29/20|           3/30/20|          3/31/20|            4/1/20|           4/2/20|           4/3/20|            4/4/20|            4/5/20|            4/6/20|            4/7/20|            4/8/20|            4/9/20|           4/10/20|          4/11/20|           4/12/20|          4/13/20|           4/14/20|           4/15/20|          4/16/20|           4/17/20|          4/18/20|           4/19/20|           4/20/20|           4/21/20|           4/22/20|           4/23/20|          4/24/20|           4/25/20|          4/26/20|           4/27/20|          4/28/20|           4/29/20|           4/30/20|           5/1/20|            5/2/20|           5/3/20|            5/4/20|           5/5/20|           5/6/20|            5/7/20|            5/8/20|           5/9/20|           5/10/20|          5/11/20|           5/12/20|           5/13/20|           5/14/20|          5/15/20|\n",
            "+-------+--------------+--------------+-----------------+-----------------+-------------------+-------------------+------------------+------------------+-------------------+-------------------+-------------------+------------------+------------------+------------------+------------------+------------------+------------------+------------------+-----------------+------------------+-----------------+------------------+------------------+------------------+------------------+------------------+------------------+------------------+------------------+------------------+-----------------+-----------------+------------------+-----------------+-----------------+-----------------+-----------------+------------------+------------------+------------------+------------------+------------------+-----------------+------------------+------------------+------------------+------------------+-----------------+-----------------+------------------+------------------+------------------+------------------+-----------------+------------------+------------------+-----------------+------------------+-----------------+------------------+------------------+-----------------+------------------+------------------+------------------+-----------------+------------------+------------------+------------------+-----------------+-----------------+-----------------+------------------+-----------------+------------------+-----------------+-----------------+------------------+------------------+------------------+------------------+------------------+------------------+------------------+-----------------+------------------+-----------------+------------------+------------------+-----------------+------------------+-----------------+------------------+------------------+------------------+------------------+------------------+-----------------+------------------+-----------------+------------------+-----------------+------------------+------------------+-----------------+------------------+-----------------+------------------+-----------------+-----------------+------------------+------------------+-----------------+------------------+-----------------+------------------+------------------+------------------+-----------------+\n",
            "|  count|            67|           253|              253|              253|                253|                253|               253|               253|                253|                253|                253|               253|               253|               253|               253|               253|               253|               253|              253|               253|              253|               253|               253|               253|               253|               253|               253|               253|               253|               253|              253|              253|               253|              253|              253|              253|              253|               253|               253|               253|               253|               253|              253|               253|               253|               253|               253|              253|              253|               253|               253|               253|               253|              253|               253|               253|              253|               253|              253|               253|               253|              253|               253|               253|               253|              253|               253|               253|               253|              253|              253|              253|               253|              253|               253|              253|              253|               253|               253|               253|               253|               253|               253|               253|              253|               253|              253|               253|               253|              253|               253|              253|               253|               253|               253|               253|               253|              253|               253|              253|               253|              253|               253|               253|              253|               253|              253|               253|              253|              253|               253|               253|              253|               253|              253|               253|               253|               253|              253|\n",
            "|   mean|          null|          null|19.80138063241106|28.16822271146244|0.11067193675889328|0.11857707509881422|0.1422924901185771|0.1541501976284585|0.20553359683794467|0.24110671936758893|0.42292490118577075|0.4980237154150198|0.5652173913043478|0.8774703557312253|1.1225296442687747| 1.865612648221344|2.4624505928853755| 3.367588932806324|4.442687747035573| 5.877470355731226|7.948616600790514|10.339920948616601| 12.82213438735178|15.596837944664031|18.509881422924902| 20.35573122529644|24.881422924901187|31.849802371541504|37.134387351778656|42.944664031620555|49.73517786561265|56.72727272727273|63.719367588932805|71.84584980237155|74.66403162055336|90.45849802371542|92.46640316205534| 99.71146245059289|110.29644268774703|120.09486166007905|131.52964426877472|145.10276679841897|157.2411067193676|168.83794466403162|180.24505928853756|190.62450592885375|202.25296442687747|212.6324110671937|220.8102766798419|230.66403162055337|239.89723320158103|247.01185770750988|254.56126482213438|264.8339920948617|270.05533596837944|277.67193675889325|287.0513833992095| 300.5296442687747|308.6482213438735|319.52569169960475|329.29644268774706|335.8695652173913| 345.5335968379447| 362.4189723320158| 386.9525691699605|388.7391304347826|426.87747035573125| 449.7509881422925|482.80632411067194|517.4505928853755|551.0474308300395|589.2569169960474| 650.4584980237154|703.6916996047431| 763.6284584980237| 831.102766798419|892.5454545454545| 972.9328063241106|1027.7588932806325|1093.0197628458498|1185.9841897233202|1299.2213438735178|1399.1660079051383|1486.5770750988142|1589.407114624506|1666.8853754940712|1773.407114624506|1873.4387351778655|2017.8498023715415|2140.679841897233|2244.1304347826085|2338.810276679842|2463.6640316205535| 2550.624505928854|2687.3715415019765| 2806.505928853755|2920.8695652173915|3120.889328063241|3230.8498023715415|3343.814229249012|3453.2687747035575|3584.802371541502| 3748.715415019763|4007.4545454545455|4159.743083003953| 4320.699604743083|4447.573122529644| 4595.747035573123|4738.466403162055|4922.581027667984|  5078.02766798419| 5225.494071146245|5437.249011857708| 5569.090909090909|5755.766798418972| 5902.822134387352| 6120.739130434783| 6276.256916996047|6470.620553359684|\n",
            "| stddev|          null|          null|24.55860202369547| 67.0917614327112|  1.760344917693409| 1.7643321140080126|1.9547230859335236| 2.020714299186912| 2.6497321315382916| 2.8523816907970687| 5.0598587703693685| 5.566071044502686| 5.723861886264348| 8.965365806909222|10.730686153342592|18.737687050226356|24.543684190709886|33.234186729576884|40.51241329324368|52.353923822453396|71.39689902607061|  92.3149536201936|115.03910646411173|142.18650949378144| 168.7535916760212|173.03910449170897|221.63465972545464|303.95889376227007| 357.5661634347588|421.56453320451186|498.6383095169532|578.1560527715867| 654.4359047856514| 745.897395461413|752.7831388505256| 966.865535402172|970.2518715793763|1058.5649801544357| 1198.039408232372| 1323.412018956279| 1474.934196847585|1664.4134093828927|1827.047666527573|1986.6242268914239|2137.1734344488727| 2279.986046086567|2427.5176603498926|2555.475219693818|2646.172516611824| 2739.413215208955|  2849.33831314051|  2928.71242157224|3008.4150274492563|3096.512129664184|3170.6934980900533|3248.5547395596823|3337.619015375141|3428.1504691303567|3482.929872790521| 3541.971174070791| 3603.534972314495|3654.166277730149|3704.7710000156894|3755.4378000171114|3799.1428928066925|3826.658413579229| 3883.386041539692|3938.4994782439658|4003.1289158735203|4076.089011478246|4161.284457834049|4250.246627904956|4391.1585161938965|4518.622202720966|4672.4813269073675|4878.984820460702| 5069.27490538618|5308.1622435827285| 5514.191720868438| 5709.110731527808|  6070.47371322236| 6596.268676967986| 7016.557828877549| 7325.829784992188|7751.550554327719|8042.3410192643805|8491.968003220865| 8857.538768356482| 9299.879514984275| 9720.08946964408|10078.224590650178|10401.93361124513| 10812.42884194269|11158.663108204895|11527.545418918058|11952.464209838261| 12371.85959041658|13298.55405985708|13557.376211467174|13992.88469134201|14382.400532811052| 14801.8823722652|15370.983122649804|16828.206066941817|17435.98289392894|18176.774764898448|18576.86894461245|19098.356003981142|19492.12871548333|19976.54290717436|20481.184520440773|20880.171968484756|21694.50042183102|22076.431823174913|22936.28675829837|23140.765013986114|23982.913523807052|24376.616616175135|24890.18550885012|\n",
            "|    min|      Anguilla|   Afghanistan|         -51.7963|        -106.3468|                  0|                  0|                 0|                 0|                  0|                  0|                  0|                 0|                 0|                 0|                 0|                 0|                 0|                 0|                0|                 0|                0|                 0|                 0|                 0|                 0|                 0|                 0|                 0|                 0|                 0|                0|                0|                 0|                0|                0|                0|                0|                 0|                 0|                 0|                 0|                 0|                0|                 0|                 0|                 0|                 0|                0|                0|                 0|                 0|                 0|                 0|                0|                 0|                 0|                0|                 0|                0|                 0|                 0|                0|                 0|                 0|                 0|                0|                 0|                 0|                 0|                0|                0|                0|                 0|                0|                 0|                0|                0|                 0|                 0|                 0|                 0|                 0|                 0|                 0|                0|                 0|                0|                 0|                 0|                0|                 0|                0|                 0|                 0|                 0|                 0|                 0|                0|                 0|                0|                 0|                0|                 0|                 0|                0|                 0|                0|                 0|                0|                0|                 0|                 0|                0|                 0|                0|                 0|                 0|                 0|                0|\n",
            "|    max|      Zhejiang|      Zimbabwe|          71.7069|          178.065|                 28|                 28|                31|                32|                 42|                 45|                 80|                88|                90|               141|               168|               295|               386|               522|              633|               817|             1115|              1439|              1795|              2222|              2639|              2686|              3459|              4774|              5623|              6639|             7862|             9128|             10337|            11788|            11881|            15299|            15343|             16748|             18971|             20969|             23383|             26403|            28993|             31536|             33934|             36208|             38557|            40592|            42033|             43500|             45235|             46488|             47743|            49134|             50318|             51553|            52960|             54288|            55142|             56003|             56927|            57682|             58382|             58946|             59433|            59879|             60324|             60811|             61201|            61732|            62098|            62570|             62889|            63153|             63326|            63471|            63612|             63762|             63945|             64014|             64073|             64142|             64187|             64236|            64264|             64281|            64727|             68200|             72600|            77000|             83114|            85400|             88000|             91500|             95200|             99400|            103300|           109800|            109800|           112000|            114500|           117400|            120720|            153947|           164015|            175382|           180152|            187180|           189791|           189910|            195036|            198993|           212534|            216169|           232733|            230287|            243430|            246414|           250747|\n",
            "+-------+--------------+--------------+-----------------+-----------------+-------------------+-------------------+------------------+------------------+-------------------+-------------------+-------------------+------------------+------------------+------------------+------------------+------------------+------------------+------------------+-----------------+------------------+-----------------+------------------+------------------+------------------+------------------+------------------+------------------+------------------+------------------+------------------+-----------------+-----------------+------------------+-----------------+-----------------+-----------------+-----------------+------------------+------------------+------------------+------------------+------------------+-----------------+------------------+------------------+------------------+------------------+-----------------+-----------------+------------------+------------------+------------------+------------------+-----------------+------------------+------------------+-----------------+------------------+-----------------+------------------+------------------+-----------------+------------------+------------------+------------------+-----------------+------------------+------------------+------------------+-----------------+-----------------+-----------------+------------------+-----------------+------------------+-----------------+-----------------+------------------+------------------+------------------+------------------+------------------+------------------+------------------+-----------------+------------------+-----------------+------------------+------------------+-----------------+------------------+-----------------+------------------+------------------+------------------+------------------+------------------+-----------------+------------------+-----------------+------------------+-----------------+------------------+------------------+-----------------+------------------+-----------------+------------------+-----------------+-----------------+------------------+------------------+-----------------+------------------+-----------------+------------------+------------------+------------------+-----------------+\n",
            "\n"
          ],
          "name": "stdout"
        }
      ]
    },
    {
      "cell_type": "code",
      "metadata": {
        "id": "5yzEVEHErfSR",
        "colab_type": "code",
        "outputId": "3c9d2a6b-fb33-4607-836f-86b4006ff478",
        "colab": {
          "base_uri": "https://localhost:8080/",
          "height": 205
        }
      },
      "source": [
        "dfm_recovered_iso.describe().show()"
      ],
      "execution_count": 0,
      "outputs": [
        {
          "output_type": "stream",
          "text": [
            "+-------+--------------+--------------+-----------------+-----------------+-------------------+-------------------+------------------+------------------+-------------------+-------------------+-------------------+------------------+------------------+------------------+------------------+------------------+------------------+------------------+-----------------+------------------+-----------------+------------------+------------------+------------------+------------------+------------------+------------------+------------------+------------------+------------------+-----------------+-----------------+------------------+-----------------+-----------------+-----------------+-----------------+------------------+------------------+------------------+------------------+------------------+-----------------+------------------+------------------+------------------+------------------+-----------------+-----------------+------------------+------------------+------------------+------------------+-----------------+------------------+------------------+-----------------+------------------+-----------------+------------------+------------------+-----------------+------------------+------------------+------------------+-----------------+------------------+------------------+------------------+-----------------+-----------------+-----------------+------------------+-----------------+------------------+-----------------+-----------------+------------------+------------------+------------------+------------------+------------------+------------------+------------------+-----------------+------------------+-----------------+------------------+------------------+-----------------+------------------+-----------------+------------------+------------------+------------------+------------------+------------------+-----------------+------------------+-----------------+------------------+-----------------+------------------+------------------+-----------------+------------------+-----------------+------------------+-----------------+-----------------+------------------+------------------+-----------------+------------------+-----------------+------------------+------------------+------------------+-----------------+------------------+------------------------+-----------------+-----------------+-----------------+----------------+------------------------+------------------------+\n",
            "|summary|Province/State|Country/Region|              Lat|             Long|            1/22/20|            1/23/20|           1/24/20|           1/25/20|            1/26/20|            1/27/20|            1/28/20|           1/29/20|           1/30/20|           1/31/20|            2/1/20|            2/2/20|            2/3/20|            2/4/20|           2/5/20|            2/6/20|           2/7/20|            2/8/20|            2/9/20|           2/10/20|           2/11/20|           2/12/20|           2/13/20|           2/14/20|           2/15/20|           2/16/20|          2/17/20|          2/18/20|           2/19/20|          2/20/20|          2/21/20|          2/22/20|          2/23/20|           2/24/20|           2/25/20|           2/26/20|           2/27/20|           2/28/20|          2/29/20|            3/1/20|            3/2/20|            3/3/20|            3/4/20|           3/5/20|           3/6/20|            3/7/20|            3/8/20|            3/9/20|           3/10/20|          3/11/20|           3/12/20|           3/13/20|          3/14/20|           3/15/20|          3/16/20|           3/17/20|           3/18/20|          3/19/20|           3/20/20|           3/21/20|           3/22/20|          3/23/20|           3/24/20|           3/25/20|           3/26/20|          3/27/20|          3/28/20|          3/29/20|           3/30/20|          3/31/20|            4/1/20|           4/2/20|           4/3/20|            4/4/20|            4/5/20|            4/6/20|            4/7/20|            4/8/20|            4/9/20|           4/10/20|          4/11/20|           4/12/20|          4/13/20|           4/14/20|           4/15/20|          4/16/20|           4/17/20|          4/18/20|           4/19/20|           4/20/20|           4/21/20|           4/22/20|           4/23/20|          4/24/20|           4/25/20|          4/26/20|           4/27/20|          4/28/20|           4/29/20|           4/30/20|           5/1/20|            5/2/20|           5/3/20|            5/4/20|           5/5/20|           5/6/20|            5/7/20|            5/8/20|           5/9/20|           5/10/20|          5/11/20|           5/12/20|           5/13/20|           5/14/20|          5/15/20|           5/16/20|ISO 3166-1 Alpha 3-Codes|      Region Code|      Region Name|  Sub-region Code| Sub-region Name|Intermediate Region Code|Intermediate Region Name|\n",
            "+-------+--------------+--------------+-----------------+-----------------+-------------------+-------------------+------------------+------------------+-------------------+-------------------+-------------------+------------------+------------------+------------------+------------------+------------------+------------------+------------------+-----------------+------------------+-----------------+------------------+------------------+------------------+------------------+------------------+------------------+------------------+------------------+------------------+-----------------+-----------------+------------------+-----------------+-----------------+-----------------+-----------------+------------------+------------------+------------------+------------------+------------------+-----------------+------------------+------------------+------------------+------------------+-----------------+-----------------+------------------+------------------+------------------+------------------+-----------------+------------------+------------------+-----------------+------------------+-----------------+------------------+------------------+-----------------+------------------+------------------+------------------+-----------------+------------------+------------------+------------------+-----------------+-----------------+-----------------+------------------+-----------------+------------------+-----------------+-----------------+------------------+------------------+------------------+------------------+------------------+------------------+------------------+-----------------+------------------+-----------------+------------------+------------------+-----------------+------------------+-----------------+------------------+------------------+------------------+------------------+------------------+-----------------+------------------+-----------------+------------------+-----------------+------------------+------------------+-----------------+------------------+-----------------+------------------+-----------------+-----------------+------------------+------------------+-----------------+------------------+-----------------+------------------+------------------+------------------+-----------------+------------------+------------------------+-----------------+-----------------+-----------------+----------------+------------------------+------------------------+\n",
            "|  count|            68|           254|              254|              254|                253|                253|               253|               253|                253|                253|                253|               253|               253|               253|               253|               253|               253|               253|              253|               253|              253|               253|               253|               253|               253|               253|               253|               253|               253|               253|              253|              253|               253|              253|              253|              253|              253|               253|               253|               253|               253|               253|              253|               253|               253|               253|               253|              253|              253|               253|               253|               253|               253|              253|               253|               253|              253|               253|              253|               253|               253|              253|               253|               253|               253|              253|               253|               253|               253|              253|              253|              253|               253|              253|               253|              253|              253|               253|               253|               253|               253|               253|               253|               253|              253|               253|              253|               253|               253|              253|               253|              253|               253|               253|               253|               253|               253|              253|               253|              253|               253|              253|               253|               253|              253|               253|              253|               253|              253|              253|               253|               253|              253|               253|              253|               253|               253|               253|              253|               253|                     251|              252|              252|              252|             252|                      99|                      99|\n",
            "|   mean|          null|          null|19.80138063241106|28.16822271146244|0.11067193675889328|0.11857707509881422|0.1422924901185771|0.1541501976284585|0.20553359683794467|0.24110671936758893|0.42292490118577075|0.4980237154150198|0.5652173913043478|0.8774703557312253|1.1225296442687747| 1.865612648221344|2.4624505928853755| 3.367588932806324|4.442687747035573| 5.877470355731226|7.948616600790514|10.339920948616601| 12.82213438735178|15.596837944664031|18.509881422924902| 20.35573122529644|24.881422924901187|31.849802371541504|37.134387351778656|42.944664031620555|49.73517786561265|56.72727272727273|63.719367588932805|71.84584980237155|74.66403162055336|90.45849802371542|92.46640316205534| 99.71146245059289|110.29644268774703|120.09486166007905|131.52964426877472|145.10276679841897|157.2411067193676|168.83794466403162|180.24505928853756|190.62450592885375|202.25296442687747|212.6324110671937|220.8102766798419|230.66403162055337|239.89723320158103|247.01185770750988|254.56126482213438|264.8339920948617|270.05533596837944|277.67193675889325|287.0513833992095| 300.5296442687747|308.6482213438735|319.52569169960475|329.29644268774706|335.8695652173913| 345.5335968379447| 362.4189723320158| 386.9525691699605|388.7391304347826|426.87747035573125| 449.7509881422925|482.80632411067194|517.4505928853755|551.0474308300395|589.2569169960474| 650.4584980237154|703.6916996047431| 763.6284584980237| 831.102766798419|892.5454545454545| 972.9328063241106|1027.7588932806325|1093.0197628458498|1185.9841897233202|1299.2213438735178|1399.1660079051383|1486.5770750988142|1589.407114624506|1666.8853754940712|1773.407114624506|1873.4387351778655|2017.8498023715415|2140.679841897233|2244.1304347826085|2338.810276679842|2463.6640316205535| 2550.624505928854|2687.3715415019765| 2806.505928853755|2920.8695652173915|3120.889328063241|3230.8498023715415|3343.814229249012|3453.2687747035575|3584.802371541502| 3748.715415019763|4007.4545454545455|4159.743083003953| 4320.699604743083|4447.573122529644| 4595.747035573123|4738.466403162055|4922.581027667984|  5078.02766798419| 5225.494071146245|5437.249011857708| 5569.090909090909|5755.766798418972| 5902.822134387352| 6120.739130434783| 6276.256916996047|6470.620553359684| 6692.478260869565|                    null|78.90836653386454|             null|166.0358565737052|            null|      16.602040816326532|                    null|\n",
            "| stddev|          null|          null|24.55860202369547| 67.0917614327112|  1.760344917693409| 1.7643321140080126|1.9547230859335236| 2.020714299186912| 2.6497321315382916| 2.8523816907970687| 5.0598587703693685| 5.566071044502686| 5.723861886264348| 8.965365806909222|10.730686153342592|18.737687050226356|24.543684190709886|33.234186729576884|40.51241329324368|52.353923822453396|71.39689902607061|  92.3149536201936|115.03910646411173|142.18650949378144| 168.7535916760212|173.03910449170897|221.63465972545464|303.95889376227007| 357.5661634347588|421.56453320451186|498.6383095169532|578.1560527715867| 654.4359047856514| 745.897395461413|752.7831388505256| 966.865535402172|970.2518715793763|1058.5649801544357| 1198.039408232372| 1323.412018956279| 1474.934196847585|1664.4134093828927|1827.047666527573|1986.6242268914239|2137.1734344488727| 2279.986046086567|2427.5176603498926|2555.475219693818|2646.172516611824| 2739.413215208955|  2849.33831314051|  2928.71242157224|3008.4150274492563|3096.512129664184|3170.6934980900533|3248.5547395596823|3337.619015375141|3428.1504691303567|3482.929872790521| 3541.971174070791| 3603.534972314495|3654.166277730149|3704.7710000156894|3755.4378000171114|3799.1428928066925|3826.658413579229| 3883.386041539692|3938.4994782439658|4003.1289158735203|4076.089011478246|4161.284457834049|4250.246627904956|4391.1585161938965|4518.622202720966|4672.4813269073675|4878.984820460702| 5069.27490538618|5308.1622435827285| 5514.191720868438| 5709.110731527808|  6070.47371322236| 6596.268676967986| 7016.557828877549| 7325.829784992188|7751.550554327719|8042.3410192643805|8491.968003220865| 8857.538768356482| 9299.879514984275| 9720.08946964408|10078.224590650178|10401.93361124513| 10812.42884194269|11158.663108204895|11527.545418918058|11952.464209838261| 12371.85959041658|13298.55405985708|13557.376211467174|13992.88469134201|14382.400532811052| 14801.8823722652|15370.983122649804|16828.206066941817|17435.98289392894|18176.774764898448|18576.86894461245|19098.356003981142|19492.12871548333|19976.54290717436|20481.184520440773|20880.171968484756|21694.50042183102|22076.431823174913|22936.28675829837|23140.765013986114|23982.913523807052|24376.616616175135|24890.18550885012|25878.595275958596|                    null|67.91202816674758|             null|139.7846726546345|            null|       8.269606250886955|                    null|\n",
            "|    min|    #adm1+name| #country+name|         #geo+lat|         #geo+lon|                  0|                  0|                 0|                 0|                  0|                  0|                  0|                 0|                 0|                 0|                 0|                 0|                 0|                 0|                0|                 0|                0|                 0|                 0|                 0|                 0|                 0|                 0|                 0|                 0|                 0|                0|                0|                 0|                0|                0|                0|                0|                 0|                 0|                 0|                 0|                 0|                0|                 0|                 0|                 0|                 0|                0|                0|                 0|                 0|                 0|                 0|                0|                 0|                 0|                0|                 0|                0|                 0|                 0|                0|                 0|                 0|                 0|                0|                 0|                 0|                 0|                0|                0|                0|                 0|                0|                 0|                0|                0|                 0|                 0|                 0|                 0|                 0|                 0|                 0|                0|                 0|                0|                 0|                 0|                0|                 0|                0|                 0|                 0|                 0|                 0|                 0|                0|                 0|                0|                 0|                0|                 0|                 0|                0|                 0|                0|                 0|                0|                0|                 0|                 0|                0|                 0|                0|                 0|                 0|                 0|                0|                 0|           #country+code|#region+main+code|#region+main+name| #region+sub+code|#region+sub+name|    #region+intermedi...|    #region+intermedi...|\n",
            "|    max|      Zhejiang|      Zimbabwe|           9.9456|          95.9956|                 28|                 28|                31|                32|                 42|                 45|                 80|                88|                90|               141|               168|               295|               386|               522|              633|               817|             1115|              1439|              1795|              2222|              2639|              2686|              3459|              4774|              5623|              6639|             7862|             9128|             10337|            11788|            11881|            15299|            15343|             16748|             18971|             20969|             23383|             26403|            28993|             31536|             33934|             36208|             38557|            40592|            42033|             43500|             45235|             46488|             47743|            49134|             50318|             51553|            52960|             54288|            55142|             56003|             56927|            57682|             58382|             58946|             59433|            59879|             60324|             60811|             61201|            61732|            62098|            62570|             62889|            63153|             63326|            63471|            63612|             63762|             63945|             64014|             64073|             64142|             64187|             64236|            64264|             64281|            64727|             68200|             72600|            77000|             83114|            85400|             88000|             91500|             95200|             99400|            103300|           109800|            109800|           112000|            114500|           117400|            120720|            153947|           164015|            175382|           180152|            187180|           189791|           189910|            195036|            198993|           212534|            216169|           232733|            230287|            243430|            246414|           250747|            268376|                     ZWE|                9|          Oceania|               61|  Western Europe|                       5|          Western Africa|\n",
            "+-------+--------------+--------------+-----------------+-----------------+-------------------+-------------------+------------------+------------------+-------------------+-------------------+-------------------+------------------+------------------+------------------+------------------+------------------+------------------+------------------+-----------------+------------------+-----------------+------------------+------------------+------------------+------------------+------------------+------------------+------------------+------------------+------------------+-----------------+-----------------+------------------+-----------------+-----------------+-----------------+-----------------+------------------+------------------+------------------+------------------+------------------+-----------------+------------------+------------------+------------------+------------------+-----------------+-----------------+------------------+------------------+------------------+------------------+-----------------+------------------+------------------+-----------------+------------------+-----------------+------------------+------------------+-----------------+------------------+------------------+------------------+-----------------+------------------+------------------+------------------+-----------------+-----------------+-----------------+------------------+-----------------+------------------+-----------------+-----------------+------------------+------------------+------------------+------------------+------------------+------------------+------------------+-----------------+------------------+-----------------+------------------+------------------+-----------------+------------------+-----------------+------------------+------------------+------------------+------------------+------------------+-----------------+------------------+-----------------+------------------+-----------------+------------------+------------------+-----------------+------------------+-----------------+------------------+-----------------+-----------------+------------------+------------------+-----------------+------------------+-----------------+------------------+------------------+------------------+-----------------+------------------+------------------------+-----------------+-----------------+-----------------+----------------+------------------------+------------------------+\n",
            "\n"
          ],
          "name": "stdout"
        }
      ]
    },
    {
      "cell_type": "code",
      "metadata": {
        "id": "IRrfuk-urfZo",
        "colab_type": "code",
        "outputId": "5a812d64-7083-4da2-ae14-e7f5b9eb517d",
        "colab": {
          "base_uri": "https://localhost:8080/",
          "height": 205
        }
      },
      "source": [
        "dfm_recovered_narrow.describe().show()"
      ],
      "execution_count": 0,
      "outputs": [
        {
          "output_type": "stream",
          "text": [
            "+-------+--------------+--------------+------------------+------------------+----------+--------------------+------------------------+-----------------+-----------------+------------------------+\n",
            "|summary|Province/State|Country/Region|               Lat|              Long|      Date|               Value|ISO 3166-1 Alpha 3-Codes|      Region Code|  Sub-region Code|Intermediate Region Code|\n",
            "+-------+--------------+--------------+------------------+------------------+----------+--------------------+------------------------+-----------------+-----------------+------------------------+\n",
            "|  count|          7773|         29349|             29349|             29349|     29349|               29349|                   29001|            29117|            29117|                   11369|\n",
            "|   mean|          null|          null|19.801380632411238|28.168222711461365|      null|   1400.286084230612|                    null|78.90836653386454|166.0358565737052|      16.602040816326532|\n",
            "| stddev|          null|          null|24.510436769097765| 66.96017854506596|      null|   9910.092301669458|                    null|67.77777416567996|139.5083349851764|       8.227668083663147|\n",
            "|    min|    #adm1+name| #country+name|          #geo+lat|          #geo+lon|     #date|#affected+infecte...|           #country+code|#region+main+code| #region+sub+code|    #region+intermedi...|\n",
            "|    max|      Zhejiang|      Zimbabwe|            9.9456|           95.9956|2020-05-16|                 999|                     ZWE|                9|               61|                       5|\n",
            "+-------+--------------+--------------+------------------+------------------+----------+--------------------+------------------------+-----------------+-----------------+------------------------+\n",
            "\n"
          ],
          "name": "stdout"
        }
      ]
    },
    {
      "cell_type": "code",
      "metadata": {
        "id": "ImyghVcSw5R-",
        "colab_type": "code",
        "colab": {}
      },
      "source": [
        "#Eliminacion de columnas que no necesitamos para ánalisis a nivel mundial\n",
        "dfm_per_days = dfm.drop('Province/State',\n",
        " 'Country/Region',\n",
        " 'Lat',\n",
        " 'Long',\n",
        " 'ISO 3166-1 Alpha 3-Codes',\n",
        " 'Region Code',\n",
        " 'Region Name',\n",
        " 'Sub-region Code',\n",
        " 'Sub-region Name',\n",
        " 'Intermediate Region Code',\n",
        " 'Intermediate Region Name')"
      ],
      "execution_count": 0,
      "outputs": []
    },
    {
      "cell_type": "code",
      "metadata": {
        "id": "_06pUvX2w5SB",
        "colab_type": "code",
        "outputId": "28877f43-6b16-49b7-9dd0-cd4026675d83",
        "colab": {
          "base_uri": "https://localhost:8080/",
          "height": 1000
        }
      },
      "source": [
        "#DataFrame por días#\n",
        "dfm_per_days.columns"
      ],
      "execution_count": 0,
      "outputs": [
        {
          "output_type": "execute_result",
          "data": {
            "text/plain": [
              "['1/22/20',\n",
              " '1/23/20',\n",
              " '1/24/20',\n",
              " '1/25/20',\n",
              " '1/26/20',\n",
              " '1/27/20',\n",
              " '1/28/20',\n",
              " '1/29/20',\n",
              " '1/30/20',\n",
              " '1/31/20',\n",
              " '2/1/20',\n",
              " '2/2/20',\n",
              " '2/3/20',\n",
              " '2/4/20',\n",
              " '2/5/20',\n",
              " '2/6/20',\n",
              " '2/7/20',\n",
              " '2/8/20',\n",
              " '2/9/20',\n",
              " '2/10/20',\n",
              " '2/11/20',\n",
              " '2/12/20',\n",
              " '2/13/20',\n",
              " '2/14/20',\n",
              " '2/15/20',\n",
              " '2/16/20',\n",
              " '2/17/20',\n",
              " '2/18/20',\n",
              " '2/19/20',\n",
              " '2/20/20',\n",
              " '2/21/20',\n",
              " '2/22/20',\n",
              " '2/23/20',\n",
              " '2/24/20',\n",
              " '2/25/20',\n",
              " '2/26/20',\n",
              " '2/27/20',\n",
              " '2/28/20',\n",
              " '2/29/20',\n",
              " '3/1/20',\n",
              " '3/2/20',\n",
              " '3/3/20',\n",
              " '3/4/20',\n",
              " '3/5/20',\n",
              " '3/6/20',\n",
              " '3/7/20',\n",
              " '3/8/20',\n",
              " '3/9/20',\n",
              " '3/10/20',\n",
              " '3/11/20',\n",
              " '3/12/20',\n",
              " '3/13/20',\n",
              " '3/14/20',\n",
              " '3/15/20',\n",
              " '3/16/20',\n",
              " '3/17/20',\n",
              " '3/18/20',\n",
              " '3/19/20',\n",
              " '3/20/20',\n",
              " '3/21/20',\n",
              " '3/22/20',\n",
              " '3/23/20',\n",
              " '3/24/20',\n",
              " '3/25/20',\n",
              " '3/26/20',\n",
              " '3/27/20',\n",
              " '3/28/20',\n",
              " '3/29/20',\n",
              " '3/30/20',\n",
              " '3/31/20',\n",
              " '4/1/20',\n",
              " '4/2/20',\n",
              " '4/3/20',\n",
              " '4/4/20',\n",
              " '4/5/20',\n",
              " '4/6/20',\n",
              " '4/7/20',\n",
              " '4/8/20',\n",
              " '4/9/20',\n",
              " '4/10/20',\n",
              " '4/11/20',\n",
              " '4/12/20',\n",
              " '4/13/20',\n",
              " '4/14/20',\n",
              " '4/15/20',\n",
              " '4/16/20',\n",
              " '4/17/20',\n",
              " '4/18/20',\n",
              " '4/19/20',\n",
              " '4/20/20',\n",
              " '4/21/20',\n",
              " '4/22/20',\n",
              " '4/23/20',\n",
              " '4/24/20',\n",
              " '4/25/20',\n",
              " '4/26/20',\n",
              " '4/27/20',\n",
              " '4/28/20',\n",
              " '4/29/20',\n",
              " '4/30/20',\n",
              " '5/1/20',\n",
              " '5/2/20',\n",
              " '5/3/20',\n",
              " '5/4/20',\n",
              " '5/5/20',\n",
              " '5/6/20',\n",
              " '5/7/20',\n",
              " '5/8/20',\n",
              " '5/9/20',\n",
              " '5/10/20',\n",
              " '5/11/20',\n",
              " '5/12/20',\n",
              " '5/13/20',\n",
              " '5/14/20']"
            ]
          },
          "metadata": {
            "tags": []
          },
          "execution_count": 23
        }
      ]
    },
    {
      "cell_type": "markdown",
      "metadata": {
        "id": "lmOkLclXyURD",
        "colab_type": "text"
      },
      "source": [
        "**Vemmos cuál es la cantidad de confirmados, muertos y confirmados**"
      ]
    },
    {
      "cell_type": "code",
      "metadata": {
        "id": "cavIs3JCw5SG",
        "colab_type": "code",
        "outputId": "75499d16-777c-4b1a-afd8-a8d73c6e8c8c",
        "colab": {
          "base_uri": "https://localhost:8080/",
          "height": 34
        }
      },
      "source": [
        "#casos confirmados a nivel mundial#\n",
        "casos_por_dia = dfm_per_days.select(dfm_per_days.columns[-1])\n",
        "Total_Global = casos_por_dia.groupBy().sum().collect()[0][0]\n",
        "print('Total casos confirmados a nivel mundial:', Total_Global)"
      ],
      "execution_count": 0,
      "outputs": [
        {
          "output_type": "stream",
          "text": [
            "Total casos confirmados a nivel mundial: 4442163\n"
          ],
          "name": "stdout"
        }
      ]
    },
    {
      "cell_type": "code",
      "metadata": {
        "colab_type": "code",
        "outputId": "f7da9167-abeb-42df-d542-1491e13cac1d",
        "id": "tAwqxvQi_m8d",
        "colab": {
          "base_uri": "https://localhost:8080/",
          "height": 34
        }
      },
      "source": [
        "#Muertos a nivel mundial#\n",
        "muertes_por_dia= dfm_death.select(dfm_death.columns[-1])\n",
        "Total_muertes_Global = muertes_por_dia.groupBy().sum().collect()[0][0]\n",
        "print('Total muertes a nivel mundial:', Total_muertes_Global)"
      ],
      "execution_count": 0,
      "outputs": [
        {
          "output_type": "stream",
          "text": [
            "Total muertes a nivel mundial: 307666\n"
          ],
          "name": "stdout"
        }
      ]
    },
    {
      "cell_type": "code",
      "metadata": {
        "colab_type": "code",
        "outputId": "c408942b-4251-4279-e9ee-182c390af374",
        "id": "BKcJ-UmUAMDh",
        "colab": {
          "base_uri": "https://localhost:8080/",
          "height": 34
        }
      },
      "source": [
        "#Recuperados a nivel mundial#\n",
        "recuperados_por_dia = dfm_recovered.select(dfm_recovered.columns[-1])\n",
        "Total_recuperados_Global = recuperados_por_dia.groupBy().sum().collect()[0][0]\n",
        "print('Total recuperados a nivel mundial:', Total_recuperados_Global)"
      ],
      "execution_count": 0,
      "outputs": [
        {
          "output_type": "stream",
          "text": [
            "Total recuperados a nivel mundial: 1637067\n"
          ],
          "name": "stdout"
        }
      ]
    },
    {
      "cell_type": "code",
      "metadata": {
        "id": "eSpV7ornS_x_",
        "colab_type": "code",
        "colab": {}
      },
      "source": [
        "#Visualizacion de casos positivos en serie de tiempo#\n",
        "porRegiones=dfm.select(dfm.columns[4:118]).groupby().sum()\n",
        "porRegiones_dfm=porRegiones.toPandas()\n",
        "#porRegiones_dfm.head()\n",
        "porRegiones_dfm.columns=dfm.columns[4:118]\n",
        "porRegiones_dfm=porRegiones_dfm.T\n",
        "porRegiones_dfm.index=pd.to_datetime(porRegiones_dfm.index)"
      ],
      "execution_count": 0,
      "outputs": []
    },
    {
      "cell_type": "code",
      "metadata": {
        "id": "mTx1kfHvSWwv",
        "colab_type": "code",
        "outputId": "ab5cf96f-7eeb-4a03-9a1f-d2dc19d5809d",
        "colab": {
          "base_uri": "https://localhost:8080/",
          "height": 619
        }
      },
      "source": [
        "porRegiones_dfm.plot.line(figsize=(16,10)).legend([\"casos confirmados\"])\n",
        "#plt.plot(porRegiones_dfm)\n",
        "plt.title('Casos confirmados acumulados')\n",
        "plt.show()"
      ],
      "execution_count": 0,
      "outputs": [
        {
          "output_type": "display_data",
          "data": {
            "image/png": "[encoded data removed]",
            "text/plain": [
              "<Figure size 1152x720 with 1 Axes>"
            ]
          },
          "metadata": {
            "tags": [],
            "needs_background": "light"
          }
        }
      ]
    },
    {
      "cell_type": "code",
      "metadata": {
        "id": "gDEDncUjhdq3",
        "colab_type": "code",
        "colab": {}
      },
      "source": [
        "#Visualizacion de muertes acumuladas en el tiempo#\n",
        "porMuertes = dfm_death.select(dfm_death.columns[4:]).groupby().sum()\n",
        "porMuertes_dfm = porMuertes.toPandas()\n",
        "#porRegionesMuertes_dfm.head()\n",
        "porMuertes_dfm.columns = dfm_death.columns[4:]\n",
        "porMuertes_dfm = porMuertes_dfm.T\n",
        "porMuertes_dfm.index = pd.to_datetime(porMuertes_dfm.index)"
      ],
      "execution_count": 0,
      "outputs": []
    },
    {
      "cell_type": "code",
      "metadata": {
        "id": "n5wKM0fMhdzB",
        "colab_type": "code",
        "outputId": "a931fc1c-9036-4281-c4c5-847a44313567",
        "colab": {
          "base_uri": "https://localhost:8080/",
          "height": 716
        }
      },
      "source": [
        "plt.figure(1, figsize=(16,12))\n",
        "plt.plot(porMuertes_dfm)\n",
        "plt.title('Muertes acumuladas en el mundo en serie de tiempo')\n",
        "plt.show()"
      ],
      "execution_count": 0,
      "outputs": [
        {
          "output_type": "display_data",
          "data": {
            "image/png": "[encoded data removed]",
            "text/plain": [
              "<Figure size 1152x864 with 1 Axes>"
            ]
          },
          "metadata": {
            "tags": [],
            "needs_background": "light"
          }
        }
      ]
    },
    {
      "cell_type": "code",
      "metadata": {
        "id": "W6W-ZFEBheFO",
        "colab_type": "code",
        "colab": {}
      },
      "source": [
        "#Visualizacion de casos recuperados en serie de tiempo#\n",
        "porRecuperacion = dfm_recovered.select(dfm_recovered.columns[4:]).groupby().sum()\n",
        "porRecuperacion_dfm= porRecuperacion.toPandas()\n",
        "#porRecuperacion_dfm.head()\n",
        "porRecuperacion_dfm.columns = dfm_recovered.columns[4:]\n",
        "porRecuperacion_dfm = porRecuperacion_dfm.T\n",
        "porRecuperacion_dfm.index = pd.to_datetime(porRecuperacion_dfm.index)"
      ],
      "execution_count": 0,
      "outputs": []
    },
    {
      "cell_type": "code",
      "metadata": {
        "id": "Q4kOSB5VheM2",
        "colab_type": "code",
        "outputId": "245a975e-106a-47a5-a2e1-7e8b6cfc1923",
        "colab": {
          "base_uri": "https://localhost:8080/",
          "height": 728
        }
      },
      "source": [
        "porRecuperacion_dfm.plot.line(figsize=(16,12)).legend([\"Recuperados por dia\"])\n",
        "#plt.plot(porRegiones_dfm)\n",
        "plt.title('Casos acumulados de casos recuperados en el mundo')\n",
        "plt.show()"
      ],
      "execution_count": 0,
      "outputs": [
        {
          "output_type": "display_data",
          "data": {
            "image/png": "[encoded data removed]",
            "text/plain": [
              "<Figure size 1152x864 with 1 Axes>"
            ]
          },
          "metadata": {
            "tags": [],
            "needs_background": "light"
          }
        }
      ]
    },
    {
      "cell_type": "code",
      "metadata": {
        "id": "p64kydOkmB9m",
        "colab_type": "code",
        "outputId": "bf56426b-09e9-4f5a-8045-57a42418836a",
        "colab": {
          "base_uri": "https://localhost:8080/",
          "height": 318
        }
      },
      "source": [
        "# Numero de casos por dia en cada continente  #\n",
        "dfm_2 = dfm.toPandas()\n",
        "dfm_3 = dfm_2.groupby('Region Name')['1/22/20',\n",
        " '1/23/20',\n",
        " '1/24/20',\n",
        " '1/25/20',\n",
        " '1/26/20',\n",
        " '1/27/20',\n",
        " '1/28/20',\n",
        " '1/29/20',\n",
        " '1/30/20',\n",
        " '1/31/20',\n",
        " '2/1/20',\n",
        " '2/2/20',\n",
        " '2/3/20',\n",
        " '2/4/20',\n",
        " '2/5/20',\n",
        " '2/6/20',\n",
        " '2/7/20',\n",
        " '2/8/20',\n",
        " '2/9/20',\n",
        " '2/10/20',\n",
        " '2/11/20',\n",
        " '2/12/20',\n",
        " '2/13/20',\n",
        " '2/14/20',\n",
        " '2/15/20',\n",
        " '2/16/20',\n",
        " '2/17/20',\n",
        " '2/18/20',\n",
        " '2/19/20',\n",
        " '2/20/20',\n",
        " '2/21/20',\n",
        " '2/22/20',\n",
        " '2/23/20',\n",
        " '2/24/20',\n",
        " '2/25/20',\n",
        " '2/26/20',\n",
        " '2/27/20',\n",
        " '2/28/20',\n",
        " '2/29/20',\n",
        " '3/1/20',\n",
        " '3/2/20',\n",
        " '3/3/20',\n",
        " '3/4/20',\n",
        " '3/5/20',\n",
        " '3/6/20',\n",
        " '3/7/20',\n",
        " '3/8/20',\n",
        " '3/9/20',\n",
        " '3/10/20',\n",
        " '3/11/20',\n",
        " '3/12/20',\n",
        " '3/13/20',\n",
        " '3/14/20',\n",
        " '3/15/20',\n",
        " '3/16/20',\n",
        " '3/17/20',\n",
        " '3/18/20',\n",
        " '3/19/20',\n",
        " '3/20/20',\n",
        " '3/21/20',\n",
        " '3/22/20',\n",
        " '3/23/20',\n",
        " '3/24/20',\n",
        " '3/25/20',\n",
        " '3/26/20',\n",
        " '3/27/20',\n",
        " '3/28/20',\n",
        " '3/29/20',\n",
        " '3/30/20',\n",
        " '3/31/20',\n",
        " '4/1/20',\n",
        " '4/2/20',\n",
        " '4/3/20',\n",
        " '4/4/20',\n",
        " '4/5/20',\n",
        " '4/6/20',\n",
        " '4/7/20',\n",
        " '4/8/20',\n",
        " '4/9/20',\n",
        " '4/10/20',\n",
        " '4/11/20',\n",
        " '4/12/20',\n",
        " '4/13/20',\n",
        " '4/14/20',\n",
        " '4/15/20',\n",
        " '4/16/20',\n",
        " '4/17/20',\n",
        " '4/18/20',\n",
        " '4/19/20',\n",
        " '4/20/20',\n",
        " '4/21/20',\n",
        " '4/22/20',\n",
        " '4/23/20',\n",
        " '4/24/20',\n",
        " '4/25/20',\n",
        " '4/26/20',\n",
        " '4/27/20',\n",
        " '4/28/20',\n",
        " '4/29/20',\n",
        " '4/30/20',\n",
        " '5/1/20',\n",
        " '5/2/20',\n",
        " '5/3/20',\n",
        " '5/4/20',\n",
        " '5/5/20',\n",
        " '5/6/20',\n",
        " '5/7/20',\n",
        " '5/8/20',\n",
        " '5/9/20',\n",
        " '5/10/20',\n",
        " '5/11/20',\n",
        " '5/12/20',\n",
        " '5/13/20',\n",
        " '5/14/20'].sum()\n",
        " \n",
        "dfm_3 = dfm_3.drop(['#region+main+name'])\n",
        "dfm_3"
      ],
      "execution_count": 0,
      "outputs": [
        {
          "output_type": "stream",
          "text": [
            "/usr/local/lib/python3.6/dist-packages/ipykernel_launcher.py:116: FutureWarning: Indexing with multiple keys (implicitly converted to a tuple of keys) will be deprecated, use a list instead.\n"
          ],
          "name": "stderr"
        },
        {
          "output_type": "execute_result",
          "data": {
            "text/html": [
              "<div>\n",
              "<style scoped>\n",
              "    .dataframe tbody tr th:only-of-type {\n",
              "        vertical-align: middle;\n",
              "    }\n",
              "\n",
              "    .dataframe tbody tr th {\n",
              "        vertical-align: top;\n",
              "    }\n",
              "\n",
              "    .dataframe thead th {\n",
              "        text-align: right;\n",
              "    }\n",
              "</style>\n",
              "<table border=\"1\" class=\"dataframe\">\n",
              "  <thead>\n",
              "    <tr style=\"text-align: right;\">\n",
              "      <th></th>\n",
              "      <th>1/22/20</th>\n",
              "      <th>1/23/20</th>\n",
              "      <th>1/24/20</th>\n",
              "      <th>1/25/20</th>\n",
              "      <th>1/26/20</th>\n",
              "      <th>1/27/20</th>\n",
              "      <th>1/28/20</th>\n",
              "      <th>1/29/20</th>\n",
              "      <th>1/30/20</th>\n",
              "      <th>1/31/20</th>\n",
              "      <th>2/1/20</th>\n",
              "      <th>2/2/20</th>\n",
              "      <th>2/3/20</th>\n",
              "      <th>2/4/20</th>\n",
              "      <th>2/5/20</th>\n",
              "      <th>2/6/20</th>\n",
              "      <th>2/7/20</th>\n",
              "      <th>2/8/20</th>\n",
              "      <th>2/9/20</th>\n",
              "      <th>2/10/20</th>\n",
              "      <th>2/11/20</th>\n",
              "      <th>2/12/20</th>\n",
              "      <th>2/13/20</th>\n",
              "      <th>2/14/20</th>\n",
              "      <th>2/15/20</th>\n",
              "      <th>2/16/20</th>\n",
              "      <th>2/17/20</th>\n",
              "      <th>2/18/20</th>\n",
              "      <th>2/19/20</th>\n",
              "      <th>2/20/20</th>\n",
              "      <th>2/21/20</th>\n",
              "      <th>2/22/20</th>\n",
              "      <th>2/23/20</th>\n",
              "      <th>2/24/20</th>\n",
              "      <th>2/25/20</th>\n",
              "      <th>2/26/20</th>\n",
              "      <th>2/27/20</th>\n",
              "      <th>2/28/20</th>\n",
              "      <th>2/29/20</th>\n",
              "      <th>3/1/20</th>\n",
              "      <th>...</th>\n",
              "      <th>4/5/20</th>\n",
              "      <th>4/6/20</th>\n",
              "      <th>4/7/20</th>\n",
              "      <th>4/8/20</th>\n",
              "      <th>4/9/20</th>\n",
              "      <th>4/10/20</th>\n",
              "      <th>4/11/20</th>\n",
              "      <th>4/12/20</th>\n",
              "      <th>4/13/20</th>\n",
              "      <th>4/14/20</th>\n",
              "      <th>4/15/20</th>\n",
              "      <th>4/16/20</th>\n",
              "      <th>4/17/20</th>\n",
              "      <th>4/18/20</th>\n",
              "      <th>4/19/20</th>\n",
              "      <th>4/20/20</th>\n",
              "      <th>4/21/20</th>\n",
              "      <th>4/22/20</th>\n",
              "      <th>4/23/20</th>\n",
              "      <th>4/24/20</th>\n",
              "      <th>4/25/20</th>\n",
              "      <th>4/26/20</th>\n",
              "      <th>4/27/20</th>\n",
              "      <th>4/28/20</th>\n",
              "      <th>4/29/20</th>\n",
              "      <th>4/30/20</th>\n",
              "      <th>5/1/20</th>\n",
              "      <th>5/2/20</th>\n",
              "      <th>5/3/20</th>\n",
              "      <th>5/4/20</th>\n",
              "      <th>5/5/20</th>\n",
              "      <th>5/6/20</th>\n",
              "      <th>5/7/20</th>\n",
              "      <th>5/8/20</th>\n",
              "      <th>5/9/20</th>\n",
              "      <th>5/10/20</th>\n",
              "      <th>5/11/20</th>\n",
              "      <th>5/12/20</th>\n",
              "      <th>5/13/20</th>\n",
              "      <th>5/14/20</th>\n",
              "    </tr>\n",
              "    <tr>\n",
              "      <th>Region Name</th>\n",
              "      <th></th>\n",
              "      <th></th>\n",
              "      <th></th>\n",
              "      <th></th>\n",
              "      <th></th>\n",
              "      <th></th>\n",
              "      <th></th>\n",
              "      <th></th>\n",
              "      <th></th>\n",
              "      <th></th>\n",
              "      <th></th>\n",
              "      <th></th>\n",
              "      <th></th>\n",
              "      <th></th>\n",
              "      <th></th>\n",
              "      <th></th>\n",
              "      <th></th>\n",
              "      <th></th>\n",
              "      <th></th>\n",
              "      <th></th>\n",
              "      <th></th>\n",
              "      <th></th>\n",
              "      <th></th>\n",
              "      <th></th>\n",
              "      <th></th>\n",
              "      <th></th>\n",
              "      <th></th>\n",
              "      <th></th>\n",
              "      <th></th>\n",
              "      <th></th>\n",
              "      <th></th>\n",
              "      <th></th>\n",
              "      <th></th>\n",
              "      <th></th>\n",
              "      <th></th>\n",
              "      <th></th>\n",
              "      <th></th>\n",
              "      <th></th>\n",
              "      <th></th>\n",
              "      <th></th>\n",
              "      <th></th>\n",
              "      <th></th>\n",
              "      <th></th>\n",
              "      <th></th>\n",
              "      <th></th>\n",
              "      <th></th>\n",
              "      <th></th>\n",
              "      <th></th>\n",
              "      <th></th>\n",
              "      <th></th>\n",
              "      <th></th>\n",
              "      <th></th>\n",
              "      <th></th>\n",
              "      <th></th>\n",
              "      <th></th>\n",
              "      <th></th>\n",
              "      <th></th>\n",
              "      <th></th>\n",
              "      <th></th>\n",
              "      <th></th>\n",
              "      <th></th>\n",
              "      <th></th>\n",
              "      <th></th>\n",
              "      <th></th>\n",
              "      <th></th>\n",
              "      <th></th>\n",
              "      <th></th>\n",
              "      <th></th>\n",
              "      <th></th>\n",
              "      <th></th>\n",
              "      <th></th>\n",
              "      <th></th>\n",
              "      <th></th>\n",
              "      <th></th>\n",
              "      <th></th>\n",
              "      <th></th>\n",
              "      <th></th>\n",
              "      <th></th>\n",
              "      <th></th>\n",
              "      <th></th>\n",
              "      <th></th>\n",
              "    </tr>\n",
              "  </thead>\n",
              "  <tbody>\n",
              "    <tr>\n",
              "      <th>Africa</th>\n",
              "      <td>0.0</td>\n",
              "      <td>0.0</td>\n",
              "      <td>0.0</td>\n",
              "      <td>0.0</td>\n",
              "      <td>0.0</td>\n",
              "      <td>0.0</td>\n",
              "      <td>0.0</td>\n",
              "      <td>0.0</td>\n",
              "      <td>0.0</td>\n",
              "      <td>0.0</td>\n",
              "      <td>0.0</td>\n",
              "      <td>0.0</td>\n",
              "      <td>0.0</td>\n",
              "      <td>0.0</td>\n",
              "      <td>0.0</td>\n",
              "      <td>0.0</td>\n",
              "      <td>0.0</td>\n",
              "      <td>0.0</td>\n",
              "      <td>0.0</td>\n",
              "      <td>0.0</td>\n",
              "      <td>0.0</td>\n",
              "      <td>0.0</td>\n",
              "      <td>0.0</td>\n",
              "      <td>1.0</td>\n",
              "      <td>1.0</td>\n",
              "      <td>1.0</td>\n",
              "      <td>1.0</td>\n",
              "      <td>1.0</td>\n",
              "      <td>1.0</td>\n",
              "      <td>1.0</td>\n",
              "      <td>1.0</td>\n",
              "      <td>1.0</td>\n",
              "      <td>1.0</td>\n",
              "      <td>1.0</td>\n",
              "      <td>2.0</td>\n",
              "      <td>2.0</td>\n",
              "      <td>2.0</td>\n",
              "      <td>3.0</td>\n",
              "      <td>3.0</td>\n",
              "      <td>4.0</td>\n",
              "      <td>...</td>\n",
              "      <td>9793.0</td>\n",
              "      <td>10499.0</td>\n",
              "      <td>11165.0</td>\n",
              "      <td>11969.0</td>\n",
              "      <td>12799.0</td>\n",
              "      <td>13490.0</td>\n",
              "      <td>14215.0</td>\n",
              "      <td>15082.0</td>\n",
              "      <td>15879.0</td>\n",
              "      <td>16852.0</td>\n",
              "      <td>17806.0</td>\n",
              "      <td>18993.0</td>\n",
              "      <td>20420.0</td>\n",
              "      <td>21739.0</td>\n",
              "      <td>22966.0</td>\n",
              "      <td>24139.0</td>\n",
              "      <td>25236.0</td>\n",
              "      <td>26653.0</td>\n",
              "      <td>28105.0</td>\n",
              "      <td>29840.0</td>\n",
              "      <td>31102.0</td>\n",
              "      <td>32657.0</td>\n",
              "      <td>33992.0</td>\n",
              "      <td>35678.0</td>\n",
              "      <td>37693.0</td>\n",
              "      <td>39785.0</td>\n",
              "      <td>41537.0</td>\n",
              "      <td>43734.0</td>\n",
              "      <td>45380.0</td>\n",
              "      <td>48075.0</td>\n",
              "      <td>50166.0</td>\n",
              "      <td>52713.0</td>\n",
              "      <td>55320.0</td>\n",
              "      <td>59124.0</td>\n",
              "      <td>61985.0</td>\n",
              "      <td>64752.0</td>\n",
              "      <td>67778.0</td>\n",
              "      <td>70985.0</td>\n",
              "      <td>73973.0</td>\n",
              "      <td>77002.0</td>\n",
              "    </tr>\n",
              "    <tr>\n",
              "      <th>Americas</th>\n",
              "      <td>1.0</td>\n",
              "      <td>1.0</td>\n",
              "      <td>2.0</td>\n",
              "      <td>2.0</td>\n",
              "      <td>6.0</td>\n",
              "      <td>6.0</td>\n",
              "      <td>7.0</td>\n",
              "      <td>7.0</td>\n",
              "      <td>7.0</td>\n",
              "      <td>11.0</td>\n",
              "      <td>12.0</td>\n",
              "      <td>12.0</td>\n",
              "      <td>15.0</td>\n",
              "      <td>15.0</td>\n",
              "      <td>16.0</td>\n",
              "      <td>16.0</td>\n",
              "      <td>18.0</td>\n",
              "      <td>18.0</td>\n",
              "      <td>18.0</td>\n",
              "      <td>18.0</td>\n",
              "      <td>19.0</td>\n",
              "      <td>19.0</td>\n",
              "      <td>20.0</td>\n",
              "      <td>20.0</td>\n",
              "      <td>20.0</td>\n",
              "      <td>20.0</td>\n",
              "      <td>21.0</td>\n",
              "      <td>21.0</td>\n",
              "      <td>21.0</td>\n",
              "      <td>21.0</td>\n",
              "      <td>24.0</td>\n",
              "      <td>24.0</td>\n",
              "      <td>24.0</td>\n",
              "      <td>61.0</td>\n",
              "      <td>62.0</td>\n",
              "      <td>69.0</td>\n",
              "      <td>72.0</td>\n",
              "      <td>76.0</td>\n",
              "      <td>94.0</td>\n",
              "      <td>112.0</td>\n",
              "      <td>...</td>\n",
              "      <td>385661.0</td>\n",
              "      <td>418703.0</td>\n",
              "      <td>454394.0</td>\n",
              "      <td>493110.0</td>\n",
              "      <td>533814.0</td>\n",
              "      <td>575419.0</td>\n",
              "      <td>610222.0</td>\n",
              "      <td>644033.0</td>\n",
              "      <td>675628.0</td>\n",
              "      <td>707764.0</td>\n",
              "      <td>743867.0</td>\n",
              "      <td>782957.0</td>\n",
              "      <td>823715.0</td>\n",
              "      <td>864034.0</td>\n",
              "      <td>897740.0</td>\n",
              "      <td>930657.0</td>\n",
              "      <td>965809.0</td>\n",
              "      <td>1003525.0</td>\n",
              "      <td>1043270.0</td>\n",
              "      <td>1100333.0</td>\n",
              "      <td>1146161.0</td>\n",
              "      <td>1183756.0</td>\n",
              "      <td>1216077.0</td>\n",
              "      <td>1253858.0</td>\n",
              "      <td>1295325.0</td>\n",
              "      <td>1340997.0</td>\n",
              "      <td>1390733.0</td>\n",
              "      <td>1434039.0</td>\n",
              "      <td>1476110.0</td>\n",
              "      <td>1514068.0</td>\n",
              "      <td>1554147.0</td>\n",
              "      <td>1599528.0</td>\n",
              "      <td>1645237.0</td>\n",
              "      <td>1691746.0</td>\n",
              "      <td>1736225.0</td>\n",
              "      <td>1771764.0</td>\n",
              "      <td>1804293.0</td>\n",
              "      <td>1845044.0</td>\n",
              "      <td>1890016.0</td>\n",
              "      <td>1942924.0</td>\n",
              "    </tr>\n",
              "    <tr>\n",
              "      <th>Asia</th>\n",
              "      <td>554.0</td>\n",
              "      <td>653.0</td>\n",
              "      <td>937.0</td>\n",
              "      <td>1429.0</td>\n",
              "      <td>2105.0</td>\n",
              "      <td>2912.0</td>\n",
              "      <td>5558.0</td>\n",
              "      <td>6143.0</td>\n",
              "      <td>8208.0</td>\n",
              "      <td>9889.0</td>\n",
              "      <td>11991.0</td>\n",
              "      <td>16738.0</td>\n",
              "      <td>19827.0</td>\n",
              "      <td>23836.0</td>\n",
              "      <td>27578.0</td>\n",
              "      <td>30736.0</td>\n",
              "      <td>34266.0</td>\n",
              "      <td>36990.0</td>\n",
              "      <td>40015.0</td>\n",
              "      <td>42551.0</td>\n",
              "      <td>44588.0</td>\n",
              "      <td>44966.0</td>\n",
              "      <td>60112.0</td>\n",
              "      <td>66585.0</td>\n",
              "      <td>68662.0</td>\n",
              "      <td>70786.0</td>\n",
              "      <td>72720.0</td>\n",
              "      <td>74510.0</td>\n",
              "      <td>74934.0</td>\n",
              "      <td>75479.0</td>\n",
              "      <td>76081.0</td>\n",
              "      <td>77792.0</td>\n",
              "      <td>78028.0</td>\n",
              "      <td>78516.0</td>\n",
              "      <td>79255.0</td>\n",
              "      <td>80056.0</td>\n",
              "      <td>81147.0</td>\n",
              "      <td>82218.0</td>\n",
              "      <td>83717.0</td>\n",
              "      <td>85317.0</td>\n",
              "      <td>...</td>\n",
              "      <td>223200.0</td>\n",
              "      <td>233846.0</td>\n",
              "      <td>243327.0</td>\n",
              "      <td>252900.0</td>\n",
              "      <td>263216.0</td>\n",
              "      <td>274563.0</td>\n",
              "      <td>286456.0</td>\n",
              "      <td>298127.0</td>\n",
              "      <td>309955.0</td>\n",
              "      <td>321086.0</td>\n",
              "      <td>332538.0</td>\n",
              "      <td>345284.0</td>\n",
              "      <td>358089.0</td>\n",
              "      <td>370035.0</td>\n",
              "      <td>383036.0</td>\n",
              "      <td>395536.0</td>\n",
              "      <td>409764.0</td>\n",
              "      <td>421710.0</td>\n",
              "      <td>435287.0</td>\n",
              "      <td>448428.0</td>\n",
              "      <td>460694.0</td>\n",
              "      <td>472279.0</td>\n",
              "      <td>483784.0</td>\n",
              "      <td>494804.0</td>\n",
              "      <td>507335.0</td>\n",
              "      <td>520415.0</td>\n",
              "      <td>533869.0</td>\n",
              "      <td>545906.0</td>\n",
              "      <td>558816.0</td>\n",
              "      <td>572842.0</td>\n",
              "      <td>587195.0</td>\n",
              "      <td>603929.0</td>\n",
              "      <td>618517.0</td>\n",
              "      <td>634849.0</td>\n",
              "      <td>650932.0</td>\n",
              "      <td>668791.0</td>\n",
              "      <td>684880.0</td>\n",
              "      <td>703226.0</td>\n",
              "      <td>720947.0</td>\n",
              "      <td>739025.0</td>\n",
              "    </tr>\n",
              "    <tr>\n",
              "      <th>Europe</th>\n",
              "      <td>0.0</td>\n",
              "      <td>0.0</td>\n",
              "      <td>2.0</td>\n",
              "      <td>3.0</td>\n",
              "      <td>3.0</td>\n",
              "      <td>4.0</td>\n",
              "      <td>8.0</td>\n",
              "      <td>10.0</td>\n",
              "      <td>10.0</td>\n",
              "      <td>18.0</td>\n",
              "      <td>23.0</td>\n",
              "      <td>25.0</td>\n",
              "      <td>27.0</td>\n",
              "      <td>28.0</td>\n",
              "      <td>28.0</td>\n",
              "      <td>28.0</td>\n",
              "      <td>31.0</td>\n",
              "      <td>36.0</td>\n",
              "      <td>38.0</td>\n",
              "      <td>43.0</td>\n",
              "      <td>45.0</td>\n",
              "      <td>46.0</td>\n",
              "      <td>46.0</td>\n",
              "      <td>46.0</td>\n",
              "      <td>47.0</td>\n",
              "      <td>47.0</td>\n",
              "      <td>47.0</td>\n",
              "      <td>47.0</td>\n",
              "      <td>47.0</td>\n",
              "      <td>47.0</td>\n",
              "      <td>64.0</td>\n",
              "      <td>106.0</td>\n",
              "      <td>199.0</td>\n",
              "      <td>277.0</td>\n",
              "      <td>381.0</td>\n",
              "      <td>541.0</td>\n",
              "      <td>805.0</td>\n",
              "      <td>1094.0</td>\n",
              "      <td>1466.0</td>\n",
              "      <td>2203.0</td>\n",
              "      <td>...</td>\n",
              "      <td>623557.0</td>\n",
              "      <td>650675.0</td>\n",
              "      <td>679681.0</td>\n",
              "      <td>714213.0</td>\n",
              "      <td>747559.0</td>\n",
              "      <td>786159.0</td>\n",
              "      <td>816703.0</td>\n",
              "      <td>869435.0</td>\n",
              "      <td>895173.0</td>\n",
              "      <td>921258.0</td>\n",
              "      <td>952562.0</td>\n",
              "      <td>995864.0</td>\n",
              "      <td>1028648.0</td>\n",
              "      <td>1052614.0</td>\n",
              "      <td>1088173.0</td>\n",
              "      <td>1112499.0</td>\n",
              "      <td>1139314.0</td>\n",
              "      <td>1163782.0</td>\n",
              "      <td>1192788.0</td>\n",
              "      <td>1208157.0</td>\n",
              "      <td>1234184.0</td>\n",
              "      <td>1257323.0</td>\n",
              "      <td>1280841.0</td>\n",
              "      <td>1303835.0</td>\n",
              "      <td>1322870.0</td>\n",
              "      <td>1346632.0</td>\n",
              "      <td>1370319.0</td>\n",
              "      <td>1394782.0</td>\n",
              "      <td>1417277.0</td>\n",
              "      <td>1438900.0</td>\n",
              "      <td>1461981.0</td>\n",
              "      <td>1490677.0</td>\n",
              "      <td>1517402.0</td>\n",
              "      <td>1543096.0</td>\n",
              "      <td>1565595.0</td>\n",
              "      <td>1587108.0</td>\n",
              "      <td>1611245.0</td>\n",
              "      <td>1633176.0</td>\n",
              "      <td>1652757.0</td>\n",
              "      <td>1673856.0</td>\n",
              "    </tr>\n",
              "    <tr>\n",
              "      <th>Oceania</th>\n",
              "      <td>0.0</td>\n",
              "      <td>0.0</td>\n",
              "      <td>0.0</td>\n",
              "      <td>0.0</td>\n",
              "      <td>4.0</td>\n",
              "      <td>5.0</td>\n",
              "      <td>5.0</td>\n",
              "      <td>6.0</td>\n",
              "      <td>9.0</td>\n",
              "      <td>9.0</td>\n",
              "      <td>12.0</td>\n",
              "      <td>12.0</td>\n",
              "      <td>12.0</td>\n",
              "      <td>13.0</td>\n",
              "      <td>13.0</td>\n",
              "      <td>14.0</td>\n",
              "      <td>15.0</td>\n",
              "      <td>15.0</td>\n",
              "      <td>15.0</td>\n",
              "      <td>15.0</td>\n",
              "      <td>15.0</td>\n",
              "      <td>15.0</td>\n",
              "      <td>15.0</td>\n",
              "      <td>15.0</td>\n",
              "      <td>15.0</td>\n",
              "      <td>15.0</td>\n",
              "      <td>15.0</td>\n",
              "      <td>15.0</td>\n",
              "      <td>15.0</td>\n",
              "      <td>15.0</td>\n",
              "      <td>15.0</td>\n",
              "      <td>15.0</td>\n",
              "      <td>15.0</td>\n",
              "      <td>15.0</td>\n",
              "      <td>15.0</td>\n",
              "      <td>15.0</td>\n",
              "      <td>15.0</td>\n",
              "      <td>16.0</td>\n",
              "      <td>26.0</td>\n",
              "      <td>28.0</td>\n",
              "      <td>...</td>\n",
              "      <td>6798.0</td>\n",
              "      <td>6979.0</td>\n",
              "      <td>7137.0</td>\n",
              "      <td>7306.0</td>\n",
              "      <td>7433.0</td>\n",
              "      <td>7585.0</td>\n",
              "      <td>7702.0</td>\n",
              "      <td>7734.0</td>\n",
              "      <td>7791.0</td>\n",
              "      <td>7872.0</td>\n",
              "      <td>7917.0</td>\n",
              "      <td>7960.0</td>\n",
              "      <td>8028.0</td>\n",
              "      <td>8087.0</td>\n",
              "      <td>8138.0</td>\n",
              "      <td>8162.0</td>\n",
              "      <td>8189.0</td>\n",
              "      <td>8204.0</td>\n",
              "      <td>8219.0</td>\n",
              "      <td>8239.0</td>\n",
              "      <td>8265.0</td>\n",
              "      <td>8284.0</td>\n",
              "      <td>8294.0</td>\n",
              "      <td>8320.0</td>\n",
              "      <td>8330.0</td>\n",
              "      <td>8347.0</td>\n",
              "      <td>8365.0</td>\n",
              "      <td>8388.0</td>\n",
              "      <td>8411.0</td>\n",
              "      <td>8435.0</td>\n",
              "      <td>8467.0</td>\n",
              "      <td>8487.0</td>\n",
              "      <td>8507.0</td>\n",
              "      <td>8514.0</td>\n",
              "      <td>8537.0</td>\n",
              "      <td>8549.0</td>\n",
              "      <td>8571.0</td>\n",
              "      <td>8581.0</td>\n",
              "      <td>8590.0</td>\n",
              "      <td>8621.0</td>\n",
              "    </tr>\n",
              "  </tbody>\n",
              "</table>\n",
              "<p>5 rows × 114 columns</p>\n",
              "</div>"
            ],
            "text/plain": [
              "             1/22/20  1/23/20  1/24/20  ...    5/12/20    5/13/20    5/14/20\n",
              "Region Name                             ...                                 \n",
              "Africa           0.0      0.0      0.0  ...    70985.0    73973.0    77002.0\n",
              "Americas         1.0      1.0      2.0  ...  1845044.0  1890016.0  1942924.0\n",
              "Asia           554.0    653.0    937.0  ...   703226.0   720947.0   739025.0\n",
              "Europe           0.0      0.0      2.0  ...  1633176.0  1652757.0  1673856.0\n",
              "Oceania          0.0      0.0      0.0  ...     8581.0     8590.0     8621.0\n",
              "\n",
              "[5 rows x 114 columns]"
            ]
          },
          "metadata": {
            "tags": []
          },
          "execution_count": 36
        }
      ]
    },
    {
      "cell_type": "code",
      "metadata": {
        "id": "lwMBL-kXmCNd",
        "colab_type": "code",
        "outputId": "914fb8e1-6e08-4d88-8149-e519ba8ee9ff",
        "colab": {
          "base_uri": "https://localhost:8080/",
          "height": 318
        }
      },
      "source": [
        "# Numero de casos de muerte por dia en cada continente  #\n",
        "dfm_region_d = dfm_death_iso.toPandas()\n",
        "dfm_region_d = dfm_region_d.groupby('Region Name')['1/22/20',\n",
        " '1/23/20',\n",
        " '1/24/20',\n",
        " '1/25/20',\n",
        " '1/26/20',\n",
        " '1/27/20',\n",
        " '1/28/20',\n",
        " '1/29/20',\n",
        " '1/30/20',\n",
        " '1/31/20',\n",
        " '2/1/20',\n",
        " '2/2/20',\n",
        " '2/3/20',\n",
        " '2/4/20',\n",
        " '2/5/20',\n",
        " '2/6/20',\n",
        " '2/7/20',\n",
        " '2/8/20',\n",
        " '2/9/20',\n",
        " '2/10/20',\n",
        " '2/11/20',\n",
        " '2/12/20',\n",
        " '2/13/20',\n",
        " '2/14/20',\n",
        " '2/15/20',\n",
        " '2/16/20',\n",
        " '2/17/20',\n",
        " '2/18/20',\n",
        " '2/19/20',\n",
        " '2/20/20',\n",
        " '2/21/20',\n",
        " '2/22/20',\n",
        " '2/23/20',\n",
        " '2/24/20',\n",
        " '2/25/20',\n",
        " '2/26/20',\n",
        " '2/27/20',\n",
        " '2/28/20',\n",
        " '2/29/20',\n",
        " '3/1/20',\n",
        " '3/2/20',\n",
        " '3/3/20',\n",
        " '3/4/20',\n",
        " '3/5/20',\n",
        " '3/6/20',\n",
        " '3/7/20',\n",
        " '3/8/20',\n",
        " '3/9/20',\n",
        " '3/10/20',\n",
        " '3/11/20',\n",
        " '3/12/20',\n",
        " '3/13/20',\n",
        " '3/14/20',\n",
        " '3/15/20',\n",
        " '3/16/20',\n",
        " '3/17/20',\n",
        " '3/18/20',\n",
        " '3/19/20',\n",
        " '3/20/20',\n",
        " '3/21/20',\n",
        " '3/22/20',\n",
        " '3/23/20',\n",
        " '3/24/20',\n",
        " '3/25/20',\n",
        " '3/26/20',\n",
        " '3/27/20',\n",
        " '3/28/20',\n",
        " '3/29/20',\n",
        " '3/30/20',\n",
        " '3/31/20',\n",
        " '4/1/20',\n",
        " '4/2/20',\n",
        " '4/3/20',\n",
        " '4/4/20',\n",
        " '4/5/20',\n",
        " '4/6/20',\n",
        " '4/7/20',\n",
        " '4/8/20',\n",
        " '4/9/20',\n",
        " '4/10/20',\n",
        " '4/11/20',\n",
        " '4/12/20',\n",
        " '4/13/20',\n",
        " '4/14/20',\n",
        " '4/15/20',\n",
        " '4/16/20',\n",
        " '4/17/20',\n",
        " '4/18/20',\n",
        " '4/19/20',\n",
        " '4/20/20',\n",
        " '4/21/20',\n",
        " '4/22/20',\n",
        " '4/23/20',\n",
        " '4/24/20',\n",
        " '4/25/20',\n",
        " '4/26/20',\n",
        " '4/27/20',\n",
        " '4/28/20',\n",
        " '4/29/20',\n",
        " '4/30/20',\n",
        " '5/1/20',\n",
        " '5/2/20',\n",
        " '5/3/20',\n",
        " '5/4/20',\n",
        " '5/5/20',\n",
        " '5/6/20',\n",
        " '5/7/20',\n",
        " '5/8/20',\n",
        " '5/9/20',\n",
        " '5/10/20',\n",
        " '5/11/20',\n",
        " '5/12/20',\n",
        " '5/13/20',\n",
        " '5/14/20'].sum()\n",
        " \n",
        "dfm_region_d = dfm_region_d.drop(['#region+main+name'])\n",
        "dfm_region_d"
      ],
      "execution_count": 0,
      "outputs": [
        {
          "output_type": "stream",
          "text": [
            "/usr/local/lib/python3.6/dist-packages/ipykernel_launcher.py:116: FutureWarning: Indexing with multiple keys (implicitly converted to a tuple of keys) will be deprecated, use a list instead.\n"
          ],
          "name": "stderr"
        },
        {
          "output_type": "execute_result",
          "data": {
            "text/html": [
              "<div>\n",
              "<style scoped>\n",
              "    .dataframe tbody tr th:only-of-type {\n",
              "        vertical-align: middle;\n",
              "    }\n",
              "\n",
              "    .dataframe tbody tr th {\n",
              "        vertical-align: top;\n",
              "    }\n",
              "\n",
              "    .dataframe thead th {\n",
              "        text-align: right;\n",
              "    }\n",
              "</style>\n",
              "<table border=\"1\" class=\"dataframe\">\n",
              "  <thead>\n",
              "    <tr style=\"text-align: right;\">\n",
              "      <th></th>\n",
              "      <th>1/22/20</th>\n",
              "      <th>1/23/20</th>\n",
              "      <th>1/24/20</th>\n",
              "      <th>1/25/20</th>\n",
              "      <th>1/26/20</th>\n",
              "      <th>1/27/20</th>\n",
              "      <th>1/28/20</th>\n",
              "      <th>1/29/20</th>\n",
              "      <th>1/30/20</th>\n",
              "      <th>1/31/20</th>\n",
              "      <th>2/1/20</th>\n",
              "      <th>2/2/20</th>\n",
              "      <th>2/3/20</th>\n",
              "      <th>2/4/20</th>\n",
              "      <th>2/5/20</th>\n",
              "      <th>2/6/20</th>\n",
              "      <th>2/7/20</th>\n",
              "      <th>2/8/20</th>\n",
              "      <th>2/9/20</th>\n",
              "      <th>2/10/20</th>\n",
              "      <th>2/11/20</th>\n",
              "      <th>2/12/20</th>\n",
              "      <th>2/13/20</th>\n",
              "      <th>2/14/20</th>\n",
              "      <th>2/15/20</th>\n",
              "      <th>2/16/20</th>\n",
              "      <th>2/17/20</th>\n",
              "      <th>2/18/20</th>\n",
              "      <th>2/19/20</th>\n",
              "      <th>2/20/20</th>\n",
              "      <th>2/21/20</th>\n",
              "      <th>2/22/20</th>\n",
              "      <th>2/23/20</th>\n",
              "      <th>2/24/20</th>\n",
              "      <th>2/25/20</th>\n",
              "      <th>2/26/20</th>\n",
              "      <th>2/27/20</th>\n",
              "      <th>2/28/20</th>\n",
              "      <th>2/29/20</th>\n",
              "      <th>3/1/20</th>\n",
              "      <th>...</th>\n",
              "      <th>4/5/20</th>\n",
              "      <th>4/6/20</th>\n",
              "      <th>4/7/20</th>\n",
              "      <th>4/8/20</th>\n",
              "      <th>4/9/20</th>\n",
              "      <th>4/10/20</th>\n",
              "      <th>4/11/20</th>\n",
              "      <th>4/12/20</th>\n",
              "      <th>4/13/20</th>\n",
              "      <th>4/14/20</th>\n",
              "      <th>4/15/20</th>\n",
              "      <th>4/16/20</th>\n",
              "      <th>4/17/20</th>\n",
              "      <th>4/18/20</th>\n",
              "      <th>4/19/20</th>\n",
              "      <th>4/20/20</th>\n",
              "      <th>4/21/20</th>\n",
              "      <th>4/22/20</th>\n",
              "      <th>4/23/20</th>\n",
              "      <th>4/24/20</th>\n",
              "      <th>4/25/20</th>\n",
              "      <th>4/26/20</th>\n",
              "      <th>4/27/20</th>\n",
              "      <th>4/28/20</th>\n",
              "      <th>4/29/20</th>\n",
              "      <th>4/30/20</th>\n",
              "      <th>5/1/20</th>\n",
              "      <th>5/2/20</th>\n",
              "      <th>5/3/20</th>\n",
              "      <th>5/4/20</th>\n",
              "      <th>5/5/20</th>\n",
              "      <th>5/6/20</th>\n",
              "      <th>5/7/20</th>\n",
              "      <th>5/8/20</th>\n",
              "      <th>5/9/20</th>\n",
              "      <th>5/10/20</th>\n",
              "      <th>5/11/20</th>\n",
              "      <th>5/12/20</th>\n",
              "      <th>5/13/20</th>\n",
              "      <th>5/14/20</th>\n",
              "    </tr>\n",
              "    <tr>\n",
              "      <th>Region Name</th>\n",
              "      <th></th>\n",
              "      <th></th>\n",
              "      <th></th>\n",
              "      <th></th>\n",
              "      <th></th>\n",
              "      <th></th>\n",
              "      <th></th>\n",
              "      <th></th>\n",
              "      <th></th>\n",
              "      <th></th>\n",
              "      <th></th>\n",
              "      <th></th>\n",
              "      <th></th>\n",
              "      <th></th>\n",
              "      <th></th>\n",
              "      <th></th>\n",
              "      <th></th>\n",
              "      <th></th>\n",
              "      <th></th>\n",
              "      <th></th>\n",
              "      <th></th>\n",
              "      <th></th>\n",
              "      <th></th>\n",
              "      <th></th>\n",
              "      <th></th>\n",
              "      <th></th>\n",
              "      <th></th>\n",
              "      <th></th>\n",
              "      <th></th>\n",
              "      <th></th>\n",
              "      <th></th>\n",
              "      <th></th>\n",
              "      <th></th>\n",
              "      <th></th>\n",
              "      <th></th>\n",
              "      <th></th>\n",
              "      <th></th>\n",
              "      <th></th>\n",
              "      <th></th>\n",
              "      <th></th>\n",
              "      <th></th>\n",
              "      <th></th>\n",
              "      <th></th>\n",
              "      <th></th>\n",
              "      <th></th>\n",
              "      <th></th>\n",
              "      <th></th>\n",
              "      <th></th>\n",
              "      <th></th>\n",
              "      <th></th>\n",
              "      <th></th>\n",
              "      <th></th>\n",
              "      <th></th>\n",
              "      <th></th>\n",
              "      <th></th>\n",
              "      <th></th>\n",
              "      <th></th>\n",
              "      <th></th>\n",
              "      <th></th>\n",
              "      <th></th>\n",
              "      <th></th>\n",
              "      <th></th>\n",
              "      <th></th>\n",
              "      <th></th>\n",
              "      <th></th>\n",
              "      <th></th>\n",
              "      <th></th>\n",
              "      <th></th>\n",
              "      <th></th>\n",
              "      <th></th>\n",
              "      <th></th>\n",
              "      <th></th>\n",
              "      <th></th>\n",
              "      <th></th>\n",
              "      <th></th>\n",
              "      <th></th>\n",
              "      <th></th>\n",
              "      <th></th>\n",
              "      <th></th>\n",
              "      <th></th>\n",
              "      <th></th>\n",
              "    </tr>\n",
              "  </thead>\n",
              "  <tbody>\n",
              "    <tr>\n",
              "      <th>Africa</th>\n",
              "      <td>0.0</td>\n",
              "      <td>0.0</td>\n",
              "      <td>0.0</td>\n",
              "      <td>0.0</td>\n",
              "      <td>0.0</td>\n",
              "      <td>0.0</td>\n",
              "      <td>0.0</td>\n",
              "      <td>0.0</td>\n",
              "      <td>0.0</td>\n",
              "      <td>0.0</td>\n",
              "      <td>0.0</td>\n",
              "      <td>0.0</td>\n",
              "      <td>0.0</td>\n",
              "      <td>0.0</td>\n",
              "      <td>0.0</td>\n",
              "      <td>0.0</td>\n",
              "      <td>0.0</td>\n",
              "      <td>0.0</td>\n",
              "      <td>0.0</td>\n",
              "      <td>0.0</td>\n",
              "      <td>0.0</td>\n",
              "      <td>0.0</td>\n",
              "      <td>0.0</td>\n",
              "      <td>0.0</td>\n",
              "      <td>0.0</td>\n",
              "      <td>0.0</td>\n",
              "      <td>0.0</td>\n",
              "      <td>0.0</td>\n",
              "      <td>0.0</td>\n",
              "      <td>0.0</td>\n",
              "      <td>0.0</td>\n",
              "      <td>0.0</td>\n",
              "      <td>0.0</td>\n",
              "      <td>0.0</td>\n",
              "      <td>0.0</td>\n",
              "      <td>0.0</td>\n",
              "      <td>0.0</td>\n",
              "      <td>0.0</td>\n",
              "      <td>0.0</td>\n",
              "      <td>0.0</td>\n",
              "      <td>...</td>\n",
              "      <td>446.0</td>\n",
              "      <td>489.0</td>\n",
              "      <td>535.0</td>\n",
              "      <td>576.0</td>\n",
              "      <td>629.0</td>\n",
              "      <td>695.0</td>\n",
              "      <td>745.0</td>\n",
              "      <td>791.0</td>\n",
              "      <td>837.0</td>\n",
              "      <td>876.0</td>\n",
              "      <td>913.0</td>\n",
              "      <td>968.0</td>\n",
              "      <td>1020.0</td>\n",
              "      <td>1062.0</td>\n",
              "      <td>1125.0</td>\n",
              "      <td>1163.0</td>\n",
              "      <td>1193.0</td>\n",
              "      <td>1244.0</td>\n",
              "      <td>1301.0</td>\n",
              "      <td>1328.0</td>\n",
              "      <td>1379.0</td>\n",
              "      <td>1427.0</td>\n",
              "      <td>1466.0</td>\n",
              "      <td>1527.0</td>\n",
              "      <td>1592.0</td>\n",
              "      <td>1638.0</td>\n",
              "      <td>1696.0</td>\n",
              "      <td>1763.0</td>\n",
              "      <td>1802.0</td>\n",
              "      <td>1848.0</td>\n",
              "      <td>1917.0</td>\n",
              "      <td>2015.0</td>\n",
              "      <td>2083.0</td>\n",
              "      <td>2164.0</td>\n",
              "      <td>2232.0</td>\n",
              "      <td>2301.0</td>\n",
              "      <td>2355.0</td>\n",
              "      <td>2407.0</td>\n",
              "      <td>2507.0</td>\n",
              "      <td>2578.0</td>\n",
              "    </tr>\n",
              "    <tr>\n",
              "      <th>Americas</th>\n",
              "      <td>0.0</td>\n",
              "      <td>0.0</td>\n",
              "      <td>0.0</td>\n",
              "      <td>0.0</td>\n",
              "      <td>0.0</td>\n",
              "      <td>0.0</td>\n",
              "      <td>0.0</td>\n",
              "      <td>0.0</td>\n",
              "      <td>0.0</td>\n",
              "      <td>0.0</td>\n",
              "      <td>0.0</td>\n",
              "      <td>0.0</td>\n",
              "      <td>0.0</td>\n",
              "      <td>0.0</td>\n",
              "      <td>0.0</td>\n",
              "      <td>0.0</td>\n",
              "      <td>0.0</td>\n",
              "      <td>0.0</td>\n",
              "      <td>0.0</td>\n",
              "      <td>0.0</td>\n",
              "      <td>0.0</td>\n",
              "      <td>0.0</td>\n",
              "      <td>0.0</td>\n",
              "      <td>0.0</td>\n",
              "      <td>0.0</td>\n",
              "      <td>0.0</td>\n",
              "      <td>0.0</td>\n",
              "      <td>0.0</td>\n",
              "      <td>0.0</td>\n",
              "      <td>0.0</td>\n",
              "      <td>0.0</td>\n",
              "      <td>0.0</td>\n",
              "      <td>0.0</td>\n",
              "      <td>0.0</td>\n",
              "      <td>0.0</td>\n",
              "      <td>0.0</td>\n",
              "      <td>0.0</td>\n",
              "      <td>0.0</td>\n",
              "      <td>1.0</td>\n",
              "      <td>1.0</td>\n",
              "      <td>...</td>\n",
              "      <td>13822.0</td>\n",
              "      <td>15594.0</td>\n",
              "      <td>18121.0</td>\n",
              "      <td>20507.0</td>\n",
              "      <td>22844.0</td>\n",
              "      <td>25224.0</td>\n",
              "      <td>27517.0</td>\n",
              "      <td>29549.0</td>\n",
              "      <td>31618.0</td>\n",
              "      <td>34482.0</td>\n",
              "      <td>37389.0</td>\n",
              "      <td>40046.0</td>\n",
              "      <td>43102.0</td>\n",
              "      <td>45936.0</td>\n",
              "      <td>47567.0</td>\n",
              "      <td>49712.0</td>\n",
              "      <td>52732.0</td>\n",
              "      <td>55624.0</td>\n",
              "      <td>58748.0</td>\n",
              "      <td>61336.0</td>\n",
              "      <td>64318.0</td>\n",
              "      <td>65912.0</td>\n",
              "      <td>67982.0</td>\n",
              "      <td>71201.0</td>\n",
              "      <td>74731.0</td>\n",
              "      <td>77733.0</td>\n",
              "      <td>80718.0</td>\n",
              "      <td>83177.0</td>\n",
              "      <td>85324.0</td>\n",
              "      <td>87341.0</td>\n",
              "      <td>90642.0</td>\n",
              "      <td>94259.0</td>\n",
              "      <td>97695.0</td>\n",
              "      <td>100596.0</td>\n",
              "      <td>103338.0</td>\n",
              "      <td>105356.0</td>\n",
              "      <td>107425.0</td>\n",
              "      <td>110784.0</td>\n",
              "      <td>113935.0</td>\n",
              "      <td>117104.0</td>\n",
              "    </tr>\n",
              "    <tr>\n",
              "      <th>Asia</th>\n",
              "      <td>17.0</td>\n",
              "      <td>18.0</td>\n",
              "      <td>26.0</td>\n",
              "      <td>42.0</td>\n",
              "      <td>56.0</td>\n",
              "      <td>82.0</td>\n",
              "      <td>131.0</td>\n",
              "      <td>133.0</td>\n",
              "      <td>171.0</td>\n",
              "      <td>213.0</td>\n",
              "      <td>259.0</td>\n",
              "      <td>362.0</td>\n",
              "      <td>426.0</td>\n",
              "      <td>492.0</td>\n",
              "      <td>564.0</td>\n",
              "      <td>634.0</td>\n",
              "      <td>719.0</td>\n",
              "      <td>806.0</td>\n",
              "      <td>906.0</td>\n",
              "      <td>1013.0</td>\n",
              "      <td>1113.0</td>\n",
              "      <td>1118.0</td>\n",
              "      <td>1371.0</td>\n",
              "      <td>1523.0</td>\n",
              "      <td>1665.0</td>\n",
              "      <td>1769.0</td>\n",
              "      <td>1867.0</td>\n",
              "      <td>2006.0</td>\n",
              "      <td>2121.0</td>\n",
              "      <td>2244.0</td>\n",
              "      <td>2247.0</td>\n",
              "      <td>2453.0</td>\n",
              "      <td>2462.0</td>\n",
              "      <td>2618.0</td>\n",
              "      <td>2694.0</td>\n",
              "      <td>2752.0</td>\n",
              "      <td>2791.0</td>\n",
              "      <td>2843.0</td>\n",
              "      <td>2903.0</td>\n",
              "      <td>2952.0</td>\n",
              "      <td>...</td>\n",
              "      <td>8609.0</td>\n",
              "      <td>8931.0</td>\n",
              "      <td>9226.0</td>\n",
              "      <td>9527.0</td>\n",
              "      <td>9890.0</td>\n",
              "      <td>10221.0</td>\n",
              "      <td>10588.0</td>\n",
              "      <td>10987.0</td>\n",
              "      <td>11331.0</td>\n",
              "      <td>11721.0</td>\n",
              "      <td>12019.0</td>\n",
              "      <td>12414.0</td>\n",
              "      <td>14066.0</td>\n",
              "      <td>14401.0</td>\n",
              "      <td>14785.0</td>\n",
              "      <td>15104.0</td>\n",
              "      <td>15489.0</td>\n",
              "      <td>15834.0</td>\n",
              "      <td>16212.0</td>\n",
              "      <td>16602.0</td>\n",
              "      <td>16953.0</td>\n",
              "      <td>17245.0</td>\n",
              "      <td>17589.0</td>\n",
              "      <td>17912.0</td>\n",
              "      <td>18278.0</td>\n",
              "      <td>18635.0</td>\n",
              "      <td>18963.0</td>\n",
              "      <td>19342.0</td>\n",
              "      <td>19619.0</td>\n",
              "      <td>20080.0</td>\n",
              "      <td>20451.0</td>\n",
              "      <td>20827.0</td>\n",
              "      <td>21205.0</td>\n",
              "      <td>21501.0</td>\n",
              "      <td>21851.0</td>\n",
              "      <td>22189.0</td>\n",
              "      <td>22501.0</td>\n",
              "      <td>22865.0</td>\n",
              "      <td>23260.0</td>\n",
              "      <td>23592.0</td>\n",
              "    </tr>\n",
              "    <tr>\n",
              "      <th>Europe</th>\n",
              "      <td>0.0</td>\n",
              "      <td>0.0</td>\n",
              "      <td>0.0</td>\n",
              "      <td>0.0</td>\n",
              "      <td>0.0</td>\n",
              "      <td>0.0</td>\n",
              "      <td>0.0</td>\n",
              "      <td>0.0</td>\n",
              "      <td>0.0</td>\n",
              "      <td>0.0</td>\n",
              "      <td>0.0</td>\n",
              "      <td>0.0</td>\n",
              "      <td>0.0</td>\n",
              "      <td>0.0</td>\n",
              "      <td>0.0</td>\n",
              "      <td>0.0</td>\n",
              "      <td>0.0</td>\n",
              "      <td>0.0</td>\n",
              "      <td>0.0</td>\n",
              "      <td>0.0</td>\n",
              "      <td>0.0</td>\n",
              "      <td>0.0</td>\n",
              "      <td>0.0</td>\n",
              "      <td>0.0</td>\n",
              "      <td>1.0</td>\n",
              "      <td>1.0</td>\n",
              "      <td>1.0</td>\n",
              "      <td>1.0</td>\n",
              "      <td>1.0</td>\n",
              "      <td>1.0</td>\n",
              "      <td>2.0</td>\n",
              "      <td>3.0</td>\n",
              "      <td>4.0</td>\n",
              "      <td>8.0</td>\n",
              "      <td>11.0</td>\n",
              "      <td>14.0</td>\n",
              "      <td>19.0</td>\n",
              "      <td>23.0</td>\n",
              "      <td>31.0</td>\n",
              "      <td>36.0</td>\n",
              "      <td>...</td>\n",
              "      <td>50150.0</td>\n",
              "      <td>53698.0</td>\n",
              "      <td>58720.0</td>\n",
              "      <td>62679.0</td>\n",
              "      <td>67453.0</td>\n",
              "      <td>71903.0</td>\n",
              "      <td>75221.0</td>\n",
              "      <td>78448.0</td>\n",
              "      <td>81695.0</td>\n",
              "      <td>85274.0</td>\n",
              "      <td>90251.0</td>\n",
              "      <td>94431.0</td>\n",
              "      <td>98523.0</td>\n",
              "      <td>101721.0</td>\n",
              "      <td>104200.0</td>\n",
              "      <td>107023.0</td>\n",
              "      <td>110726.0</td>\n",
              "      <td>114113.0</td>\n",
              "      <td>117296.0</td>\n",
              "      <td>120618.0</td>\n",
              "      <td>123423.0</td>\n",
              "      <td>125198.0</td>\n",
              "      <td>127289.0</td>\n",
              "      <td>130037.0</td>\n",
              "      <td>132938.0</td>\n",
              "      <td>135226.0</td>\n",
              "      <td>137113.0</td>\n",
              "      <td>139401.0</td>\n",
              "      <td>140594.0</td>\n",
              "      <td>142136.0</td>\n",
              "      <td>144095.0</td>\n",
              "      <td>146620.0</td>\n",
              "      <td>148450.0</td>\n",
              "      <td>150503.0</td>\n",
              "      <td>151756.0</td>\n",
              "      <td>152729.0</td>\n",
              "      <td>153915.0</td>\n",
              "      <td>155751.0</td>\n",
              "      <td>157360.0</td>\n",
              "      <td>159009.0</td>\n",
              "    </tr>\n",
              "    <tr>\n",
              "      <th>Oceania</th>\n",
              "      <td>0.0</td>\n",
              "      <td>0.0</td>\n",
              "      <td>0.0</td>\n",
              "      <td>0.0</td>\n",
              "      <td>0.0</td>\n",
              "      <td>0.0</td>\n",
              "      <td>0.0</td>\n",
              "      <td>0.0</td>\n",
              "      <td>0.0</td>\n",
              "      <td>0.0</td>\n",
              "      <td>0.0</td>\n",
              "      <td>0.0</td>\n",
              "      <td>0.0</td>\n",
              "      <td>0.0</td>\n",
              "      <td>0.0</td>\n",
              "      <td>0.0</td>\n",
              "      <td>0.0</td>\n",
              "      <td>0.0</td>\n",
              "      <td>0.0</td>\n",
              "      <td>0.0</td>\n",
              "      <td>0.0</td>\n",
              "      <td>0.0</td>\n",
              "      <td>0.0</td>\n",
              "      <td>0.0</td>\n",
              "      <td>0.0</td>\n",
              "      <td>0.0</td>\n",
              "      <td>0.0</td>\n",
              "      <td>0.0</td>\n",
              "      <td>0.0</td>\n",
              "      <td>0.0</td>\n",
              "      <td>0.0</td>\n",
              "      <td>0.0</td>\n",
              "      <td>0.0</td>\n",
              "      <td>0.0</td>\n",
              "      <td>0.0</td>\n",
              "      <td>0.0</td>\n",
              "      <td>0.0</td>\n",
              "      <td>0.0</td>\n",
              "      <td>0.0</td>\n",
              "      <td>1.0</td>\n",
              "      <td>...</td>\n",
              "      <td>36.0</td>\n",
              "      <td>41.0</td>\n",
              "      <td>46.0</td>\n",
              "      <td>51.0</td>\n",
              "      <td>52.0</td>\n",
              "      <td>56.0</td>\n",
              "      <td>61.0</td>\n",
              "      <td>64.0</td>\n",
              "      <td>66.0</td>\n",
              "      <td>71.0</td>\n",
              "      <td>72.0</td>\n",
              "      <td>72.0</td>\n",
              "      <td>77.0</td>\n",
              "      <td>78.0</td>\n",
              "      <td>79.0</td>\n",
              "      <td>79.0</td>\n",
              "      <td>80.0</td>\n",
              "      <td>81.0</td>\n",
              "      <td>92.0</td>\n",
              "      <td>97.0</td>\n",
              "      <td>98.0</td>\n",
              "      <td>102.0</td>\n",
              "      <td>102.0</td>\n",
              "      <td>108.0</td>\n",
              "      <td>110.0</td>\n",
              "      <td>112.0</td>\n",
              "      <td>113.0</td>\n",
              "      <td>114.0</td>\n",
              "      <td>115.0</td>\n",
              "      <td>116.0</td>\n",
              "      <td>118.0</td>\n",
              "      <td>118.0</td>\n",
              "      <td>118.0</td>\n",
              "      <td>118.0</td>\n",
              "      <td>118.0</td>\n",
              "      <td>118.0</td>\n",
              "      <td>118.0</td>\n",
              "      <td>119.0</td>\n",
              "      <td>119.0</td>\n",
              "      <td>119.0</td>\n",
              "    </tr>\n",
              "  </tbody>\n",
              "</table>\n",
              "<p>5 rows × 114 columns</p>\n",
              "</div>"
            ],
            "text/plain": [
              "             1/22/20  1/23/20  1/24/20  ...   5/12/20   5/13/20   5/14/20\n",
              "Region Name                             ...                              \n",
              "Africa           0.0      0.0      0.0  ...    2407.0    2507.0    2578.0\n",
              "Americas         0.0      0.0      0.0  ...  110784.0  113935.0  117104.0\n",
              "Asia            17.0     18.0     26.0  ...   22865.0   23260.0   23592.0\n",
              "Europe           0.0      0.0      0.0  ...  155751.0  157360.0  159009.0\n",
              "Oceania          0.0      0.0      0.0  ...     119.0     119.0     119.0\n",
              "\n",
              "[5 rows x 114 columns]"
            ]
          },
          "metadata": {
            "tags": []
          },
          "execution_count": 38
        }
      ]
    },
    {
      "cell_type": "code",
      "metadata": {
        "id": "rDAx61RTuApQ",
        "colab_type": "code",
        "outputId": "7aea2708-6748-482a-a146-36a25f762bdf",
        "colab": {
          "base_uri": "https://localhost:8080/",
          "height": 318
        }
      },
      "source": [
        "# Numero de casos de Recuperados por dia en cada continente  #\n",
        "dfm_region_recovered = dfm_recovered_iso.toPandas()\n",
        "dfm_region_recovered = dfm_region_recovered.groupby('Region Name')['1/22/20',\n",
        " '1/23/20',\n",
        " '1/24/20',\n",
        " '1/25/20',\n",
        " '1/26/20',\n",
        " '1/27/20',\n",
        " '1/28/20',\n",
        " '1/29/20',\n",
        " '1/30/20',\n",
        " '1/31/20',\n",
        " '2/1/20',\n",
        " '2/2/20',\n",
        " '2/3/20',\n",
        " '2/4/20',\n",
        " '2/5/20',\n",
        " '2/6/20',\n",
        " '2/7/20',\n",
        " '2/8/20',\n",
        " '2/9/20',\n",
        " '2/10/20',\n",
        " '2/11/20',\n",
        " '2/12/20',\n",
        " '2/13/20',\n",
        " '2/14/20',\n",
        " '2/15/20',\n",
        " '2/16/20',\n",
        " '2/17/20',\n",
        " '2/18/20',\n",
        " '2/19/20',\n",
        " '2/20/20',\n",
        " '2/21/20',\n",
        " '2/22/20',\n",
        " '2/23/20',\n",
        " '2/24/20',\n",
        " '2/25/20',\n",
        " '2/26/20',\n",
        " '2/27/20',\n",
        " '2/28/20',\n",
        " '2/29/20',\n",
        " '3/1/20',\n",
        " '3/2/20',\n",
        " '3/3/20',\n",
        " '3/4/20',\n",
        " '3/5/20',\n",
        " '3/6/20',\n",
        " '3/7/20',\n",
        " '3/8/20',\n",
        " '3/9/20',\n",
        " '3/10/20',\n",
        " '3/11/20',\n",
        " '3/12/20',\n",
        " '3/13/20',\n",
        " '3/14/20',\n",
        " '3/15/20',\n",
        " '3/16/20',\n",
        " '3/17/20',\n",
        " '3/18/20',\n",
        " '3/19/20',\n",
        " '3/20/20',\n",
        " '3/21/20',\n",
        " '3/22/20',\n",
        " '3/23/20',\n",
        " '3/24/20',\n",
        " '3/25/20',\n",
        " '3/26/20',\n",
        " '3/27/20',\n",
        " '3/28/20',\n",
        " '3/29/20',\n",
        " '3/30/20',\n",
        " '3/31/20',\n",
        " '4/1/20',\n",
        " '4/2/20',\n",
        " '4/3/20',\n",
        " '4/4/20',\n",
        " '4/5/20',\n",
        " '4/6/20',\n",
        " '4/7/20',\n",
        " '4/8/20',\n",
        " '4/9/20',\n",
        " '4/10/20',\n",
        " '4/11/20',\n",
        " '4/12/20',\n",
        " '4/13/20',\n",
        " '4/14/20',\n",
        " '4/15/20',\n",
        " '4/16/20',\n",
        " '4/17/20',\n",
        " '4/18/20',\n",
        " '4/19/20',\n",
        " '4/20/20',\n",
        " '4/21/20',\n",
        " '4/22/20',\n",
        " '4/23/20',\n",
        " '4/24/20',\n",
        " '4/25/20',\n",
        " '4/26/20',\n",
        " '4/27/20',\n",
        " '4/28/20',\n",
        " '4/29/20',\n",
        " '4/30/20',\n",
        " '5/1/20',\n",
        " '5/2/20',\n",
        " '5/3/20',\n",
        " '5/4/20',\n",
        " '5/5/20',\n",
        " '5/6/20',\n",
        " '5/7/20',\n",
        " '5/8/20',\n",
        " '5/9/20',\n",
        " '5/10/20',\n",
        " '5/11/20',\n",
        " '5/12/20',\n",
        " '5/13/20',\n",
        " '5/14/20'].sum()\n",
        " \n",
        "dfm_region_recovered = dfm_region_recovered.drop(['#region+main+name'])\n",
        "dfm_region_recovered"
      ],
      "execution_count": 0,
      "outputs": [
        {
          "output_type": "stream",
          "text": [
            "/usr/local/lib/python3.6/dist-packages/ipykernel_launcher.py:116: FutureWarning: Indexing with multiple keys (implicitly converted to a tuple of keys) will be deprecated, use a list instead.\n"
          ],
          "name": "stderr"
        },
        {
          "output_type": "execute_result",
          "data": {
            "text/html": [
              "<div>\n",
              "<style scoped>\n",
              "    .dataframe tbody tr th:only-of-type {\n",
              "        vertical-align: middle;\n",
              "    }\n",
              "\n",
              "    .dataframe tbody tr th {\n",
              "        vertical-align: top;\n",
              "    }\n",
              "\n",
              "    .dataframe thead th {\n",
              "        text-align: right;\n",
              "    }\n",
              "</style>\n",
              "<table border=\"1\" class=\"dataframe\">\n",
              "  <thead>\n",
              "    <tr style=\"text-align: right;\">\n",
              "      <th></th>\n",
              "      <th>1/22/20</th>\n",
              "      <th>1/23/20</th>\n",
              "      <th>1/24/20</th>\n",
              "      <th>1/25/20</th>\n",
              "      <th>1/26/20</th>\n",
              "      <th>1/27/20</th>\n",
              "      <th>1/28/20</th>\n",
              "      <th>1/29/20</th>\n",
              "      <th>1/30/20</th>\n",
              "      <th>1/31/20</th>\n",
              "      <th>2/1/20</th>\n",
              "      <th>2/2/20</th>\n",
              "      <th>2/3/20</th>\n",
              "      <th>2/4/20</th>\n",
              "      <th>2/5/20</th>\n",
              "      <th>2/6/20</th>\n",
              "      <th>2/7/20</th>\n",
              "      <th>2/8/20</th>\n",
              "      <th>2/9/20</th>\n",
              "      <th>2/10/20</th>\n",
              "      <th>2/11/20</th>\n",
              "      <th>2/12/20</th>\n",
              "      <th>2/13/20</th>\n",
              "      <th>2/14/20</th>\n",
              "      <th>2/15/20</th>\n",
              "      <th>2/16/20</th>\n",
              "      <th>2/17/20</th>\n",
              "      <th>2/18/20</th>\n",
              "      <th>2/19/20</th>\n",
              "      <th>2/20/20</th>\n",
              "      <th>2/21/20</th>\n",
              "      <th>2/22/20</th>\n",
              "      <th>2/23/20</th>\n",
              "      <th>2/24/20</th>\n",
              "      <th>2/25/20</th>\n",
              "      <th>2/26/20</th>\n",
              "      <th>2/27/20</th>\n",
              "      <th>2/28/20</th>\n",
              "      <th>2/29/20</th>\n",
              "      <th>3/1/20</th>\n",
              "      <th>...</th>\n",
              "      <th>4/5/20</th>\n",
              "      <th>4/6/20</th>\n",
              "      <th>4/7/20</th>\n",
              "      <th>4/8/20</th>\n",
              "      <th>4/9/20</th>\n",
              "      <th>4/10/20</th>\n",
              "      <th>4/11/20</th>\n",
              "      <th>4/12/20</th>\n",
              "      <th>4/13/20</th>\n",
              "      <th>4/14/20</th>\n",
              "      <th>4/15/20</th>\n",
              "      <th>4/16/20</th>\n",
              "      <th>4/17/20</th>\n",
              "      <th>4/18/20</th>\n",
              "      <th>4/19/20</th>\n",
              "      <th>4/20/20</th>\n",
              "      <th>4/21/20</th>\n",
              "      <th>4/22/20</th>\n",
              "      <th>4/23/20</th>\n",
              "      <th>4/24/20</th>\n",
              "      <th>4/25/20</th>\n",
              "      <th>4/26/20</th>\n",
              "      <th>4/27/20</th>\n",
              "      <th>4/28/20</th>\n",
              "      <th>4/29/20</th>\n",
              "      <th>4/30/20</th>\n",
              "      <th>5/1/20</th>\n",
              "      <th>5/2/20</th>\n",
              "      <th>5/3/20</th>\n",
              "      <th>5/4/20</th>\n",
              "      <th>5/5/20</th>\n",
              "      <th>5/6/20</th>\n",
              "      <th>5/7/20</th>\n",
              "      <th>5/8/20</th>\n",
              "      <th>5/9/20</th>\n",
              "      <th>5/10/20</th>\n",
              "      <th>5/11/20</th>\n",
              "      <th>5/12/20</th>\n",
              "      <th>5/13/20</th>\n",
              "      <th>5/14/20</th>\n",
              "    </tr>\n",
              "    <tr>\n",
              "      <th>Region Name</th>\n",
              "      <th></th>\n",
              "      <th></th>\n",
              "      <th></th>\n",
              "      <th></th>\n",
              "      <th></th>\n",
              "      <th></th>\n",
              "      <th></th>\n",
              "      <th></th>\n",
              "      <th></th>\n",
              "      <th></th>\n",
              "      <th></th>\n",
              "      <th></th>\n",
              "      <th></th>\n",
              "      <th></th>\n",
              "      <th></th>\n",
              "      <th></th>\n",
              "      <th></th>\n",
              "      <th></th>\n",
              "      <th></th>\n",
              "      <th></th>\n",
              "      <th></th>\n",
              "      <th></th>\n",
              "      <th></th>\n",
              "      <th></th>\n",
              "      <th></th>\n",
              "      <th></th>\n",
              "      <th></th>\n",
              "      <th></th>\n",
              "      <th></th>\n",
              "      <th></th>\n",
              "      <th></th>\n",
              "      <th></th>\n",
              "      <th></th>\n",
              "      <th></th>\n",
              "      <th></th>\n",
              "      <th></th>\n",
              "      <th></th>\n",
              "      <th></th>\n",
              "      <th></th>\n",
              "      <th></th>\n",
              "      <th></th>\n",
              "      <th></th>\n",
              "      <th></th>\n",
              "      <th></th>\n",
              "      <th></th>\n",
              "      <th></th>\n",
              "      <th></th>\n",
              "      <th></th>\n",
              "      <th></th>\n",
              "      <th></th>\n",
              "      <th></th>\n",
              "      <th></th>\n",
              "      <th></th>\n",
              "      <th></th>\n",
              "      <th></th>\n",
              "      <th></th>\n",
              "      <th></th>\n",
              "      <th></th>\n",
              "      <th></th>\n",
              "      <th></th>\n",
              "      <th></th>\n",
              "      <th></th>\n",
              "      <th></th>\n",
              "      <th></th>\n",
              "      <th></th>\n",
              "      <th></th>\n",
              "      <th></th>\n",
              "      <th></th>\n",
              "      <th></th>\n",
              "      <th></th>\n",
              "      <th></th>\n",
              "      <th></th>\n",
              "      <th></th>\n",
              "      <th></th>\n",
              "      <th></th>\n",
              "      <th></th>\n",
              "      <th></th>\n",
              "      <th></th>\n",
              "      <th></th>\n",
              "      <th></th>\n",
              "      <th></th>\n",
              "    </tr>\n",
              "  </thead>\n",
              "  <tbody>\n",
              "    <tr>\n",
              "      <th>Africa</th>\n",
              "      <td>0.0</td>\n",
              "      <td>0.0</td>\n",
              "      <td>0.0</td>\n",
              "      <td>0.0</td>\n",
              "      <td>0.0</td>\n",
              "      <td>0.0</td>\n",
              "      <td>0.0</td>\n",
              "      <td>0.0</td>\n",
              "      <td>0.0</td>\n",
              "      <td>0.0</td>\n",
              "      <td>0.0</td>\n",
              "      <td>0.0</td>\n",
              "      <td>0.0</td>\n",
              "      <td>0.0</td>\n",
              "      <td>0.0</td>\n",
              "      <td>0.0</td>\n",
              "      <td>0.0</td>\n",
              "      <td>0.0</td>\n",
              "      <td>0.0</td>\n",
              "      <td>0.0</td>\n",
              "      <td>0.0</td>\n",
              "      <td>0.0</td>\n",
              "      <td>0.0</td>\n",
              "      <td>0.0</td>\n",
              "      <td>0.0</td>\n",
              "      <td>0.0</td>\n",
              "      <td>0.0</td>\n",
              "      <td>0.0</td>\n",
              "      <td>0.0</td>\n",
              "      <td>0.0</td>\n",
              "      <td>0.0</td>\n",
              "      <td>0.0</td>\n",
              "      <td>0.0</td>\n",
              "      <td>0.0</td>\n",
              "      <td>0.0</td>\n",
              "      <td>0.0</td>\n",
              "      <td>0.0</td>\n",
              "      <td>1.0</td>\n",
              "      <td>1.0</td>\n",
              "      <td>1.0</td>\n",
              "      <td>...</td>\n",
              "      <td>960.0</td>\n",
              "      <td>1047.0</td>\n",
              "      <td>1219.0</td>\n",
              "      <td>1467.0</td>\n",
              "      <td>1686.0</td>\n",
              "      <td>2229.0</td>\n",
              "      <td>2457.0</td>\n",
              "      <td>2922.0</td>\n",
              "      <td>3034.0</td>\n",
              "      <td>3338.0</td>\n",
              "      <td>3762.0</td>\n",
              "      <td>4585.0</td>\n",
              "      <td>4958.0</td>\n",
              "      <td>5338.0</td>\n",
              "      <td>5840.0</td>\n",
              "      <td>6424.0</td>\n",
              "      <td>6739.0</td>\n",
              "      <td>7315.0</td>\n",
              "      <td>8534.0</td>\n",
              "      <td>9134.0</td>\n",
              "      <td>9530.0</td>\n",
              "      <td>10018.0</td>\n",
              "      <td>10575.0</td>\n",
              "      <td>11868.0</td>\n",
              "      <td>12630.0</td>\n",
              "      <td>13078.0</td>\n",
              "      <td>13925.0</td>\n",
              "      <td>14664.0</td>\n",
              "      <td>15137.0</td>\n",
              "      <td>16231.0</td>\n",
              "      <td>16977.0</td>\n",
              "      <td>18286.0</td>\n",
              "      <td>19099.0</td>\n",
              "      <td>19839.0</td>\n",
              "      <td>21649.0</td>\n",
              "      <td>22683.0</td>\n",
              "      <td>23989.0</td>\n",
              "      <td>24819.0</td>\n",
              "      <td>26250.0</td>\n",
              "      <td>28186.0</td>\n",
              "    </tr>\n",
              "    <tr>\n",
              "      <th>Americas</th>\n",
              "      <td>0.0</td>\n",
              "      <td>0.0</td>\n",
              "      <td>0.0</td>\n",
              "      <td>0.0</td>\n",
              "      <td>0.0</td>\n",
              "      <td>0.0</td>\n",
              "      <td>0.0</td>\n",
              "      <td>0.0</td>\n",
              "      <td>0.0</td>\n",
              "      <td>0.0</td>\n",
              "      <td>0.0</td>\n",
              "      <td>0.0</td>\n",
              "      <td>0.0</td>\n",
              "      <td>0.0</td>\n",
              "      <td>0.0</td>\n",
              "      <td>0.0</td>\n",
              "      <td>0.0</td>\n",
              "      <td>0.0</td>\n",
              "      <td>3.0</td>\n",
              "      <td>3.0</td>\n",
              "      <td>3.0</td>\n",
              "      <td>4.0</td>\n",
              "      <td>4.0</td>\n",
              "      <td>4.0</td>\n",
              "      <td>4.0</td>\n",
              "      <td>4.0</td>\n",
              "      <td>4.0</td>\n",
              "      <td>4.0</td>\n",
              "      <td>4.0</td>\n",
              "      <td>4.0</td>\n",
              "      <td>8.0</td>\n",
              "      <td>8.0</td>\n",
              "      <td>8.0</td>\n",
              "      <td>8.0</td>\n",
              "      <td>9.0</td>\n",
              "      <td>9.0</td>\n",
              "      <td>12.0</td>\n",
              "      <td>13.0</td>\n",
              "      <td>13.0</td>\n",
              "      <td>13.0</td>\n",
              "      <td>...</td>\n",
              "      <td>23703.0</td>\n",
              "      <td>26328.0</td>\n",
              "      <td>29621.0</td>\n",
              "      <td>32206.0</td>\n",
              "      <td>35728.0</td>\n",
              "      <td>40396.0</td>\n",
              "      <td>44284.0</td>\n",
              "      <td>48200.0</td>\n",
              "      <td>60855.0</td>\n",
              "      <td>69355.0</td>\n",
              "      <td>86474.0</td>\n",
              "      <td>93454.0</td>\n",
              "      <td>99172.0</td>\n",
              "      <td>106795.0</td>\n",
              "      <td>122502.0</td>\n",
              "      <td>126061.0</td>\n",
              "      <td>131107.0</td>\n",
              "      <td>137793.0</td>\n",
              "      <td>143326.0</td>\n",
              "      <td>164850.0</td>\n",
              "      <td>174039.0</td>\n",
              "      <td>184688.0</td>\n",
              "      <td>193503.0</td>\n",
              "      <td>204235.0</td>\n",
              "      <td>213341.0</td>\n",
              "      <td>250736.0</td>\n",
              "      <td>267167.0</td>\n",
              "      <td>284954.0</td>\n",
              "      <td>297056.0</td>\n",
              "      <td>309886.0</td>\n",
              "      <td>321280.0</td>\n",
              "      <td>329745.0</td>\n",
              "      <td>341796.0</td>\n",
              "      <td>354929.0</td>\n",
              "      <td>379417.0</td>\n",
              "      <td>389421.0</td>\n",
              "      <td>412592.0</td>\n",
              "      <td>422695.0</td>\n",
              "      <td>446395.0</td>\n",
              "      <td>455101.0</td>\n",
              "    </tr>\n",
              "    <tr>\n",
              "      <th>Asia</th>\n",
              "      <td>28.0</td>\n",
              "      <td>30.0</td>\n",
              "      <td>36.0</td>\n",
              "      <td>39.0</td>\n",
              "      <td>52.0</td>\n",
              "      <td>61.0</td>\n",
              "      <td>107.0</td>\n",
              "      <td>126.0</td>\n",
              "      <td>141.0</td>\n",
              "      <td>220.0</td>\n",
              "      <td>282.0</td>\n",
              "      <td>470.0</td>\n",
              "      <td>621.0</td>\n",
              "      <td>850.0</td>\n",
              "      <td>1122.0</td>\n",
              "      <td>1485.0</td>\n",
              "      <td>2009.0</td>\n",
              "      <td>2614.0</td>\n",
              "      <td>3239.0</td>\n",
              "      <td>3941.0</td>\n",
              "      <td>4678.0</td>\n",
              "      <td>5138.0</td>\n",
              "      <td>6276.0</td>\n",
              "      <td>8039.0</td>\n",
              "      <td>9372.0</td>\n",
              "      <td>10835.0</td>\n",
              "      <td>12550.0</td>\n",
              "      <td>14308.0</td>\n",
              "      <td>16076.0</td>\n",
              "      <td>18132.0</td>\n",
              "      <td>18838.0</td>\n",
              "      <td>22833.0</td>\n",
              "      <td>23341.0</td>\n",
              "      <td>25175.0</td>\n",
              "      <td>27845.0</td>\n",
              "      <td>30311.0</td>\n",
              "      <td>33158.0</td>\n",
              "      <td>36589.0</td>\n",
              "      <td>39659.0</td>\n",
              "      <td>42556.0</td>\n",
              "      <td>...</td>\n",
              "      <td>110646.0</td>\n",
              "      <td>116627.0</td>\n",
              "      <td>120784.0</td>\n",
              "      <td>124779.0</td>\n",
              "      <td>128934.0</td>\n",
              "      <td>133977.0</td>\n",
              "      <td>142464.0</td>\n",
              "      <td>146497.0</td>\n",
              "      <td>150560.0</td>\n",
              "      <td>155687.0</td>\n",
              "      <td>159953.0</td>\n",
              "      <td>165713.0</td>\n",
              "      <td>170136.0</td>\n",
              "      <td>176091.0</td>\n",
              "      <td>180620.0</td>\n",
              "      <td>186204.0</td>\n",
              "      <td>191959.0</td>\n",
              "      <td>198594.0</td>\n",
              "      <td>205339.0</td>\n",
              "      <td>212948.0</td>\n",
              "      <td>220763.0</td>\n",
              "      <td>228210.0</td>\n",
              "      <td>236746.0</td>\n",
              "      <td>246047.0</td>\n",
              "      <td>256106.0</td>\n",
              "      <td>265787.0</td>\n",
              "      <td>275826.0</td>\n",
              "      <td>284418.0</td>\n",
              "      <td>295180.0</td>\n",
              "      <td>305230.0</td>\n",
              "      <td>316293.0</td>\n",
              "      <td>327424.0</td>\n",
              "      <td>338742.0</td>\n",
              "      <td>349240.0</td>\n",
              "      <td>359424.0</td>\n",
              "      <td>371721.0</td>\n",
              "      <td>382707.0</td>\n",
              "      <td>394790.0</td>\n",
              "      <td>406855.0</td>\n",
              "      <td>418459.0</td>\n",
              "    </tr>\n",
              "    <tr>\n",
              "      <th>Europe</th>\n",
              "      <td>0.0</td>\n",
              "      <td>0.0</td>\n",
              "      <td>0.0</td>\n",
              "      <td>0.0</td>\n",
              "      <td>0.0</td>\n",
              "      <td>0.0</td>\n",
              "      <td>0.0</td>\n",
              "      <td>0.0</td>\n",
              "      <td>0.0</td>\n",
              "      <td>0.0</td>\n",
              "      <td>0.0</td>\n",
              "      <td>0.0</td>\n",
              "      <td>0.0</td>\n",
              "      <td>0.0</td>\n",
              "      <td>0.0</td>\n",
              "      <td>0.0</td>\n",
              "      <td>0.0</td>\n",
              "      <td>0.0</td>\n",
              "      <td>0.0</td>\n",
              "      <td>0.0</td>\n",
              "      <td>0.0</td>\n",
              "      <td>6.0</td>\n",
              "      <td>7.0</td>\n",
              "      <td>7.0</td>\n",
              "      <td>11.0</td>\n",
              "      <td>18.0</td>\n",
              "      <td>19.0</td>\n",
              "      <td>30.0</td>\n",
              "      <td>30.0</td>\n",
              "      <td>30.0</td>\n",
              "      <td>32.0</td>\n",
              "      <td>33.0</td>\n",
              "      <td>34.0</td>\n",
              "      <td>33.0</td>\n",
              "      <td>40.0</td>\n",
              "      <td>43.0</td>\n",
              "      <td>86.0</td>\n",
              "      <td>87.0</td>\n",
              "      <td>88.0</td>\n",
              "      <td>125.0</td>\n",
              "      <td>...</td>\n",
              "      <td>123181.0</td>\n",
              "      <td>130656.0</td>\n",
              "      <td>146489.0</td>\n",
              "      <td>168269.0</td>\n",
              "      <td>185232.0</td>\n",
              "      <td>196716.0</td>\n",
              "      <td>210067.0</td>\n",
              "      <td>221206.0</td>\n",
              "      <td>231251.0</td>\n",
              "      <td>242146.0</td>\n",
              "      <td>256773.0</td>\n",
              "      <td>274070.0</td>\n",
              "      <td>288217.0</td>\n",
              "      <td>297844.0</td>\n",
              "      <td>308648.0</td>\n",
              "      <td>320673.0</td>\n",
              "      <td>343716.0</td>\n",
              "      <td>359672.0</td>\n",
              "      <td>374933.0</td>\n",
              "      <td>395686.0</td>\n",
              "      <td>405842.0</td>\n",
              "      <td>415633.0</td>\n",
              "      <td>425334.0</td>\n",
              "      <td>437188.0</td>\n",
              "      <td>458668.0</td>\n",
              "      <td>476567.0</td>\n",
              "      <td>487734.0</td>\n",
              "      <td>501294.0</td>\n",
              "      <td>510011.0</td>\n",
              "      <td>523451.0</td>\n",
              "      <td>536253.0</td>\n",
              "      <td>561856.0</td>\n",
              "      <td>576938.0</td>\n",
              "      <td>589811.0</td>\n",
              "      <td>606881.0</td>\n",
              "      <td>616855.0</td>\n",
              "      <td>628563.0</td>\n",
              "      <td>642689.0</td>\n",
              "      <td>660590.0</td>\n",
              "      <td>677642.0</td>\n",
              "    </tr>\n",
              "    <tr>\n",
              "      <th>Oceania</th>\n",
              "      <td>0.0</td>\n",
              "      <td>0.0</td>\n",
              "      <td>0.0</td>\n",
              "      <td>0.0</td>\n",
              "      <td>0.0</td>\n",
              "      <td>0.0</td>\n",
              "      <td>0.0</td>\n",
              "      <td>0.0</td>\n",
              "      <td>2.0</td>\n",
              "      <td>2.0</td>\n",
              "      <td>2.0</td>\n",
              "      <td>2.0</td>\n",
              "      <td>2.0</td>\n",
              "      <td>2.0</td>\n",
              "      <td>2.0</td>\n",
              "      <td>2.0</td>\n",
              "      <td>2.0</td>\n",
              "      <td>2.0</td>\n",
              "      <td>2.0</td>\n",
              "      <td>2.0</td>\n",
              "      <td>2.0</td>\n",
              "      <td>2.0</td>\n",
              "      <td>8.0</td>\n",
              "      <td>8.0</td>\n",
              "      <td>8.0</td>\n",
              "      <td>8.0</td>\n",
              "      <td>10.0</td>\n",
              "      <td>10.0</td>\n",
              "      <td>10.0</td>\n",
              "      <td>10.0</td>\n",
              "      <td>11.0</td>\n",
              "      <td>11.0</td>\n",
              "      <td>11.0</td>\n",
              "      <td>11.0</td>\n",
              "      <td>11.0</td>\n",
              "      <td>11.0</td>\n",
              "      <td>11.0</td>\n",
              "      <td>11.0</td>\n",
              "      <td>11.0</td>\n",
              "      <td>11.0</td>\n",
              "      <td>...</td>\n",
              "      <td>914.0</td>\n",
              "      <td>1257.0</td>\n",
              "      <td>1322.0</td>\n",
              "      <td>1363.0</td>\n",
              "      <td>1790.0</td>\n",
              "      <td>2167.0</td>\n",
              "      <td>2229.0</td>\n",
              "      <td>2278.0</td>\n",
              "      <td>2353.0</td>\n",
              "      <td>2815.0</td>\n",
              "      <td>2915.0</td>\n",
              "      <td>3126.0</td>\n",
              "      <td>4638.0</td>\n",
              "      <td>5007.0</td>\n",
              "      <td>5053.0</td>\n",
              "      <td>5302.0</td>\n",
              "      <td>5740.0</td>\n",
              "      <td>6028.0</td>\n",
              "      <td>6203.0</td>\n",
              "      <td>6322.0</td>\n",
              "      <td>6586.0</td>\n",
              "      <td>6791.0</td>\n",
              "      <td>6874.0</td>\n",
              "      <td>6972.0</td>\n",
              "      <td>7035.0</td>\n",
              "      <td>7073.0</td>\n",
              "      <td>7118.0</td>\n",
              "      <td>7162.0</td>\n",
              "      <td>7207.0</td>\n",
              "      <td>7281.0</td>\n",
              "      <td>7384.0</td>\n",
              "      <td>7457.0</td>\n",
              "      <td>7521.0</td>\n",
              "      <td>7586.0</td>\n",
              "      <td>7608.0</td>\n",
              "      <td>7649.0</td>\n",
              "      <td>7707.0</td>\n",
              "      <td>7770.0</td>\n",
              "      <td>7806.0</td>\n",
              "      <td>7854.0</td>\n",
              "    </tr>\n",
              "  </tbody>\n",
              "</table>\n",
              "<p>5 rows × 114 columns</p>\n",
              "</div>"
            ],
            "text/plain": [
              "             1/22/20  1/23/20  1/24/20  ...   5/12/20   5/13/20   5/14/20\n",
              "Region Name                             ...                              \n",
              "Africa           0.0      0.0      0.0  ...   24819.0   26250.0   28186.0\n",
              "Americas         0.0      0.0      0.0  ...  422695.0  446395.0  455101.0\n",
              "Asia            28.0     30.0     36.0  ...  394790.0  406855.0  418459.0\n",
              "Europe           0.0      0.0      0.0  ...  642689.0  660590.0  677642.0\n",
              "Oceania          0.0      0.0      0.0  ...    7770.0    7806.0    7854.0\n",
              "\n",
              "[5 rows x 114 columns]"
            ]
          },
          "metadata": {
            "tags": []
          },
          "execution_count": 39
        }
      ]
    },
    {
      "cell_type": "code",
      "metadata": {
        "id": "PYQT5qPtuXx1",
        "colab_type": "code",
        "outputId": "9c6ed2e5-c3aa-47e9-fac7-5f6ba9a2b9d1",
        "colab": {
          "base_uri": "https://localhost:8080/",
          "height": 134
        }
      },
      "source": [
        "# Numero de casos confirmados por continente#\n",
        "dfm_porRegion = dfm.toPandas()\n",
        "dfm_porRegion_2 = dfm_porRegion.groupby('Region Name')['5/14/20'].sum()\n",
        " \n",
        "dfm_porRegion_2 = dfm_porRegion_2.drop(['#region+main+name'])\n",
        "dfm_porRegion_2"
      ],
      "execution_count": 0,
      "outputs": [
        {
          "output_type": "execute_result",
          "data": {
            "text/plain": [
              "Region Name\n",
              "Africa        77002.0\n",
              "Americas    1942924.0\n",
              "Asia         739025.0\n",
              "Europe      1673856.0\n",
              "Oceania        8621.0\n",
              "Name: 5/14/20, dtype: float64"
            ]
          },
          "metadata": {
            "tags": []
          },
          "execution_count": 235
        }
      ]
    },
    {
      "cell_type": "code",
      "metadata": {
        "id": "GoMl4DCrvXuD",
        "colab_type": "code",
        "outputId": "ee140377-702a-4715-e5cf-eb65abb10666",
        "colab": {
          "base_uri": "https://localhost:8080/",
          "height": 767
        }
      },
      "source": [
        "dfm_porRegion_2.plot.bar(figsize = (16, 12), color = ('blue','g','r','purple','brown'))\n",
        "plt.title(\"Casos confirmados por continente\")\n",
        "plt.show()"
      ],
      "execution_count": 0,
      "outputs": [
        {
          "output_type": "display_data",
          "data": {
            "image/png": "[encoded data removed]",
            "text/plain": [
              "<Figure size 1152x864 with 1 Axes>"
            ]
          },
          "metadata": {
            "tags": [],
            "needs_background": "light"
          }
        }
      ]
    },
    {
      "cell_type": "code",
      "metadata": {
        "id": "z6G_4NJFv1af",
        "colab_type": "code",
        "outputId": "075fab94-3bda-486a-b426-74bf9d453e64",
        "colab": {
          "base_uri": "https://localhost:8080/",
          "height": 136
        }
      },
      "source": [
        "# Numero de casos de muerte por continente#\n",
        "dfm_porRegion_d2 = dfm_death_iso.toPandas()\n",
        "dfm_porRegion_d2 = dfm_porRegion_d2.groupby('Region Name')['5/14/20'].sum()\n",
        "dfm_porRegion_d2 = dfm_porRegion_d2.drop(['#region+main+name'])\n",
        "dfm_porRegion_d2"
      ],
      "execution_count": 0,
      "outputs": [
        {
          "output_type": "execute_result",
          "data": {
            "text/plain": [
              "Region Name\n",
              "Africa        2578.0\n",
              "Americas    117104.0\n",
              "Asia         23592.0\n",
              "Europe      159009.0\n",
              "Oceania        119.0\n",
              "Name: 5/14/20, dtype: float64"
            ]
          },
          "metadata": {
            "tags": []
          },
          "execution_count": 40
        }
      ]
    },
    {
      "cell_type": "code",
      "metadata": {
        "id": "F6ZiBRkov1k0",
        "colab_type": "code",
        "outputId": "1c3eb983-703c-407b-c2b2-69ebae479aa6",
        "colab": {
          "base_uri": "https://localhost:8080/",
          "height": 767
        }
      },
      "source": [
        "dfm_porRegion_d2.plot.bar(figsize = (16, 12), color = ('blue','g','r','purple','brown'))\n",
        "plt.title(\"Casos de muertes por continente\")\n",
        "plt.show()"
      ],
      "execution_count": 0,
      "outputs": [
        {
          "output_type": "display_data",
          "data": {
            "image/png": "[encoded data removed]",
            "text/plain": [
              "<Figure size 1152x864 with 1 Axes>"
            ]
          },
          "metadata": {
            "tags": [],
            "needs_background": "light"
          }
        }
      ]
    },
    {
      "cell_type": "code",
      "metadata": {
        "id": "TwDL6h6cv1wd",
        "colab_type": "code",
        "outputId": "b2bcc090-2027-4276-bf4c-2df841bc53c3",
        "colab": {
          "base_uri": "https://localhost:8080/",
          "height": 136
        }
      },
      "source": [
        "# Numero de casos de recuperados por continente#\n",
        "dfm_porRegion_re = dfm_recovered_iso.toPandas()\n",
        "dfm_porRegion_re = dfm_porRegion_re.groupby('Region Name')['5/14/20'].sum()\n",
        " \n",
        "dfm_porRegion_re = dfm_porRegion_re.drop(['#region+main+name'])\n",
        "dfm_porRegion_re"
      ],
      "execution_count": 0,
      "outputs": [
        {
          "output_type": "execute_result",
          "data": {
            "text/plain": [
              "Region Name\n",
              "Africa       28186.0\n",
              "Americas    455101.0\n",
              "Asia        418459.0\n",
              "Europe      677642.0\n",
              "Oceania       7854.0\n",
              "Name: 5/14/20, dtype: float64"
            ]
          },
          "metadata": {
            "tags": []
          },
          "execution_count": 42
        }
      ]
    },
    {
      "cell_type": "code",
      "metadata": {
        "id": "fKOxyJwvv15S",
        "colab_type": "code",
        "outputId": "9cfa789e-e95f-48d1-c85a-3dae7fbd25c4",
        "colab": {
          "base_uri": "https://localhost:8080/",
          "height": 767
        }
      },
      "source": [
        "dfm_porRegion_re.plot.bar(figsize = (16, 12), color = ('blue','g','r','purple','brown'))\n",
        "plt.title(\"Casos de recuperados por continente\")\n",
        "plt.show()"
      ],
      "execution_count": 0,
      "outputs": [
        {
          "output_type": "display_data",
          "data": {
            "image/png": "[encoded data removed]",
            "text/plain": [
              "<Figure size 1152x864 with 1 Axes>"
            ]
          },
          "metadata": {
            "tags": [],
            "needs_background": "light"
          }
        }
      ]
    },
    {
      "cell_type": "code",
      "metadata": {
        "id": "gE_UBmKvyhny",
        "colab_type": "code",
        "outputId": "9cccc3ca-3eb5-44fd-804c-5223246cf74c",
        "colab": {
          "base_uri": "https://localhost:8080/",
          "height": 716
        }
      },
      "source": [
        "# Comparacion de las variables: recuperados, muertes, casos confirmados#\n",
        "plt.figure(2, figsize =(16, 12))\n",
        "plt.plot(porMuertes_dfm, label = \"Muertes\")\n",
        "plt.plot(porRecuperacion_dfm, label = \"Recuperados\")\n",
        "plt.plot(porRegiones_dfm, label = \"Confirmados\")\n",
        "plt.title('Casos acumulados')\n",
        "plt.legend(loc='upper left')\n",
        "plt.show()"
      ],
      "execution_count": 0,
      "outputs": [
        {
          "output_type": "display_data",
          "data": {
            "image/png": "[encoded data removed]",
            "text/plain": [
              "<Figure size 1152x864 with 1 Axes>"
            ]
          },
          "metadata": {
            "tags": [],
            "needs_background": "light"
          }
        }
      ]
    },
    {
      "cell_type": "code",
      "metadata": {
        "id": "VbNJU7J-2JZv",
        "colab_type": "code",
        "outputId": "31d0846b-d9c3-4603-80ed-b3f0d1183c72",
        "colab": {
          "base_uri": "https://localhost:8080/",
          "height": 390
        }
      },
      "source": [
        "dfm_narrow_filter= dfm_narrow.filter(dfm_narrow['Value']> 100000).filter(dfm_narrow['Date'] == '2020-05-16').select('Country/Region','Value')\n",
        "dfm_narrow_pandas = dfm_narrow_filter.toPandas()\n",
        "#dfm_narrow_pandas = dfm_narrow_pandas['Country/Region'].astype(str)\n",
        "dfm_narrow_pandas['Value'] = dfm_narrow_pandas['Value'].astype(str).astype(int)\n",
        "dfm_narrow_pandas = dfm_narrow_pandas.set_index('Country/Region')\n",
        "dfm_narrow_pandas"
      ],
      "execution_count": 0,
      "outputs": [
        {
          "output_type": "execute_result",
          "data": {
            "text/html": [
              "<div>\n",
              "<style scoped>\n",
              "    .dataframe tbody tr th:only-of-type {\n",
              "        vertical-align: middle;\n",
              "    }\n",
              "\n",
              "    .dataframe tbody tr th {\n",
              "        vertical-align: top;\n",
              "    }\n",
              "\n",
              "    .dataframe thead th {\n",
              "        text-align: right;\n",
              "    }\n",
              "</style>\n",
              "<table border=\"1\" class=\"dataframe\">\n",
              "  <thead>\n",
              "    <tr style=\"text-align: right;\">\n",
              "      <th></th>\n",
              "      <th>Value</th>\n",
              "    </tr>\n",
              "    <tr>\n",
              "      <th>Country/Region</th>\n",
              "      <th></th>\n",
              "    </tr>\n",
              "  </thead>\n",
              "  <tbody>\n",
              "    <tr>\n",
              "      <th>Brazil</th>\n",
              "      <td>233511</td>\n",
              "    </tr>\n",
              "    <tr>\n",
              "      <th>France</th>\n",
              "      <td>177207</td>\n",
              "    </tr>\n",
              "    <tr>\n",
              "      <th>Germany</th>\n",
              "      <td>175752</td>\n",
              "    </tr>\n",
              "    <tr>\n",
              "      <th>Iran</th>\n",
              "      <td>118392</td>\n",
              "    </tr>\n",
              "    <tr>\n",
              "      <th>Italy</th>\n",
              "      <td>224760</td>\n",
              "    </tr>\n",
              "    <tr>\n",
              "      <th>Russia</th>\n",
              "      <td>272043</td>\n",
              "    </tr>\n",
              "    <tr>\n",
              "      <th>Spain</th>\n",
              "      <td>230698</td>\n",
              "    </tr>\n",
              "    <tr>\n",
              "      <th>Turkey</th>\n",
              "      <td>148067</td>\n",
              "    </tr>\n",
              "    <tr>\n",
              "      <th>United Kingdom</th>\n",
              "      <td>240161</td>\n",
              "    </tr>\n",
              "    <tr>\n",
              "      <th>US</th>\n",
              "      <td>1467820</td>\n",
              "    </tr>\n",
              "  </tbody>\n",
              "</table>\n",
              "</div>"
            ],
            "text/plain": [
              "                  Value\n",
              "Country/Region         \n",
              "Brazil           233511\n",
              "France           177207\n",
              "Germany          175752\n",
              "Iran             118392\n",
              "Italy            224760\n",
              "Russia           272043\n",
              "Spain            230698\n",
              "Turkey           148067\n",
              "United Kingdom   240161\n",
              "US              1467820"
            ]
          },
          "metadata": {
            "tags": []
          },
          "execution_count": 44
        }
      ]
    },
    {
      "cell_type": "code",
      "metadata": {
        "id": "X5_7ENjb2W94",
        "colab_type": "code",
        "outputId": "e4b74e03-f94d-4161-d9f1-0ee122de766b",
        "colab": {
          "base_uri": "https://localhost:8080/",
          "height": 729
        }
      },
      "source": [
        "dfm_narrow_pandas.plot.barh(figsize = (16,12))\n",
        "plt.title(\"Paises con casos confirmados mayores a 100000\")\n",
        "plt.show()"
      ],
      "execution_count": 0,
      "outputs": [
        {
          "output_type": "display_data",
          "data": {
            "image/png": "[encoded data removed]",
            "text/plain": [
              "<Figure size 1152x864 with 1 Axes>"
            ]
          },
          "metadata": {
            "tags": [],
            "needs_background": "light"
          }
        }
      ]
    },
    {
      "cell_type": "markdown",
      "metadata": {
        "id": "PUbaxRuBhHmj",
        "colab_type": "text"
      },
      "source": [
        "**Análisis de Colombia.**"
      ]
    },
    {
      "cell_type": "code",
      "metadata": {
        "id": "KOSYpA8ThOwU",
        "colab_type": "code",
        "outputId": "6efc7516-9fab-4e56-f486-2bdf00640510",
        "colab": {
          "base_uri": "https://localhost:8080/",
          "height": 207
        }
      },
      "source": [
        "#Miramos variables inportantes como el número de registros, promedios, etc.\n",
        "dfc.describe().show()"
      ],
      "execution_count": 0,
      "outputs": [
        {
          "output_type": "stream",
          "text": [
            "+-------+------------------+---------------------+------------------+-------------------+------------------------+--------------------+--------------------+--------------------+-----------+--------------------+--------------------+--------------------+--------------------+--------------------+--------------------+--------------------+\n",
            "|summary|        ID de caso|Fecha de notificación|   Codigo DIVIPOLA|Ciudad de ubicación|Departamento o Distrito |            atención|                Edad|                Sexo|       Tipo|              Estado| País de procedencia|                 FIS|     Fecha de muerte|   Fecha diagnostico|    Fecha recuperado|   fecha reporte web|\n",
            "+-------+------------------+---------------------+------------------+-------------------+------------------------+--------------------+--------------------+--------------------+-----------+--------------------+--------------------+--------------------+--------------------+--------------------+--------------------+--------------------+\n",
            "|  count|             13611|                13611|             13611|              13611|                   13611|               13611|               13611|               13611|      13610|               13600|               13611|               13610|               13611|               13611|               13611|               13611|\n",
            "|   mean| 6832.631153563556|                 null|32082.405290227773|               null|                    null|                null|   39.87641440117561|                null|       null|                null|                null|                null|                null|                null|                null|                null|\n",
            "| stddev|3944.1320127313043|                 null|29054.902696464917|               null|                    null|                null|    18.7471194623208|                null|       null|                null|                null|                null|                null|                null|                null|                null|\n",
            "|    min|          #meta+id|   #date+notification|             #code|         #adm3+name|              #adm2+name|#indicator+infect...|#indicator+infect...|#indicator+infect...| En estudio|#indicator+infect...|#indicator+infect...|2020-02-27T00:00:...|#date+reported+death|#date+reported+no...|#date+reported+re...|      #date+reported|\n",
            "|    max|              9999| 2020-05-13T00:00:...|             97001|             Ábrego|                  Vaupés|          Recuperado|                  98|                   M|Relacionado|                leve|           Venezuela|        Asintomático|2020-05-13T00:00:...|2020-05-14T00:00:...|2020-05-14T00:00:...|2020-05-14T00:00:...|\n",
            "+-------+------------------+---------------------+------------------+-------------------+------------------------+--------------------+--------------------+--------------------+-----------+--------------------+--------------------+--------------------+--------------------+--------------------+--------------------+--------------------+\n",
            "\n"
          ],
          "name": "stdout"
        }
      ]
    },
    {
      "cell_type": "code",
      "metadata": {
        "id": "vDIN-H2EQ6Ly",
        "colab_type": "code",
        "outputId": "e1db8d19-5091-4a69-ee55-a157daeb4baf",
        "colab": {
          "base_uri": "https://localhost:8080/",
          "height": 207
        }
      },
      "source": [
        "dfc.head(10)"
      ],
      "execution_count": 0,
      "outputs": [
        {
          "output_type": "execute_result",
          "data": {
            "text/plain": [
              "[Row(ID de caso='#meta+id', Fecha de notificación='#date+notification', Codigo DIVIPOLA='#code', Ciudad de ubicación='#adm3+name', Departamento o Distrito ='#adm2+name', atención='#indicator+infected+type', Edad='#indicator+infected+age', Sexo='#indicator+infected+sex', Tipo=None, Estado='#indicator+infected+status', País de procedencia='#indicator+infected+origin', FIS=None, Fecha de muerte='#date+reported+death', Fecha diagnostico='#date+reported+notification', Fecha recuperado='#date+reported+recovered', fecha reporte web='#date+reported'),\n",
              " Row(ID de caso='1', Fecha de notificación='2020-03-02T00:00:00.000', Codigo DIVIPOLA='11001', Ciudad de ubicación='Bogotá D.C.', Departamento o Distrito ='Bogotá D.C.', atención='Recuperado', Edad='19', Sexo='F', Tipo='Importado', Estado='Recuperado', País de procedencia='Italia', FIS='2020-02-27T00:00:00.000', Fecha de muerte='-   -', Fecha diagnostico='2020-03-06T00:00:00.000', Fecha recuperado='2020-03-13T00:00:00.000', fecha reporte web='2020-03-06T00:00:00.000'),\n",
              " Row(ID de caso='2', Fecha de notificación='2020-03-06T00:00:00.000', Codigo DIVIPOLA='76111', Ciudad de ubicación='Guadalajara de Buga', Departamento o Distrito ='Valle del Cauca', atención='Recuperado', Edad='34', Sexo='M', Tipo='Importado', Estado='Recuperado', País de procedencia='España', FIS='2020-03-04T00:00:00.000', Fecha de muerte='-   -', Fecha diagnostico='2020-03-09T00:00:00.000', Fecha recuperado='2020-03-19T00:00:00.000', fecha reporte web='2020-03-09T00:00:00.000'),\n",
              " Row(ID de caso='3', Fecha de notificación='2020-03-07T00:00:00.000', Codigo DIVIPOLA='5001', Ciudad de ubicación='Medellín', Departamento o Distrito ='Antioquia', atención='Recuperado', Edad='50', Sexo='F', Tipo='Importado', Estado='Recuperado', País de procedencia='España', FIS='2020-02-29T00:00:00.000', Fecha de muerte='-   -', Fecha diagnostico='2020-03-09T00:00:00.000', Fecha recuperado='2020-03-15T00:00:00.000', fecha reporte web='2020-03-09T00:00:00.000'),\n",
              " Row(ID de caso='4', Fecha de notificación='2020-03-09T00:00:00.000', Codigo DIVIPOLA='5001', Ciudad de ubicación='Medellín', Departamento o Distrito ='Antioquia', atención='Recuperado', Edad='55', Sexo='M', Tipo='Relacionado', Estado='Recuperado', País de procedencia='Colombia', FIS='2020-03-06T00:00:00.000', Fecha de muerte='-   -', Fecha diagnostico='2020-03-11T00:00:00.000', Fecha recuperado='2020-03-26T00:00:00.000', fecha reporte web='2020-03-11T00:00:00.000'),\n",
              " Row(ID de caso='5', Fecha de notificación='2020-03-09T00:00:00.000', Codigo DIVIPOLA='5001', Ciudad de ubicación='Medellín', Departamento o Distrito ='Antioquia', atención='Recuperado', Edad='25', Sexo='M', Tipo='Relacionado', Estado='Recuperado', País de procedencia='Colombia', FIS='2020-03-08T00:00:00.000', Fecha de muerte='-   -', Fecha diagnostico='2020-03-11T00:00:00.000', Fecha recuperado='2020-03-23T00:00:00.000', fecha reporte web='2020-03-11T00:00:00.000'),\n",
              " Row(ID de caso='6', Fecha de notificación='2020-03-10T00:00:00.000', Codigo DIVIPOLA='5360', Ciudad de ubicación='Itagüí', Departamento o Distrito ='Antioquia', atención='Recuperado', Edad='27', Sexo='F', Tipo='Relacionado', Estado='Recuperado', País de procedencia='Colombia', FIS='2020-03-06T00:00:00.000', Fecha de muerte='-   -', Fecha diagnostico='2020-03-11T00:00:00.000', Fecha recuperado='2020-03-26T00:00:00.000', fecha reporte web='2020-03-11T00:00:00.000'),\n",
              " Row(ID de caso='7', Fecha de notificación='2020-03-08T00:00:00.000', Codigo DIVIPOLA='13001', Ciudad de ubicación='Cartagena de Indias', Departamento o Distrito ='Cartagena D.T. y C.', atención='Recuperado', Edad='85', Sexo='F', Tipo='Importado', Estado='Recuperado', País de procedencia='Estados Unidos de América', FIS='2020-03-02T00:00:00.000', Fecha de muerte='-   -', Fecha diagnostico='2020-03-11T00:00:00.000', Fecha recuperado='2020-03-17T00:00:00.000', fecha reporte web='2020-03-11T00:00:00.000'),\n",
              " Row(ID de caso='8', Fecha de notificación='2020-03-09T00:00:00.000', Codigo DIVIPOLA='11001', Ciudad de ubicación='Bogotá D.C.', Departamento o Distrito ='Bogotá D.C.', atención='Recuperado', Edad='22', Sexo='F', Tipo='Importado', Estado='Recuperado', País de procedencia='España', FIS='2020-03-06T00:00:00.000', Fecha de muerte='-   -', Fecha diagnostico='2020-03-11T00:00:00.000', Fecha recuperado='2020-03-21T00:00:00.000', fecha reporte web='2020-03-11T00:00:00.000'),\n",
              " Row(ID de caso='9', Fecha de notificación='2020-03-08T00:00:00.000', Codigo DIVIPOLA='11001', Ciudad de ubicación='Bogotá D.C.', Departamento o Distrito ='Bogotá D.C.', atención='Recuperado', Edad='28', Sexo='F', Tipo='Importado', Estado='Recuperado', País de procedencia='España', FIS='2020-03-07T00:00:00.000', Fecha de muerte='-   -', Fecha diagnostico='2020-03-11T00:00:00.000', Fecha recuperado='2020-03-23T00:00:00.000', fecha reporte web='2020-03-11T00:00:00.000')]"
            ]
          },
          "metadata": {
            "tags": []
          },
          "execution_count": 117
        }
      ]
    },
    {
      "cell_type": "code",
      "metadata": {
        "id": "VT7PGDwljA7B",
        "colab_type": "code",
        "colab": {}
      },
      "source": [
        "#Eliminamos los datos con los que no vamos a trabajar\n",
        "dfc_data = dfc.drop('Fecha de notificación','Codigo DIVIPOLA', 'FIS', 'fecha reporte web')"
      ],
      "execution_count": 0,
      "outputs": []
    },
    {
      "cell_type": "markdown",
      "metadata": {
        "id": "ICeJu9KY88En",
        "colab_type": "text"
      },
      "source": [
        "**Ánalisis por ciudades**"
      ]
    },
    {
      "cell_type": "code",
      "metadata": {
        "id": "EqJ_RWez9B8I",
        "colab_type": "code",
        "outputId": "77d73d6a-4368-4ccf-991c-bc31e96cd135",
        "colab": {
          "base_uri": "https://localhost:8080/",
          "height": 289
        }
      },
      "source": [
        "#Agrupamos por ciudad los casos y acondicionamos para pandas\n",
        "dfc_by_ciudad = dfc_data.groupBy('Ciudad de ubicación').count().orderBy('count', ascending=False)\n",
        "dfc_by_ciudad.show(10)\n",
        "\n",
        "ciudad_pandas = dfc_by_ciudad.toPandas()[:5]\n",
        "ciudad_pandas.set_index(\"Ciudad de ubicación\", inplace = True)\n"
      ],
      "execution_count": 0,
      "outputs": [
        {
          "output_type": "stream",
          "text": [
            "+--------------------+-----+\n",
            "| Ciudad de ubicación|count|\n",
            "+--------------------+-----+\n",
            "|         Bogotá D.C.| 4892|\n",
            "|                Cali| 1237|\n",
            "| Cartagena de Indias|  982|\n",
            "|             Leticia|  923|\n",
            "|       Villavicencio|  912|\n",
            "|        Barranquilla|  693|\n",
            "|             Soledad|  417|\n",
            "|            Medellín|  329|\n",
            "|         Santa Marta|  221|\n",
            "|San Andrés de Tumaco|  198|\n",
            "+--------------------+-----+\n",
            "only showing top 10 rows\n",
            "\n"
          ],
          "name": "stdout"
        }
      ]
    },
    {
      "cell_type": "code",
      "metadata": {
        "id": "RPnQTAd27inK",
        "colab_type": "code",
        "outputId": "0d7161ec-b93f-4033-b56a-6a20bbaee052",
        "colab": {
          "base_uri": "https://localhost:8080/",
          "height": 495
        }
      },
      "source": [
        "#Graficamos las 5 ciudades más contaminadas\n",
        "ciudad_pandas.plot.bar(figsize=(10,6)).legend([\"Casos por ciudad\"])\n",
        "plt.title('Top 5 de las ciudades con más casos en Colombia')\n",
        "plt.show()"
      ],
      "execution_count": 0,
      "outputs": [
        {
          "output_type": "display_data",
          "data": {
            "image/png": "[encoded data removed]",
            "text/plain": [
              "<Figure size 720x432 with 1 Axes>"
            ]
          },
          "metadata": {
            "tags": [],
            "needs_background": "light"
          }
        }
      ]
    },
    {
      "cell_type": "code",
      "metadata": {
        "id": "iQq0Lyn09z1y",
        "colab_type": "code",
        "outputId": "8ce1ad7c-85f3-49ba-ffcd-9d66e3ab2bdd",
        "colab": {
          "base_uri": "https://localhost:8080/",
          "height": 289
        }
      },
      "source": [
        "#Agrupamos por ciudad las muertes y acondicionamos para pandas\n",
        "\n",
        "dfc_by_death= dfc_data.filter(dfc_data['Fecha de muerte']!='-   -').groupBy('Ciudad de ubicación').count().orderBy('count', ascending=False)\n",
        "dfc_by_death.show(10)\n",
        "\n",
        "ciudad_muertes_pandas = dfc_by_death.toPandas()[:5]\n",
        "ciudad_muertes_pandas.set_index(\"Ciudad de ubicación\", inplace = True)\n"
      ],
      "execution_count": 0,
      "outputs": [
        {
          "output_type": "stream",
          "text": [
            "+--------------------+-----+\n",
            "| Ciudad de ubicación|count|\n",
            "+--------------------+-----+\n",
            "|         Bogotá D.C.|  165|\n",
            "|                Cali|   67|\n",
            "| Cartagena de Indias|   56|\n",
            "|             Leticia|   29|\n",
            "|        Barranquilla|   24|\n",
            "|         Santa Marta|   17|\n",
            "|             Soledad|   11|\n",
            "|San Andrés de Tumaco|   10|\n",
            "|              Cúcuta|    8|\n",
            "|             Pereira|    7|\n",
            "+--------------------+-----+\n",
            "only showing top 10 rows\n",
            "\n"
          ],
          "name": "stdout"
        }
      ]
    },
    {
      "cell_type": "code",
      "metadata": {
        "id": "F4IIjtg_-y1u",
        "colab_type": "code",
        "outputId": "d7f04e53-47d7-4e47-e089-e37b414eee2e",
        "colab": {
          "base_uri": "https://localhost:8080/",
          "height": 495
        }
      },
      "source": [
        "#Graficamos las 5 ciudades con más muertes\n",
        "ciudad_muertes_pandas.plot.bar(figsize=(10,6)).legend([\"Muertes por ciudad\"])\n",
        "plt.title('Top 5 de las ciudades con más muertes en Colombia')\n",
        "plt.show()"
      ],
      "execution_count": 0,
      "outputs": [
        {
          "output_type": "display_data",
          "data": {
            "image/png": "[encoded data removed]",
            "text/plain": [
              "<Figure size 720x432 with 1 Axes>"
            ]
          },
          "metadata": {
            "tags": [],
            "needs_background": "light"
          }
        }
      ]
    },
    {
      "cell_type": "markdown",
      "metadata": {
        "id": "NJVP16CPL4q2",
        "colab_type": "text"
      },
      "source": [
        "**Analisamos por hombres y mujeres jóvenes**"
      ]
    },
    {
      "cell_type": "code",
      "metadata": {
        "id": "R-H30_326ofI",
        "colab_type": "code",
        "outputId": "27a20fa3-9be6-458c-e136-770f7771cbf7",
        "colab": {
          "base_uri": "https://localhost:8080/",
          "height": 309
        }
      },
      "source": [
        "#Miramos los casos femeninos\n",
        "dfc_data.filter(((dfc_data['Sexo']=='F')|(dfc_data['Sexo']=='f'))&(dfc_data['Edad']>=15)&(dfc_data['Edad']<=40)).show(10)"
      ],
      "execution_count": 0,
      "outputs": [
        {
          "output_type": "stream",
          "text": [
            "+----------+-------------------+------------------------+----------+----+----+-----------+----------+-------------------+---------------+--------------------+--------------------+\n",
            "|ID de caso|Ciudad de ubicación|Departamento o Distrito |  atención|Edad|Sexo|       Tipo|    Estado|País de procedencia|Fecha de muerte|   Fecha diagnostico|    Fecha recuperado|\n",
            "+----------+-------------------+------------------------+----------+----+----+-----------+----------+-------------------+---------------+--------------------+--------------------+\n",
            "|         1|        Bogotá D.C.|             Bogotá D.C.|Recuperado|  19|   F|  Importado|Recuperado|             Italia|          -   -|2020-03-06T00:00:...|2020-03-13T00:00:...|\n",
            "|         6|             Itagüí|               Antioquia|Recuperado|  27|   F|Relacionado|Recuperado|           Colombia|          -   -|2020-03-11T00:00:...|2020-03-26T00:00:...|\n",
            "|         8|        Bogotá D.C.|             Bogotá D.C.|Recuperado|  22|   F|  Importado|Recuperado|             España|          -   -|2020-03-11T00:00:...|2020-03-21T00:00:...|\n",
            "|         9|        Bogotá D.C.|             Bogotá D.C.|Recuperado|  28|   F|  Importado|Recuperado|             España|          -   -|2020-03-11T00:00:...|2020-03-23T00:00:...|\n",
            "|        10|        Bogotá D.C.|             Bogotá D.C.|Recuperado|  36|   F|  Importado|Recuperado|             España|          -   -|2020-03-12T00:00:...|2020-03-21T00:00:...|\n",
            "|        15|      Villavicencio|                    Meta|Recuperado|  30|   F|  Importado|Recuperado|             España|          -   -|2020-03-13T00:00:...|2020-03-23T00:00:...|\n",
            "|        20|           Medellín|               Antioquia|Recuperado|  26|   F|Relacionado|Recuperado|           Colombia|          -   -|2020-03-14T00:00:...|2020-03-24T00:00:...|\n",
            "|        24|        Bogotá D.C.|             Bogotá D.C.|Recuperado|  18|   F|  Importado|Recuperado|             España|          -   -|2020-03-14T00:00:...|2020-03-27T00:00:...|\n",
            "|        26|Cartagena de Indias|     Cartagena D.T. y C.|Recuperado|  30|   F|Relacionado|Recuperado|           Colombia|          -   -|2020-03-15T00:00:...|2020-03-25T00:00:...|\n",
            "|        27|Cartagena de Indias|     Cartagena D.T. y C.|Recuperado|  30|   F|Relacionado|Recuperado|           Colombia|          -   -|2020-03-15T00:00:...|2020-03-25T00:00:...|\n",
            "+----------+-------------------+------------------------+----------+----+----+-----------+----------+-------------------+---------------+--------------------+--------------------+\n",
            "only showing top 10 rows\n",
            "\n"
          ],
          "name": "stdout"
        }
      ]
    },
    {
      "cell_type": "code",
      "metadata": {
        "id": "zp902taP7unN",
        "colab_type": "code",
        "outputId": "953cfac9-6b5a-4510-dbe7-c84d55512613",
        "colab": {
          "base_uri": "https://localhost:8080/",
          "height": 309
        }
      },
      "source": [
        "#Miramos los casos masculinos\n",
        "dfc_data.filter(((dfc_data['Sexo']=='M')|(dfc_data['Sexo']=='m'))&(dfc_data['Edad']>=15)&(dfc_data['Edad']<=40)).show(10)"
      ],
      "execution_count": 0,
      "outputs": [
        {
          "output_type": "stream",
          "text": [
            "+----------+-------------------+------------------------+----------+----+----+-----------+----------+--------------------+---------------+--------------------+--------------------+\n",
            "|ID de caso|Ciudad de ubicación|Departamento o Distrito |  atención|Edad|Sexo|       Tipo|    Estado| País de procedencia|Fecha de muerte|   Fecha diagnostico|    Fecha recuperado|\n",
            "+----------+-------------------+------------------------+----------+----+----+-----------+----------+--------------------+---------------+--------------------+--------------------+\n",
            "|         2|Guadalajara de Buga|         Valle del Cauca|Recuperado|  34|   M|  Importado|Recuperado|              España|          -   -|2020-03-09T00:00:...|2020-03-19T00:00:...|\n",
            "|         5|           Medellín|               Antioquia|Recuperado|  25|   M|Relacionado|Recuperado|            Colombia|          -   -|2020-03-11T00:00:...|2020-03-23T00:00:...|\n",
            "|        21|           Medellín|               Antioquia|Recuperado|  28|   M|Relacionado|Recuperado|            Colombia|          -   -|2020-03-14T00:00:...|2020-04-10T00:00:...|\n",
            "|        22|           Rionegro|               Antioquia|Recuperado|  36|   M|  Importado|Recuperado|Estados Unidos de...|          -   -|2020-03-14T00:00:...|2020-03-24T00:00:...|\n",
            "|        23|        Bogotá D.C.|             Bogotá D.C.|Recuperado|  23|   M|Relacionado|Recuperado|            Colombia|          -   -|2020-03-14T00:00:...|2020-03-23T00:00:...|\n",
            "|        28|       Dosquebradas|               Risaralda|Recuperado|  22|   M|  Importado|Recuperado|Estados Unidos de...|          -   -|2020-03-14T00:00:...|2020-04-08T00:00:...|\n",
            "|        38|        Bogotá D.C.|             Bogotá D.C.|Recuperado|  29|   M|  Importado|Recuperado|              España|          -   -|2020-03-14T00:00:...|2020-03-28T00:00:...|\n",
            "|        39|        Bogotá D.C.|             Bogotá D.C.|Recuperado|  21|   M|  Importado|Recuperado|              España|          -   -|2020-03-14T00:00:...|2020-03-22T00:00:...|\n",
            "|        45|         Subachoque|            Cundinamarca|Recuperado|  29|   M|  Importado|Recuperado|              España|          -   -|2020-03-15T00:00:...|2020-04-05T00:00:...|\n",
            "|        47|        Bogotá D.C.|             Bogotá D.C.|Recuperado|  38|   M|Relacionado|Recuperado|            Colombia|          -   -|2020-03-15T00:00:...|2020-04-07T00:00:...|\n",
            "+----------+-------------------+------------------------+----------+----+----+-----------+----------+--------------------+---------------+--------------------+--------------------+\n",
            "only showing top 10 rows\n",
            "\n"
          ],
          "name": "stdout"
        }
      ]
    },
    {
      "cell_type": "markdown",
      "metadata": {
        "id": "jiMGXD73NeLF",
        "colab_type": "text"
      },
      "source": [
        "**Análisis por mujeres**"
      ]
    },
    {
      "cell_type": "code",
      "metadata": {
        "id": "-WLzDe0_CJf6",
        "colab_type": "code",
        "outputId": "8bb10ae3-dbde-4adb-dabb-bba84be0bf01",
        "colab": {
          "base_uri": "https://localhost:8080/",
          "height": 289
        }
      },
      "source": [
        "#Miramos el conteo de los casos de mujeres por ciudad.\n",
        "dfc_data.filter((dfc_data['Sexo']=='F')|(dfc_data['Sexo']=='f')).groupBy('Ciudad de ubicación').count().orderBy('count', ascending=False).show(10)"
      ],
      "execution_count": 0,
      "outputs": [
        {
          "output_type": "stream",
          "text": [
            "+--------------------+-----+\n",
            "| Ciudad de ubicación|count|\n",
            "+--------------------+-----+\n",
            "|         Bogotá D.C.| 2366|\n",
            "|                Cali|  580|\n",
            "| Cartagena de Indias|  445|\n",
            "|             Leticia|  393|\n",
            "|        Barranquilla|  294|\n",
            "|             Soledad|  172|\n",
            "|            Medellín|  169|\n",
            "|         Santa Marta|  112|\n",
            "|             Pereira|   92|\n",
            "|San Andrés de Tumaco|   88|\n",
            "+--------------------+-----+\n",
            "only showing top 10 rows\n",
            "\n"
          ],
          "name": "stdout"
        }
      ]
    },
    {
      "cell_type": "code",
      "metadata": {
        "id": "hJLFCgo9-vUs",
        "colab_type": "code",
        "outputId": "92b3d31f-6e76-40fd-d083-1d3de86e6072",
        "colab": {
          "base_uri": "https://localhost:8080/",
          "height": 289
        }
      },
      "source": [
        "#Filtrado por mujeres jóvenes y acondicionamos para pandas\n",
        "dfc_by_mujeres= dfc_data.filter(((dfc_data['Sexo']=='F')|(dfc_data['Sexo']=='f'))&(dfc_data['Edad']>=15)&(dfc_data['Edad']<=40)).groupBy('Ciudad de ubicación').count().orderBy('count', ascending=False)\n",
        "dfc_by_mujeres.show(10)\n",
        "\n",
        "dfc_by_mujeres_pandas = dfc_by_mujeres.toPandas()\n",
        "dfc_by_mujeres_pandas.set_index(\"Ciudad de ubicación\", inplace = True)\n"
      ],
      "execution_count": 0,
      "outputs": [
        {
          "output_type": "stream",
          "text": [
            "+--------------------+-----+\n",
            "| Ciudad de ubicación|count|\n",
            "+--------------------+-----+\n",
            "|         Bogotá D.C.| 1108|\n",
            "|                Cali|  289|\n",
            "| Cartagena de Indias|  209|\n",
            "|             Leticia|  181|\n",
            "|        Barranquilla|  128|\n",
            "|            Medellín|  101|\n",
            "|             Soledad|   85|\n",
            "|         Santa Marta|   59|\n",
            "|             Pereira|   56|\n",
            "|San Andrés de Tumaco|   40|\n",
            "+--------------------+-----+\n",
            "only showing top 10 rows\n",
            "\n"
          ],
          "name": "stdout"
        }
      ]
    },
    {
      "cell_type": "code",
      "metadata": {
        "id": "SKuMyOK5E7Ip",
        "colab_type": "code",
        "outputId": "f6f645d8-9f6d-4f46-aa07-64dae8a10d2a",
        "colab": {
          "base_uri": "https://localhost:8080/",
          "height": 289
        }
      },
      "source": [
        "#Mujeres jóvenes Recuperadas\n",
        "dfc_recuperado_mujeres= dfc_data.filter(((dfc_data['Sexo']=='F')|(dfc_data['Sexo']=='f'))&(dfc_data['Edad']>=15)&(dfc_data['Edad']<=40)&(dfc_data['Estado']=='Recuperado')).groupBy('Ciudad de ubicación').count().orderBy('count', ascending=False)\n",
        "dfc_recuperado_mujeres.show(10)\n",
        "\n",
        "dfc_recuperado_mujeres_pandas = dfc_recuperado_mujeres.toPandas()\n",
        "dfc_recuperado_mujeres_pandas.set_index(\"Ciudad de ubicación\", inplace = True)"
      ],
      "execution_count": 0,
      "outputs": [
        {
          "output_type": "stream",
          "text": [
            "+-------------------+-----+\n",
            "|Ciudad de ubicación|count|\n",
            "+-------------------+-----+\n",
            "|        Bogotá D.C.|  357|\n",
            "|               Cali|  103|\n",
            "|           Medellín|   66|\n",
            "|            Pereira|   42|\n",
            "|Cartagena de Indias|   36|\n",
            "|       Barranquilla|   22|\n",
            "|        Santa Marta|   21|\n",
            "|       Dosquebradas|   15|\n",
            "|             Soacha|   13|\n",
            "|             Cúcuta|   11|\n",
            "+-------------------+-----+\n",
            "only showing top 10 rows\n",
            "\n"
          ],
          "name": "stdout"
        }
      ]
    },
    {
      "cell_type": "code",
      "metadata": {
        "id": "ST8YKQSb3-oS",
        "colab_type": "code",
        "outputId": "26b4c44d-1f7f-4d59-ba23-e9159b36f7ab",
        "colab": {
          "base_uri": "https://localhost:8080/",
          "height": 289
        }
      },
      "source": [
        "#Mostramos cuáles son las mujeres muertas pociudad.\n",
        "dfc_data.filter(((dfc_data['Sexo']=='F')|(dfc_data['Sexo']=='f'))&(dfc_data['Fecha de muerte']!='-   -')).groupBy('Ciudad de ubicación').count().orderBy('count', ascending=False).show(10)"
      ],
      "execution_count": 0,
      "outputs": [
        {
          "output_type": "stream",
          "text": [
            "+--------------------+-----+\n",
            "| Ciudad de ubicación|count|\n",
            "+--------------------+-----+\n",
            "|         Bogotá D.C.|   67|\n",
            "| Cartagena de Indias|   24|\n",
            "|                Cali|   23|\n",
            "|        Barranquilla|   11|\n",
            "|         Santa Marta|    7|\n",
            "|             Leticia|    6|\n",
            "|              Cúcuta|    5|\n",
            "|             Soledad|    5|\n",
            "|San Andrés de Tumaco|    4|\n",
            "|             Palmira|    3|\n",
            "+--------------------+-----+\n",
            "only showing top 10 rows\n",
            "\n"
          ],
          "name": "stdout"
        }
      ]
    },
    {
      "cell_type": "code",
      "metadata": {
        "colab_type": "code",
        "outputId": "d0dd3f6d-f741-4144-ddf6-c896e9f5711c",
        "id": "SHuYIspkLBbT",
        "colab": {
          "base_uri": "https://localhost:8080/",
          "height": 221
        }
      },
      "source": [
        "#Mujeres jóvenes muertas\n",
        "dfc_muerte_mujeres= dfc_data.filter(((dfc_data['Sexo']=='F')|(dfc_data['Sexo']=='f'))&(dfc_data['Edad']>=15)&(dfc_data['Edad']<=40)&(dfc_data['Fecha de muerte']!='-   -')).groupBy('Ciudad de ubicación').count().orderBy('count', ascending=False)\n",
        "dfc_muerte_mujeres.show(10)\n",
        "\n",
        "dfc_muerte_mujeres_pandas = dfc_muerte_mujeres.toPandas()\n",
        "dfc_muerte_mujeres_pandas.set_index(\"Ciudad de ubicación\", inplace = True)"
      ],
      "execution_count": 0,
      "outputs": [
        {
          "output_type": "stream",
          "text": [
            "+--------------------+-----+\n",
            "| Ciudad de ubicación|count|\n",
            "+--------------------+-----+\n",
            "|         Bogotá D.C.|    5|\n",
            "| Cartagena de Indias|    2|\n",
            "|          San Martín|    1|\n",
            "|Santander de Quil...|    1|\n",
            "|       Villavicencio|    1|\n",
            "|              Melgar|    1|\n",
            "|         Santa Marta|    1|\n",
            "+--------------------+-----+\n",
            "\n"
          ],
          "name": "stdout"
        }
      ]
    },
    {
      "cell_type": "code",
      "metadata": {
        "id": "jc1nBo3kEUTh",
        "colab_type": "code",
        "outputId": "04d18efc-b703-406a-b263-036124de21c8",
        "colab": {
          "base_uri": "https://localhost:8080/",
          "height": 204
        }
      },
      "source": [
        "ciudad_pandas = dfc_by_ciudad.toPandas()[:10]#necesario para traer todas lasciudades donde hay muertes jóvenes\n",
        "ciudad_pandas.set_index(\"Ciudad de ubicación\", inplace = True)\n",
        "dfc_by_mujeres_pandas_merge = pd.merge(ciudad_pandas,dfc_by_mujeres_pandas, left_index=True, right_index=True)\n",
        "dfc_by_mujeres_pandas_merge = pd.merge(dfc_by_mujeres_pandas_merge,dfc_recuperado_mujeres_pandas, left_index=True, right_index=True)\n",
        "dfc_by_mujeres_pandas_merge = pd.merge(dfc_by_mujeres_pandas_merge,dfc_muerte_mujeres_pandas, left_index=True, right_index=True)\n",
        "dfc_by_mujeres_pandas_merge"
      ],
      "execution_count": 0,
      "outputs": [
        {
          "output_type": "execute_result",
          "data": {
            "text/html": [
              "<div>\n",
              "<style scoped>\n",
              "    .dataframe tbody tr th:only-of-type {\n",
              "        vertical-align: middle;\n",
              "    }\n",
              "\n",
              "    .dataframe tbody tr th {\n",
              "        vertical-align: top;\n",
              "    }\n",
              "\n",
              "    .dataframe thead th {\n",
              "        text-align: right;\n",
              "    }\n",
              "</style>\n",
              "<table border=\"1\" class=\"dataframe\">\n",
              "  <thead>\n",
              "    <tr style=\"text-align: right;\">\n",
              "      <th></th>\n",
              "      <th>count_x</th>\n",
              "      <th>count_y</th>\n",
              "      <th>count_x</th>\n",
              "      <th>count_y</th>\n",
              "    </tr>\n",
              "    <tr>\n",
              "      <th>Ciudad de ubicación</th>\n",
              "      <th></th>\n",
              "      <th></th>\n",
              "      <th></th>\n",
              "      <th></th>\n",
              "    </tr>\n",
              "  </thead>\n",
              "  <tbody>\n",
              "    <tr>\n",
              "      <th>Bogotá D.C.</th>\n",
              "      <td>4892</td>\n",
              "      <td>1108</td>\n",
              "      <td>357</td>\n",
              "      <td>5</td>\n",
              "    </tr>\n",
              "    <tr>\n",
              "      <th>Cartagena de Indias</th>\n",
              "      <td>982</td>\n",
              "      <td>209</td>\n",
              "      <td>36</td>\n",
              "      <td>2</td>\n",
              "    </tr>\n",
              "    <tr>\n",
              "      <th>Villavicencio</th>\n",
              "      <td>912</td>\n",
              "      <td>19</td>\n",
              "      <td>8</td>\n",
              "      <td>1</td>\n",
              "    </tr>\n",
              "    <tr>\n",
              "      <th>Santa Marta</th>\n",
              "      <td>221</td>\n",
              "      <td>59</td>\n",
              "      <td>21</td>\n",
              "      <td>1</td>\n",
              "    </tr>\n",
              "  </tbody>\n",
              "</table>\n",
              "</div>"
            ],
            "text/plain": [
              "                     count_x  count_y  count_x  count_y\n",
              "Ciudad de ubicación                                    \n",
              "Bogotá D.C.             4892     1108      357        5\n",
              "Cartagena de Indias      982      209       36        2\n",
              "Villavicencio            912       19        8        1\n",
              "Santa Marta              221       59       21        1"
            ]
          },
          "metadata": {
            "tags": []
          },
          "execution_count": 110
        }
      ]
    },
    {
      "cell_type": "code",
      "metadata": {
        "id": "S37QNKd5IV_j",
        "colab_type": "code",
        "outputId": "2a876da5-a812-4414-b842-7112eb505bdd",
        "colab": {
          "base_uri": "https://localhost:8080/",
          "height": 479
        }
      },
      "source": [
        "# Grafica de los datos\n",
        "dfc_by_mujeres_pandas_merge.plot.bar(figsize=(10,6)).legend([\"Casos confirmados\", \"Casos mujeres\", \"Mujeres recuperadas\",\"Mujeres muertas\"])\n",
        "plt.show()"
      ],
      "execution_count": 0,
      "outputs": [
        {
          "output_type": "display_data",
          "data": {
            "image/png": "[encoded data removed]",
            "text/plain": [
              "<Figure size 720x432 with 1 Axes>"
            ]
          },
          "metadata": {
            "tags": [],
            "needs_background": "light"
          }
        }
      ]
    },
    {
      "cell_type": "markdown",
      "metadata": {
        "id": "vOd4u7k6Nmj6",
        "colab_type": "text"
      },
      "source": [
        "**Análisis de hombres**"
      ]
    },
    {
      "cell_type": "code",
      "metadata": {
        "id": "eKo8dytSCdU7",
        "colab_type": "code",
        "outputId": "88301649-a598-4b68-fcea-c96c71c28108",
        "colab": {
          "base_uri": "https://localhost:8080/",
          "height": 289
        }
      },
      "source": [
        "#Hacemos el conteo de los hombres contagiados por ciudad\n",
        "dfc_data.filter((dfc_data['Sexo']=='M')|(dfc_data['Sexo']=='m')).groupBy('Ciudad de ubicación').count().orderBy('count', ascending=False).show(10)"
      ],
      "execution_count": 0,
      "outputs": [
        {
          "output_type": "stream",
          "text": [
            "+--------------------+-----+\n",
            "| Ciudad de ubicación|count|\n",
            "+--------------------+-----+\n",
            "|         Bogotá D.C.| 2526|\n",
            "|       Villavicencio|  886|\n",
            "|                Cali|  657|\n",
            "| Cartagena de Indias|  537|\n",
            "|             Leticia|  530|\n",
            "|        Barranquilla|  399|\n",
            "|             Soledad|  245|\n",
            "|            Medellín|  160|\n",
            "|San Andrés de Tumaco|  110|\n",
            "|         Santa Marta|  109|\n",
            "+--------------------+-----+\n",
            "only showing top 10 rows\n",
            "\n"
          ],
          "name": "stdout"
        }
      ]
    },
    {
      "cell_type": "code",
      "metadata": {
        "id": "dp6sRQanBz_R",
        "colab_type": "code",
        "outputId": "00d4b92b-b6db-420d-b218-473d7043b1f6",
        "colab": {
          "base_uri": "https://localhost:8080/",
          "height": 289
        }
      },
      "source": [
        "#Filtramos por hombres Jóvenes\n",
        "dfc_by_hombres= dfc_data.filter(((dfc_data['Sexo']=='M')|(dfc_data['Sexo']=='m'))&(dfc_data['Edad']>=15)&(dfc_data['Edad']<=40)).groupBy('Ciudad de ubicación').count().orderBy('count', ascending=False)\n",
        "dfc_by_hombres.show(10)\n",
        "\n",
        "dfc_by_hombres_pandas = dfc_by_hombres.toPandas()\n",
        "dfc_by_hombres_pandas.set_index(\"Ciudad de ubicación\", inplace = True)"
      ],
      "execution_count": 0,
      "outputs": [
        {
          "output_type": "stream",
          "text": [
            "+-------------------+-----+\n",
            "|Ciudad de ubicación|count|\n",
            "+-------------------+-----+\n",
            "|        Bogotá D.C.| 1243|\n",
            "|      Villavicencio|  642|\n",
            "|            Leticia|  283|\n",
            "|               Cali|  272|\n",
            "|Cartagena de Indias|  270|\n",
            "|       Barranquilla|  191|\n",
            "|            Soledad|  120|\n",
            "|           Medellín|   75|\n",
            "|            Ipiales|   66|\n",
            "|             Ibagué|   53|\n",
            "+-------------------+-----+\n",
            "only showing top 10 rows\n",
            "\n"
          ],
          "name": "stdout"
        }
      ]
    },
    {
      "cell_type": "code",
      "metadata": {
        "id": "oy1LQdXqH7PL",
        "colab_type": "code",
        "outputId": "83ffd4a0-4129-4ecc-b469-869d2fd76c13",
        "colab": {
          "base_uri": "https://localhost:8080/",
          "height": 289
        }
      },
      "source": [
        "#Hombres jóvenes Recuperados\n",
        "dfc_recuperado_hombres= dfc_data.filter(((dfc_data['Sexo']=='M')|(dfc_data['Sexo']=='m'))&(dfc_data['Edad']>=15)&(dfc_data['Edad']<=40)&(dfc_data['Estado']=='Recuperado')).groupBy('Ciudad de ubicación').count().orderBy('count', ascending=False)\n",
        "dfc_recuperado_hombres.show(10)\n",
        "\n",
        "dfc_recuperado_hombres_pandas = dfc_recuperado_hombres.toPandas()\n",
        "dfc_recuperado_hombres_pandas.set_index(\"Ciudad de ubicación\", inplace = True)"
      ],
      "execution_count": 0,
      "outputs": [
        {
          "output_type": "stream",
          "text": [
            "+-------------------+-----+\n",
            "|Ciudad de ubicación|count|\n",
            "+-------------------+-----+\n",
            "|        Bogotá D.C.|  333|\n",
            "|               Cali|   95|\n",
            "|Cartagena de Indias|   37|\n",
            "|           Medellín|   35|\n",
            "|         Valledupar|   20|\n",
            "|        Santa Marta|   17|\n",
            "|      Villavicencio|   16|\n",
            "|            Ciénaga|   16|\n",
            "|       Barranquilla|   16|\n",
            "|            Pereira|   15|\n",
            "+-------------------+-----+\n",
            "only showing top 10 rows\n",
            "\n"
          ],
          "name": "stdout"
        }
      ]
    },
    {
      "cell_type": "code",
      "metadata": {
        "id": "5u7_ThIn5xFd",
        "colab_type": "code",
        "outputId": "c6d3bbec-8d04-425f-8bf6-8d4bbc7f6def",
        "colab": {
          "base_uri": "https://localhost:8080/",
          "height": 289
        }
      },
      "source": [
        "#Vemos cuántos hombres han muerto\n",
        "dfc_data.filter(((dfc_data['Sexo']=='M')|(dfc_data['Sexo']=='m'))&(dfc_data['Fecha de muerte']!='-   -')).groupBy('Ciudad de ubicación').count().orderBy('count', ascending=False).show(10)"
      ],
      "execution_count": 0,
      "outputs": [
        {
          "output_type": "stream",
          "text": [
            "+--------------------+-----+\n",
            "| Ciudad de ubicación|count|\n",
            "+--------------------+-----+\n",
            "|         Bogotá D.C.|   98|\n",
            "|                Cali|   44|\n",
            "| Cartagena de Indias|   32|\n",
            "|             Leticia|   23|\n",
            "|        Barranquilla|   13|\n",
            "|         Santa Marta|   10|\n",
            "|San Andrés de Tumaco|    6|\n",
            "|             Soledad|    6|\n",
            "|          Valledupar|    5|\n",
            "|             Pereira|    5|\n",
            "+--------------------+-----+\n",
            "only showing top 10 rows\n",
            "\n"
          ],
          "name": "stdout"
        }
      ]
    },
    {
      "cell_type": "code",
      "metadata": {
        "colab_type": "code",
        "outputId": "ebcf8807-36ca-4afd-d74b-aa770cbec6e3",
        "id": "j1ABFs2HKp6X",
        "colab": {
          "base_uri": "https://localhost:8080/",
          "height": 238
        }
      },
      "source": [
        "#Hombres jóvenes muertos\n",
        "dfc_muerte_hombres= dfc_data.filter(((dfc_data['Sexo']=='M')|(dfc_data['Sexo']=='m'))&(dfc_data['Edad']>=15)&(dfc_data['Edad']<=40)&(dfc_data['Fecha de muerte']!='-   -')).groupBy('Ciudad de ubicación').count().orderBy('count', ascending=False)\n",
        "dfc_muerte_hombres.show(10)\n",
        "\n",
        "dfc_muerte_hombres_pandas = dfc_muerte_hombres.toPandas()\n",
        "dfc_muerte_hombres_pandas.set_index(\"Ciudad de ubicación\", inplace = True)"
      ],
      "execution_count": 0,
      "outputs": [
        {
          "output_type": "stream",
          "text": [
            "+-------------------+-----+\n",
            "|Ciudad de ubicación|count|\n",
            "+-------------------+-----+\n",
            "|        Bogotá D.C.|    9|\n",
            "|               Cali|    4|\n",
            "|       Barranquilla|    3|\n",
            "|             Ibagué|    2|\n",
            "|           Pitalito|    2|\n",
            "|Cartagena de Indias|    2|\n",
            "|             Soacha|    1|\n",
            "|            Ipiales|    1|\n",
            "+-------------------+-----+\n",
            "\n"
          ],
          "name": "stdout"
        }
      ]
    },
    {
      "cell_type": "code",
      "metadata": {
        "id": "2_zRv2DlKD2S",
        "colab_type": "code",
        "outputId": "07069d2e-e2fb-4abd-d01a-2c602dc90f56",
        "colab": {
          "base_uri": "https://localhost:8080/",
          "height": 204
        }
      },
      "source": [
        "ciudad_pandas = dfc_by_ciudad.toPandas()[:10]#necesario para traer todas lasciudades donde hay muertes jóvenes\n",
        "ciudad_pandas.set_index(\"Ciudad de ubicación\", inplace = True)\n",
        "dfc_by_hombres_pandas_merge = pd.merge(ciudad_pandas,dfc_by_hombres_pandas, left_index=True, right_index=True)\n",
        "dfc_by_hombres_pandas_merge = pd.merge(dfc_by_hombres_pandas_merge,dfc_recuperado_hombres_pandas, left_index=True, right_index=True)\n",
        "dfc_by_hombres_pandas_merge = pd.merge(dfc_by_hombres_pandas_merge,dfc_muerte_hombres_pandas, left_index=True, right_index=True)\n",
        "dfc_by_hombres_pandas_merge"
      ],
      "execution_count": 0,
      "outputs": [
        {
          "output_type": "execute_result",
          "data": {
            "text/html": [
              "<div>\n",
              "<style scoped>\n",
              "    .dataframe tbody tr th:only-of-type {\n",
              "        vertical-align: middle;\n",
              "    }\n",
              "\n",
              "    .dataframe tbody tr th {\n",
              "        vertical-align: top;\n",
              "    }\n",
              "\n",
              "    .dataframe thead th {\n",
              "        text-align: right;\n",
              "    }\n",
              "</style>\n",
              "<table border=\"1\" class=\"dataframe\">\n",
              "  <thead>\n",
              "    <tr style=\"text-align: right;\">\n",
              "      <th></th>\n",
              "      <th>count_x</th>\n",
              "      <th>count_y</th>\n",
              "      <th>count_x</th>\n",
              "      <th>count_y</th>\n",
              "    </tr>\n",
              "    <tr>\n",
              "      <th>Ciudad de ubicación</th>\n",
              "      <th></th>\n",
              "      <th></th>\n",
              "      <th></th>\n",
              "      <th></th>\n",
              "    </tr>\n",
              "  </thead>\n",
              "  <tbody>\n",
              "    <tr>\n",
              "      <th>Bogotá D.C.</th>\n",
              "      <td>4892</td>\n",
              "      <td>1243</td>\n",
              "      <td>333</td>\n",
              "      <td>9</td>\n",
              "    </tr>\n",
              "    <tr>\n",
              "      <th>Cali</th>\n",
              "      <td>1237</td>\n",
              "      <td>272</td>\n",
              "      <td>95</td>\n",
              "      <td>4</td>\n",
              "    </tr>\n",
              "    <tr>\n",
              "      <th>Cartagena de Indias</th>\n",
              "      <td>982</td>\n",
              "      <td>270</td>\n",
              "      <td>37</td>\n",
              "      <td>2</td>\n",
              "    </tr>\n",
              "    <tr>\n",
              "      <th>Barranquilla</th>\n",
              "      <td>693</td>\n",
              "      <td>191</td>\n",
              "      <td>16</td>\n",
              "      <td>3</td>\n",
              "    </tr>\n",
              "  </tbody>\n",
              "</table>\n",
              "</div>"
            ],
            "text/plain": [
              "                     count_x  count_y  count_x  count_y\n",
              "Ciudad de ubicación                                    \n",
              "Bogotá D.C.             4892     1243      333        9\n",
              "Cali                    1237      272       95        4\n",
              "Cartagena de Indias      982      270       37        2\n",
              "Barranquilla             693      191       16        3"
            ]
          },
          "metadata": {
            "tags": []
          },
          "execution_count": 112
        }
      ]
    },
    {
      "cell_type": "code",
      "metadata": {
        "id": "N0eV30cjLFij",
        "colab_type": "code",
        "outputId": "cfdc97ab-d61d-4c2e-867e-20dbd816ff87",
        "colab": {
          "base_uri": "https://localhost:8080/",
          "height": 479
        }
      },
      "source": [
        "#Grafica de datos\n",
        "dfc_by_hombres_pandas_merge.plot.bar(figsize=(10,6)).legend([\"Casos confirmados\", \"Casos hombres\", \"hombres recuperados\",\"Hombres muertos\"])\n",
        "plt.show()"
      ],
      "execution_count": 0,
      "outputs": [
        {
          "output_type": "display_data",
          "data": {
            "image/png": "[encoded data removed]",
            "text/plain": [
              "<Figure size 720x432 with 1 Axes>"
            ]
          },
          "metadata": {
            "tags": [],
            "needs_background": "light"
          }
        }
      ]
    },
    {
      "cell_type": "markdown",
      "metadata": {
        "id": "t048ksnaP-Wp",
        "colab_type": "text"
      },
      "source": [
        "**Ahora hacemos un análisis por fechas y país de procedencia**"
      ]
    },
    {
      "cell_type": "code",
      "metadata": {
        "id": "72GtIkLhXt5n",
        "colab_type": "code",
        "outputId": "27a93d50-de3c-4e7e-e1c6-be7224c44825",
        "colab": {
          "base_uri": "https://localhost:8080/",
          "height": 289
        }
      },
      "source": [
        "dfc_by_diagnosticos = dfc_data.filter((dfc_data['Fecha diagnostico']!='-   -')&(dfc_data['País de procedencia']!='Colombia')).groupBy('País de procedencia').count().orderBy('count', ascending=False)\n",
        "dfc_by_diagnosticos.show(10)\n",
        "\n",
        "dfc_by_diagnosticos_pandas = dfc_by_diagnosticos.toPandas()\n",
        "dfc_by_diagnosticos_pandas.set_index(\"País de procedencia\", inplace = True)"
      ],
      "execution_count": 0,
      "outputs": [
        {
          "output_type": "stream",
          "text": [
            "+--------------------+-----+\n",
            "| País de procedencia|count|\n",
            "+--------------------+-----+\n",
            "|              España|  259|\n",
            "|Estados Unidos de...|  217|\n",
            "|             Ecuador|   50|\n",
            "|              México|   49|\n",
            "|              Brasil|   37|\n",
            "|              Panamá|   34|\n",
            "|             Turquía|   28|\n",
            "|             Jamaica|   16|\n",
            "|             Francia|   16|\n",
            "|         Reino Unido|   14|\n",
            "+--------------------+-----+\n",
            "only showing top 10 rows\n",
            "\n"
          ],
          "name": "stdout"
        }
      ]
    },
    {
      "cell_type": "code",
      "metadata": {
        "id": "hXItOsgoP9LA",
        "colab_type": "code",
        "outputId": "51888589-6267-4477-8698-03f0352fc1da",
        "colab": {
          "base_uri": "https://localhost:8080/",
          "height": 272
        }
      },
      "source": [
        "dfc_by_muertes = dfc_data.filter((dfc_data['Fecha de muerte']!='-   -')&(dfc_data['País de procedencia']!='Colombia')).groupBy('País de procedencia').count().orderBy('count', ascending=False)\n",
        "dfc_by_muertes.show(10)\n",
        "\n",
        "dfc_by_muertes_pandas = dfc_by_muertes.toPandas()\n",
        "dfc_by_muertes_pandas.set_index(\"País de procedencia\", inplace = True)"
      ],
      "execution_count": 0,
      "outputs": [
        {
          "output_type": "stream",
          "text": [
            "+--------------------+-----+\n",
            "| País de procedencia|count|\n",
            "+--------------------+-----+\n",
            "|Estados Unidos de...|    5|\n",
            "|              España|    4|\n",
            "|           Venezuela|    2|\n",
            "|              Brasil|    2|\n",
            "|              Egipto|    1|\n",
            "|             Ecuador|    1|\n",
            "|              Panamá|    1|\n",
            "|#indicator+infect...|    1|\n",
            "|            Alemania|    1|\n",
            "|             Turquía|    1|\n",
            "+--------------------+-----+\n",
            "\n"
          ],
          "name": "stdout"
        }
      ]
    },
    {
      "cell_type": "code",
      "metadata": {
        "id": "dVr49DGvVb9D",
        "colab_type": "code",
        "outputId": "0be423c5-d2a7-448a-a255-ec77078e6a57",
        "colab": {
          "base_uri": "https://localhost:8080/",
          "height": 289
        }
      },
      "source": [
        "dfc_by_recuperados = dfc_data.filter((dfc_data['Fecha recuperado']!='-   -')&(dfc_data['País de procedencia']!='Colombia')).groupBy('País de procedencia').count().orderBy('count', ascending=False)\n",
        "dfc_by_recuperados.show(10)\n",
        "\n",
        "dfc_by_recuperados_pandas = dfc_by_recuperados.toPandas()\n",
        "dfc_by_recuperados_pandas.set_index(\"País de procedencia\", inplace = True)"
      ],
      "execution_count": 0,
      "outputs": [
        {
          "output_type": "stream",
          "text": [
            "+--------------------+-----+\n",
            "| País de procedencia|count|\n",
            "+--------------------+-----+\n",
            "|              España|  230|\n",
            "|Estados Unidos de...|  185|\n",
            "|             Ecuador|   44|\n",
            "|              México|   40|\n",
            "|              Panamá|   28|\n",
            "|             Turquía|   24|\n",
            "|              Brasil|   17|\n",
            "|             Jamaica|   16|\n",
            "|             Francia|   15|\n",
            "|         Reino Unido|   14|\n",
            "+--------------------+-----+\n",
            "only showing top 10 rows\n",
            "\n"
          ],
          "name": "stdout"
        }
      ]
    },
    {
      "cell_type": "code",
      "metadata": {
        "id": "fJOMDVL_NSHw",
        "colab_type": "code",
        "outputId": "d2fcb759-d1fc-43dc-aa3c-51ee786b4cd1",
        "colab": {
          "base_uri": "https://localhost:8080/",
          "height": 390
        }
      },
      "source": [
        "dfc_by_pais_pandas_merge = pd.merge(dfc_by_diagnosticos_pandas, dfc_by_muertes_pandas, left_index=True, right_index=True)\n",
        "dfc_by_pais_pandas_merge = pd.merge(dfc_by_pais_pandas_merge,dfc_by_recuperados_pandas, left_index=True, right_index=True)\n",
        "dfc_by_pais_pandas_merge"
      ],
      "execution_count": 0,
      "outputs": [
        {
          "output_type": "execute_result",
          "data": {
            "text/html": [
              "<div>\n",
              "<style scoped>\n",
              "    .dataframe tbody tr th:only-of-type {\n",
              "        vertical-align: middle;\n",
              "    }\n",
              "\n",
              "    .dataframe tbody tr th {\n",
              "        vertical-align: top;\n",
              "    }\n",
              "\n",
              "    .dataframe thead th {\n",
              "        text-align: right;\n",
              "    }\n",
              "</style>\n",
              "<table border=\"1\" class=\"dataframe\">\n",
              "  <thead>\n",
              "    <tr style=\"text-align: right;\">\n",
              "      <th></th>\n",
              "      <th>count_x</th>\n",
              "      <th>count_y</th>\n",
              "      <th>count</th>\n",
              "    </tr>\n",
              "    <tr>\n",
              "      <th>País de procedencia</th>\n",
              "      <th></th>\n",
              "      <th></th>\n",
              "      <th></th>\n",
              "    </tr>\n",
              "  </thead>\n",
              "  <tbody>\n",
              "    <tr>\n",
              "      <th>España</th>\n",
              "      <td>259</td>\n",
              "      <td>4</td>\n",
              "      <td>230</td>\n",
              "    </tr>\n",
              "    <tr>\n",
              "      <th>Estados Unidos de América</th>\n",
              "      <td>217</td>\n",
              "      <td>5</td>\n",
              "      <td>185</td>\n",
              "    </tr>\n",
              "    <tr>\n",
              "      <th>Ecuador</th>\n",
              "      <td>50</td>\n",
              "      <td>1</td>\n",
              "      <td>44</td>\n",
              "    </tr>\n",
              "    <tr>\n",
              "      <th>Brasil</th>\n",
              "      <td>37</td>\n",
              "      <td>2</td>\n",
              "      <td>17</td>\n",
              "    </tr>\n",
              "    <tr>\n",
              "      <th>Panamá</th>\n",
              "      <td>34</td>\n",
              "      <td>1</td>\n",
              "      <td>28</td>\n",
              "    </tr>\n",
              "    <tr>\n",
              "      <th>Turquía</th>\n",
              "      <td>28</td>\n",
              "      <td>1</td>\n",
              "      <td>24</td>\n",
              "    </tr>\n",
              "    <tr>\n",
              "      <th>Egipto</th>\n",
              "      <td>11</td>\n",
              "      <td>1</td>\n",
              "      <td>6</td>\n",
              "    </tr>\n",
              "    <tr>\n",
              "      <th>Alemania</th>\n",
              "      <td>10</td>\n",
              "      <td>1</td>\n",
              "      <td>9</td>\n",
              "    </tr>\n",
              "    <tr>\n",
              "      <th>Venezuela</th>\n",
              "      <td>4</td>\n",
              "      <td>2</td>\n",
              "      <td>1</td>\n",
              "    </tr>\n",
              "    <tr>\n",
              "      <th>#indicator+infected+origin</th>\n",
              "      <td>1</td>\n",
              "      <td>1</td>\n",
              "      <td>1</td>\n",
              "    </tr>\n",
              "  </tbody>\n",
              "</table>\n",
              "</div>"
            ],
            "text/plain": [
              "                            count_x  count_y  count\n",
              "País de procedencia                                \n",
              "España                          259        4    230\n",
              "Estados Unidos de América       217        5    185\n",
              "Ecuador                          50        1     44\n",
              "Brasil                           37        2     17\n",
              "Panamá                           34        1     28\n",
              "Turquía                          28        1     24\n",
              "Egipto                           11        1      6\n",
              "Alemania                         10        1      9\n",
              "Venezuela                         4        2      1\n",
              "#indicator+infected+origin        1        1      1"
            ]
          },
          "metadata": {
            "tags": []
          },
          "execution_count": 114
        }
      ]
    },
    {
      "cell_type": "code",
      "metadata": {
        "id": "i5DPOFLkNSCe",
        "colab_type": "code",
        "outputId": "8796f040-e90e-4936-fdb5-bf41fbf945ee",
        "colab": {
          "base_uri": "https://localhost:8080/",
          "height": 517
        }
      },
      "source": [
        "#Grafica de datos\n",
        "dfc_by_pais_pandas_merge.plot.bar(figsize=(10,6)).legend([\"Casos extranjeros\", \"Muerte de extranjeros\", \"Extranjeros recuperadps\"])\n",
        "plt.show()"
      ],
      "execution_count": 0,
      "outputs": [
        {
          "output_type": "display_data",
          "data": {
            "image/png": "[encoded data removed]",
            "text/plain": [
              "<Figure size 720x432 with 1 Axes>"
            ]
          },
          "metadata": {
            "tags": [],
            "needs_background": "light"
          }
        }
      ]
    }
  ]
}